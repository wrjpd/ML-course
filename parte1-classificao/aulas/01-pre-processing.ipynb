{
 "cells": [
  {
   "cell_type": "markdown",
   "metadata": {
    "id": "bdeWF9k0L2YT"
   },
   "source": [
    "# Machine Learning e Data Science com Python de A à Z (Classificacão) - IA Expert Academy"
   ]
  },
  {
   "cell_type": "markdown",
   "metadata": {
    "id": "hfYbHgghOW5g"
   },
   "source": [
    "# Importação das bibliotecas básicas"
   ]
  },
  {
   "cell_type": "code",
   "execution_count": 2,
   "metadata": {
    "colab": {
     "base_uri": "https://localhost:8080/"
    },
    "id": "IyRCfZ_fhLef",
    "outputId": "b301f879-b287-4ee2-f04e-4fea027a025e"
   },
   "outputs": [],
   "source": [
    "!pip -q install plotly --upgrade"
   ]
  },
  {
   "cell_type": "code",
   "execution_count": 3,
   "metadata": {
    "id": "WOUlbp8VUhTT"
   },
   "outputs": [],
   "source": [
    "!pip -q install yellowbrick"
   ]
  },
  {
   "cell_type": "code",
   "execution_count": 4,
   "metadata": {
    "id": "nVP1Ah9dhd1F"
   },
   "outputs": [],
   "source": [
    "import pandas as pd\n",
    "import numpy as np\n",
    "import seaborn as sns\n",
    "import matplotlib.pyplot as plt\n",
    "import plotly.express as px"
   ]
  },
  {
   "cell_type": "markdown",
   "metadata": {
    "id": "d4GPkpRVTfq4",
    "jp-MarkdownHeadingCollapsed": true
   },
   "source": [
    "# Base de dados de crédito\n",
    "\n",
    "- Fonte (adaptado): https://www.kaggle.com/laotse/credit-risk-dataset"
   ]
  },
  {
   "cell_type": "code",
   "execution_count": 5,
   "metadata": {
    "colab": {
     "base_uri": "https://localhost:8080/"
    },
    "id": "2ikfKSdGINxr",
    "outputId": "cb11625b-9621-4f12-ceb3-0c74d4388e05"
   },
   "outputs": [
    {
     "ename": "ModuleNotFoundError",
     "evalue": "No module named 'google'",
     "output_type": "error",
     "traceback": [
      "\u001b[1;31m---------------------------------------------------------------------------\u001b[0m",
      "\u001b[1;31mModuleNotFoundError\u001b[0m                       Traceback (most recent call last)",
      "Cell \u001b[1;32mIn[5], line 1\u001b[0m\n\u001b[1;32m----> 1\u001b[0m \u001b[38;5;28;01mfrom\u001b[39;00m \u001b[38;5;21;01mgoogle\u001b[39;00m\u001b[38;5;21;01m.\u001b[39;00m\u001b[38;5;21;01mcolab\u001b[39;00m \u001b[38;5;28;01mimport\u001b[39;00m drive\n\u001b[0;32m      2\u001b[0m drive\u001b[38;5;241m.\u001b[39mmount(\u001b[38;5;124m'\u001b[39m\u001b[38;5;124m/content/drive\u001b[39m\u001b[38;5;124m'\u001b[39m)\n",
      "\u001b[1;31mModuleNotFoundError\u001b[0m: No module named 'google'"
     ]
    }
   ],
   "source": [
    "from google.colab import drive\n",
    "drive.mount('/content/drive')"
   ]
  },
  {
   "cell_type": "markdown",
   "metadata": {
    "id": "oCVRZFuyXPR9"
   },
   "source": [
    "### Exploração dos dados"
   ]
  },
  {
   "cell_type": "code",
   "execution_count": null,
   "metadata": {
    "id": "3PkyBwG_jPVQ"
   },
   "outputs": [],
   "source": [
    "base_credit = pd.read_csv('/content/credit_data.csv')"
   ]
  },
  {
   "cell_type": "code",
   "execution_count": null,
   "metadata": {
    "colab": {
     "base_uri": "https://localhost:8080/",
     "height": 423
    },
    "id": "BGT1Pt5UjuNG",
    "outputId": "6183831b-662f-4325-e29e-88f0d1f7353d"
   },
   "outputs": [],
   "source": [
    "base_credit # defaulted"
   ]
  },
  {
   "cell_type": "code",
   "execution_count": null,
   "metadata": {
    "colab": {
     "base_uri": "https://localhost:8080/",
     "height": 363
    },
    "id": "P59lt7V6mC-d",
    "outputId": "520e9e87-c416-4b75-d7c1-0e4af4856cc1"
   },
   "outputs": [],
   "source": [
    "base_credit.head(10)"
   ]
  },
  {
   "cell_type": "code",
   "execution_count": null,
   "metadata": {
    "colab": {
     "base_uri": "https://localhost:8080/",
     "height": 300
    },
    "id": "dx3vdq7LmJEy",
    "outputId": "847315c5-cccc-43d6-a59e-5e2d3daf5f1a"
   },
   "outputs": [],
   "source": [
    "base_credit.tail(8)"
   ]
  },
  {
   "cell_type": "code",
   "execution_count": null,
   "metadata": {
    "colab": {
     "base_uri": "https://localhost:8080/",
     "height": 300
    },
    "id": "Mkj0aqNbmQfn",
    "outputId": "8fa0cbc0-1a1b-46e8-d6b9-c8c7d4f11568"
   },
   "outputs": [],
   "source": [
    "base_credit.describe()"
   ]
  },
  {
   "cell_type": "code",
   "execution_count": null,
   "metadata": {
    "colab": {
     "base_uri": "https://localhost:8080/",
     "height": 81
    },
    "id": "z0hYcUcXm14C",
    "outputId": "227ddf5f-802f-41ad-a75b-f99646a75504"
   },
   "outputs": [],
   "source": [
    "base_credit[base_credit['income'] >= 69995.685578]"
   ]
  },
  {
   "cell_type": "code",
   "execution_count": null,
   "metadata": {
    "colab": {
     "base_uri": "https://localhost:8080/",
     "height": 81
    },
    "id": "DzoVM7wsnH3N",
    "outputId": "417bcbe2-a2c5-4839-bcfc-3301cf149df4"
   },
   "outputs": [],
   "source": [
    "base_credit[base_credit['loan'] <= 1.377630]"
   ]
  },
  {
   "cell_type": "markdown",
   "metadata": {
    "id": "x23iAAKsQ-iU"
   },
   "source": [
    "### Visualização dos dados"
   ]
  },
  {
   "cell_type": "code",
   "execution_count": null,
   "metadata": {
    "colab": {
     "base_uri": "https://localhost:8080/"
    },
    "id": "doutRvJ8pGOy",
    "outputId": "fde6a157-bf07-479c-9c13-fd09d36c3d29"
   },
   "outputs": [],
   "source": [
    "np.unique(base_credit['default'], return_counts=True)"
   ]
  },
  {
   "cell_type": "code",
   "execution_count": null,
   "metadata": {
    "colab": {
     "base_uri": "https://localhost:8080/",
     "height": 279
    },
    "id": "XXQBO5VZpfVa",
    "outputId": "360bede0-ccab-467c-9881-77b7be0eea13"
   },
   "outputs": [],
   "source": [
    "sns.countplot(x = base_credit['default']);"
   ]
  },
  {
   "cell_type": "code",
   "execution_count": null,
   "metadata": {
    "colab": {
     "base_uri": "https://localhost:8080/",
     "height": 265
    },
    "id": "1f5YJJv8pssr",
    "outputId": "931d8d82-3756-46b0-b797-f497f9953a16"
   },
   "outputs": [],
   "source": [
    "plt.hist(x = base_credit['age']);"
   ]
  },
  {
   "cell_type": "code",
   "execution_count": null,
   "metadata": {
    "colab": {
     "base_uri": "https://localhost:8080/",
     "height": 265
    },
    "id": "vaP5Rd2bqEU5",
    "outputId": "269a8c42-e519-463d-9b9b-8b26b20ea70c"
   },
   "outputs": [],
   "source": [
    "plt.hist(x = base_credit['income']);"
   ]
  },
  {
   "cell_type": "code",
   "execution_count": null,
   "metadata": {
    "colab": {
     "base_uri": "https://localhost:8080/",
     "height": 265
    },
    "id": "ZSWkxX1WqYBw",
    "outputId": "4dad4022-92f6-4cd2-b960-810c0a5029de"
   },
   "outputs": [],
   "source": [
    "plt.hist(x = base_credit['loan']);"
   ]
  },
  {
   "cell_type": "code",
   "execution_count": null,
   "metadata": {
    "colab": {
     "base_uri": "https://localhost:8080/",
     "height": 542
    },
    "id": "yE8db9FxqrmQ",
    "outputId": "8b644f74-192e-4491-f667-c1a791eb6d41"
   },
   "outputs": [],
   "source": [
    "grafico = px.scatter_matrix(base_credit, dimensions=['age', 'income', 'loan'], color = 'default')\n",
    "grafico.show()"
   ]
  },
  {
   "cell_type": "markdown",
   "metadata": {
    "id": "9JL8G9jQXTLF"
   },
   "source": [
    "### Tratamento de valores inconsistentes"
   ]
  },
  {
   "cell_type": "code",
   "execution_count": null,
   "metadata": {
    "colab": {
     "base_uri": "https://localhost:8080/",
     "height": 143
    },
    "id": "ALmgKrH7tXcj",
    "outputId": "a0db05ae-9023-4b60-98a6-d1ee090519df"
   },
   "outputs": [],
   "source": [
    "base_credit.loc[base_credit['age'] < 0]"
   ]
  },
  {
   "cell_type": "code",
   "execution_count": null,
   "metadata": {
    "colab": {
     "base_uri": "https://localhost:8080/",
     "height": 143
    },
    "id": "9ioniRIJtjAq",
    "outputId": "3b7f6a89-d9c0-49a8-bde9-2a3c3edbf2bd"
   },
   "outputs": [],
   "source": [
    "base_credit[base_credit['age'] < 0]"
   ]
  },
  {
   "cell_type": "code",
   "execution_count": null,
   "metadata": {
    "colab": {
     "base_uri": "https://localhost:8080/",
     "height": 423
    },
    "id": "oL36X85otuBI",
    "outputId": "9f02f0a8-8ed6-425c-e087-67856541c31b"
   },
   "outputs": [],
   "source": [
    "# Apagar a coluna inteira (de todos os registros da base de dados)\n",
    "base_credit2 = base_credit.drop('age', axis = 1)\n",
    "base_credit2"
   ]
  },
  {
   "cell_type": "code",
   "execution_count": null,
   "metadata": {
    "colab": {
     "base_uri": "https://localhost:8080/"
    },
    "id": "Nk9ps2-ButRQ",
    "outputId": "78802db3-40df-40ea-ac12-b1fb2b0402d7"
   },
   "outputs": [],
   "source": [
    "base_credit.index"
   ]
  },
  {
   "cell_type": "code",
   "execution_count": null,
   "metadata": {
    "colab": {
     "base_uri": "https://localhost:8080/"
    },
    "id": "8-qXwiNAu08w",
    "outputId": "bb64113d-1bba-4b74-fd7e-1d8fbe172b86"
   },
   "outputs": [],
   "source": [
    "base_credit[base_credit['age'] < 0].index"
   ]
  },
  {
   "cell_type": "code",
   "execution_count": null,
   "metadata": {
    "colab": {
     "base_uri": "https://localhost:8080/",
     "height": 423
    },
    "id": "Ig453GBmuROs",
    "outputId": "37424545-71d4-462f-920d-7c98cb0f3bd0"
   },
   "outputs": [],
   "source": [
    "# Apagar somente os registros com valores inconsistentes\n",
    "base_credit3 = base_credit.drop(base_credit[base_credit['age'] < 0].index)\n",
    "base_credit3"
   ]
  },
  {
   "cell_type": "code",
   "execution_count": null,
   "metadata": {
    "colab": {
     "base_uri": "https://localhost:8080/",
     "height": 49
    },
    "id": "dyU9BJOYvDvR",
    "outputId": "bbaa68b3-df8b-497a-b410-bdbc5e27f4f0"
   },
   "outputs": [],
   "source": [
    "base_credit3.loc[base_credit3['age'] < 0]"
   ]
  },
  {
   "cell_type": "code",
   "execution_count": null,
   "metadata": {
    "id": "eQc-wAKuvLEo"
   },
   "outputs": [],
   "source": [
    "# Preencher os valores inconsistente manualmente"
   ]
  },
  {
   "cell_type": "code",
   "execution_count": null,
   "metadata": {
    "id": "1iWxHoZewHVS"
   },
   "outputs": [],
   "source": [
    "# Prencher a média"
   ]
  },
  {
   "cell_type": "code",
   "execution_count": null,
   "metadata": {
    "colab": {
     "base_uri": "https://localhost:8080/"
    },
    "id": "hdx7J_U8wKhC",
    "outputId": "b54362cf-593a-4812-cf55-39f8a19976ea"
   },
   "outputs": [],
   "source": [
    "base_credit.mean()"
   ]
  },
  {
   "cell_type": "code",
   "execution_count": null,
   "metadata": {
    "colab": {
     "base_uri": "https://localhost:8080/"
    },
    "id": "fjhlFxNSwPP6",
    "outputId": "eb786a5b-3da1-4825-9efa-5247b03882d4"
   },
   "outputs": [],
   "source": [
    "base_credit['age'].mean()"
   ]
  },
  {
   "cell_type": "code",
   "execution_count": null,
   "metadata": {
    "colab": {
     "base_uri": "https://localhost:8080/"
    },
    "id": "4UF1xhACwXNh",
    "outputId": "3894434f-15f1-4b49-efc7-d938a4f4ec4d"
   },
   "outputs": [],
   "source": [
    "base_credit['age'][base_credit['age'] > 0].mean()"
   ]
  },
  {
   "cell_type": "code",
   "execution_count": null,
   "metadata": {
    "id": "cRQB2zXuwvlF"
   },
   "outputs": [],
   "source": [
    "base_credit.loc[base_credit['age'] < 0, 'age'] = 40.92"
   ]
  },
  {
   "cell_type": "code",
   "execution_count": null,
   "metadata": {
    "colab": {
     "base_uri": "https://localhost:8080/",
     "height": 49
    },
    "id": "mMif3tozw8fv",
    "outputId": "b3acba83-c839-4e9c-a0f3-e60e2aebe35d"
   },
   "outputs": [],
   "source": [
    "base_credit.loc[base_credit['age'] < 0]"
   ]
  },
  {
   "cell_type": "code",
   "execution_count": null,
   "metadata": {
    "colab": {
     "base_uri": "https://localhost:8080/",
     "height": 896
    },
    "id": "M_G2QVWNxCVk",
    "outputId": "f0083210-4d84-479f-f68c-cd1fe86011e6"
   },
   "outputs": [],
   "source": [
    "base_credit.head(27)"
   ]
  },
  {
   "cell_type": "markdown",
   "metadata": {
    "id": "JpDM1Er1obkO"
   },
   "source": [
    "### Tratamento de valores faltantes"
   ]
  },
  {
   "cell_type": "code",
   "execution_count": null,
   "metadata": {
    "colab": {
     "base_uri": "https://localhost:8080/",
     "height": 423
    },
    "id": "-lch6VMX_esr",
    "outputId": "5e0440b1-d088-4316-bd9a-57c5cae750a5"
   },
   "outputs": [],
   "source": [
    "base_credit.isnull()"
   ]
  },
  {
   "cell_type": "code",
   "execution_count": null,
   "metadata": {
    "colab": {
     "base_uri": "https://localhost:8080/"
    },
    "id": "hEXBhxn3_r1k",
    "outputId": "7d7b64d3-e9a8-476f-b4f4-11e7b487f619"
   },
   "outputs": [],
   "source": [
    "base_credit.isnull().sum()"
   ]
  },
  {
   "cell_type": "code",
   "execution_count": null,
   "metadata": {
    "colab": {
     "base_uri": "https://localhost:8080/",
     "height": 143
    },
    "id": "4M4AaOAM_2a7",
    "outputId": "6af6155e-9145-4515-c317-b27feb197c95"
   },
   "outputs": [],
   "source": [
    "base_credit.loc[pd.isnull(base_credit['age'])]"
   ]
  },
  {
   "cell_type": "code",
   "execution_count": null,
   "metadata": {
    "id": "M7lQBKkIAH9U"
   },
   "outputs": [],
   "source": [
    "base_credit['age'].fillna(base_credit['age'].mean(), inplace = True)"
   ]
  },
  {
   "cell_type": "code",
   "execution_count": null,
   "metadata": {
    "colab": {
     "base_uri": "https://localhost:8080/",
     "height": 49
    },
    "id": "6JOHQVtBAjLT",
    "outputId": "c5e726ca-457f-49c9-e3ba-261a875cada2"
   },
   "outputs": [],
   "source": [
    "base_credit.loc[pd.isnull(base_credit['age'])]"
   ]
  },
  {
   "cell_type": "code",
   "execution_count": null,
   "metadata": {
    "colab": {
     "base_uri": "https://localhost:8080/",
     "height": 143
    },
    "id": "CqfBp5PhAqdx",
    "outputId": "628832bb-5c65-440f-9f68-daeb9aefa227"
   },
   "outputs": [],
   "source": [
    "base_credit.loc[(base_credit['clientid'] == 29) | (base_credit['clientid'] == 31) | (base_credit['clientid'] == 32)]"
   ]
  },
  {
   "cell_type": "code",
   "execution_count": null,
   "metadata": {
    "colab": {
     "base_uri": "https://localhost:8080/",
     "height": 143
    },
    "id": "h25oSZkQA6Sr",
    "outputId": "97b138e2-91d9-4fda-e689-ab011c74c4fd"
   },
   "outputs": [],
   "source": [
    "base_credit.loc[base_credit['clientid'].isin([29, 31, 32])]"
   ]
  },
  {
   "cell_type": "markdown",
   "metadata": {
    "id": "cOSLRdDEsWFx"
   },
   "source": [
    "### Divisão entre previsores e classe"
   ]
  },
  {
   "cell_type": "code",
   "execution_count": null,
   "metadata": {
    "colab": {
     "base_uri": "https://localhost:8080/"
    },
    "id": "ReMHYZlvC1tt",
    "outputId": "8adaea4b-2ac4-4910-9f54-deae1c317f05"
   },
   "outputs": [],
   "source": [
    "type(base_credit)"
   ]
  },
  {
   "cell_type": "code",
   "execution_count": null,
   "metadata": {
    "id": "JeE1xaPHB_vo"
   },
   "outputs": [],
   "source": [
    "X_credit = base_credit.iloc[:, 1:4].values"
   ]
  },
  {
   "cell_type": "code",
   "execution_count": null,
   "metadata": {
    "colab": {
     "base_uri": "https://localhost:8080/"
    },
    "id": "INAZxMaDCr20",
    "outputId": "1e43365f-c7db-4cc5-e3b1-5060f4227eea"
   },
   "outputs": [],
   "source": [
    "X_credit"
   ]
  },
  {
   "cell_type": "code",
   "execution_count": null,
   "metadata": {
    "colab": {
     "base_uri": "https://localhost:8080/"
    },
    "id": "TM48eNGdCy1k",
    "outputId": "2676ac28-ea7c-43ec-928c-f1f311f629d7"
   },
   "outputs": [],
   "source": [
    "type(X_credit)"
   ]
  },
  {
   "cell_type": "code",
   "execution_count": null,
   "metadata": {
    "id": "usDHmfBTC64Y"
   },
   "outputs": [],
   "source": [
    "y_credit = base_credit.iloc[:, 4].values"
   ]
  },
  {
   "cell_type": "code",
   "execution_count": null,
   "metadata": {
    "colab": {
     "base_uri": "https://localhost:8080/"
    },
    "id": "2_XXNWDVDDRE",
    "outputId": "e6585a34-e40c-4aa1-9516-ee0ad9286e01"
   },
   "outputs": [],
   "source": [
    "y_credit"
   ]
  },
  {
   "cell_type": "code",
   "execution_count": null,
   "metadata": {
    "colab": {
     "base_uri": "https://localhost:8080/"
    },
    "id": "0h552IwQDG14",
    "outputId": "e0e138c0-a56d-4c90-c479-358dadd17353"
   },
   "outputs": [],
   "source": [
    "type(y_credit)"
   ]
  },
  {
   "cell_type": "markdown",
   "metadata": {
    "id": "S_jbxLwqu4fQ"
   },
   "source": [
    "### Escalonamento dos valores"
   ]
  },
  {
   "cell_type": "code",
   "execution_count": null,
   "metadata": {
    "colab": {
     "base_uri": "https://localhost:8080/"
    },
    "id": "EM6wEXhQFP4u",
    "outputId": "5932571c-3a7a-46e9-9084-dcbc396eba0f"
   },
   "outputs": [],
   "source": [
    "X_credit"
   ]
  },
  {
   "cell_type": "code",
   "execution_count": null,
   "metadata": {
    "colab": {
     "base_uri": "https://localhost:8080/"
    },
    "id": "Hg3f5RV6FZwl",
    "outputId": "e8a48bf8-f6c4-44be-bb39-98e7c9a1f284"
   },
   "outputs": [],
   "source": [
    "X_credit[:,0].min(), X_credit[:,1].min(), X_credit[:,2].min()"
   ]
  },
  {
   "cell_type": "code",
   "execution_count": null,
   "metadata": {
    "colab": {
     "base_uri": "https://localhost:8080/"
    },
    "id": "GCaRQEI6Fj65",
    "outputId": "cf1defe0-011c-4db8-b300-8bfc16f1189c"
   },
   "outputs": [],
   "source": [
    "X_credit[:,0].max(), X_credit[:,1].max(), X_credit[:,2].max()"
   ]
  },
  {
   "cell_type": "code",
   "execution_count": null,
   "metadata": {
    "id": "kIwl_pfBHAOX"
   },
   "outputs": [],
   "source": [
    "from sklearn.preprocessing import StandardScaler\n",
    "scaler_credit = StandardScaler()\n",
    "X_credit = scaler_credit.fit_transform(X_credit)"
   ]
  },
  {
   "cell_type": "code",
   "execution_count": null,
   "metadata": {
    "colab": {
     "base_uri": "https://localhost:8080/"
    },
    "id": "UrCwoukQHS8L",
    "outputId": "201c73b6-75ca-4bad-d545-2b10e1e1a298"
   },
   "outputs": [],
   "source": [
    "X_credit[:,0].min(), X_credit[:,1].min(), X_credit[:,2].min()"
   ]
  },
  {
   "cell_type": "code",
   "execution_count": null,
   "metadata": {
    "colab": {
     "base_uri": "https://localhost:8080/"
    },
    "id": "w8IGh3S-HdDi",
    "outputId": "4421e67f-528e-461f-a7cf-75fd589d3ce7"
   },
   "outputs": [],
   "source": [
    "X_credit[:,0].max(), X_credit[:,1].max(), X_credit[:,2].max()"
   ]
  },
  {
   "cell_type": "code",
   "execution_count": null,
   "metadata": {
    "colab": {
     "base_uri": "https://localhost:8080/"
    },
    "id": "4VyQztFtHlYa",
    "outputId": "d5295950-9ea1-43f3-8860-9fef17f0df4b"
   },
   "outputs": [],
   "source": [
    "X_credit"
   ]
  },
  {
   "cell_type": "markdown",
   "metadata": {
    "id": "uObPYCYDkBAV"
   },
   "source": [
    "# Base de dados do censo\n",
    "\n",
    "- Fonte: https://archive.ics.uci.edu/ml/datasets/adult"
   ]
  },
  {
   "cell_type": "markdown",
   "metadata": {
    "id": "g-23aN-nkDQ7"
   },
   "source": [
    "## Exploração dos dados"
   ]
  },
  {
   "cell_type": "code",
   "execution_count": null,
   "metadata": {
    "id": "Bu_IHHtyJxIY"
   },
   "outputs": [],
   "source": [
    "base_census = pd.read_csv('/content/census.csv')"
   ]
  },
  {
   "cell_type": "code",
   "execution_count": null,
   "metadata": {
    "colab": {
     "base_uri": "https://localhost:8080/",
     "height": 800
    },
    "id": "zrMuz5cnLzU-",
    "outputId": "fa3d0fc4-c264-4646-f24b-d66ce843ad7a"
   },
   "outputs": [],
   "source": [
    "base_census.describe()"
   ]
  },
  {
   "cell_type": "code",
   "execution_count": null,
   "metadata": {
    "colab": {
     "base_uri": "https://localhost:8080/",
     "height": 300
    },
    "id": "EoH6JYVHN3EQ",
    "outputId": "c6d7e065-5e3f-4de7-ed51-5c1f6a76766f"
   },
   "outputs": [],
   "source": [
    "base_census.describe()"
   ]
  },
  {
   "cell_type": "code",
   "execution_count": null,
   "metadata": {
    "colab": {
     "base_uri": "https://localhost:8080/"
    },
    "id": "0DR8uJH3OY3-",
    "outputId": "8dcf1d7e-1120-4342-bf96-c0bf072641e8"
   },
   "outputs": [],
   "source": [
    "base_census.isnull().sum()"
   ]
  },
  {
   "cell_type": "markdown",
   "metadata": {
    "id": "zr9S1fZXRQhg"
   },
   "source": [
    "## Visualização dos dados"
   ]
  },
  {
   "cell_type": "code",
   "execution_count": null,
   "metadata": {
    "colab": {
     "base_uri": "https://localhost:8080/"
    },
    "id": "kOGYZLW1PJlK",
    "outputId": "c04898a7-20e7-4df7-da72-20a598c9bd5c"
   },
   "outputs": [],
   "source": [
    "np.unique(base_census['income'], return_counts=True)"
   ]
  },
  {
   "cell_type": "code",
   "execution_count": null,
   "metadata": {
    "colab": {
     "base_uri": "https://localhost:8080/",
     "height": 279
    },
    "id": "6JF0yYymPXHK",
    "outputId": "9f2becab-e8c1-45a7-affb-145154a06f3f"
   },
   "outputs": [],
   "source": [
    "sns.countplot(x = base_census['income']);"
   ]
  },
  {
   "cell_type": "code",
   "execution_count": null,
   "metadata": {
    "colab": {
     "base_uri": "https://localhost:8080/",
     "height": 265
    },
    "id": "m4NJnzZ8Pj_m",
    "outputId": "a074d1ca-c12f-41ad-dac4-56e350b0bc77"
   },
   "outputs": [],
   "source": [
    "plt.hist(x = base_census['age']);"
   ]
  },
  {
   "cell_type": "code",
   "execution_count": null,
   "metadata": {
    "colab": {
     "base_uri": "https://localhost:8080/",
     "height": 265
    },
    "id": "QFpXonIHP0vQ",
    "outputId": "35479ebc-9268-4b20-a88e-066cfabb372a"
   },
   "outputs": [],
   "source": [
    "plt.hist(x = base_census['education-num']);"
   ]
  },
  {
   "cell_type": "code",
   "execution_count": null,
   "metadata": {
    "colab": {
     "base_uri": "https://localhost:8080/",
     "height": 265
    },
    "id": "E9pOurcfQIHg",
    "outputId": "96bfe6c4-8a6f-4226-9cf4-2336a391d1e4"
   },
   "outputs": [],
   "source": [
    "plt.hist(x = base_census['hour-per-week']);"
   ]
  },
  {
   "cell_type": "code",
   "execution_count": null,
   "metadata": {
    "colab": {
     "base_uri": "https://localhost:8080/",
     "height": 542
    },
    "id": "xhos8N47QitL",
    "outputId": "e7e5ae6b-e586-4fcc-f5b2-d72aabb0995a"
   },
   "outputs": [],
   "source": [
    "grafico = px.treemap(base_census, path=['workclass', 'age'])\n",
    "grafico.show()"
   ]
  },
  {
   "cell_type": "code",
   "execution_count": null,
   "metadata": {
    "colab": {
     "base_uri": "https://localhost:8080/",
     "height": 542
    },
    "id": "Akf69wczRLux",
    "outputId": "0cf94ad1-eeca-4803-aa28-1fa9f8541a74"
   },
   "outputs": [],
   "source": [
    "grafico = px.treemap(base_census, path=['occupation', 'relationship', 'age'])\n",
    "grafico.show()"
   ]
  },
  {
   "cell_type": "code",
   "execution_count": null,
   "metadata": {
    "colab": {
     "base_uri": "https://localhost:8080/",
     "height": 542
    },
    "id": "VuqUp3AfRvIE",
    "outputId": "e53db398-fef4-411f-8021-d46dfc6fad04"
   },
   "outputs": [],
   "source": [
    "grafico = px.parallel_categories(base_census, dimensions=['occupation', 'relationship'])\n",
    "grafico.show()"
   ]
  },
  {
   "cell_type": "code",
   "execution_count": null,
   "metadata": {
    "colab": {
     "base_uri": "https://localhost:8080/",
     "height": 542
    },
    "id": "jH9jB0jgSH_m",
    "outputId": "45f62110-602b-48c5-8b41-f9e583defdc3"
   },
   "outputs": [],
   "source": [
    "grafico = px.parallel_categories(base_census, dimensions=['workclass', 'occupation', 'income'])\n",
    "grafico.show()"
   ]
  },
  {
   "cell_type": "code",
   "execution_count": null,
   "metadata": {
    "colab": {
     "base_uri": "https://localhost:8080/",
     "height": 542
    },
    "id": "qK0aGfUvSRJy",
    "outputId": "e45953af-0451-43bf-f82f-a3e4dfb35246"
   },
   "outputs": [],
   "source": [
    "grafico = px.parallel_categories(base_census, dimensions=['education', 'income'])\n",
    "grafico.show()"
   ]
  },
  {
   "cell_type": "markdown",
   "metadata": {
    "id": "2GpcvTQauTVx"
   },
   "source": [
    "## Divisão entre previsores e classe"
   ]
  },
  {
   "cell_type": "code",
   "execution_count": null,
   "metadata": {
    "colab": {
     "base_uri": "https://localhost:8080/"
    },
    "id": "wk80GiKlVdzE",
    "outputId": "838e57c8-34b9-4982-b394-8595516aed15"
   },
   "outputs": [],
   "source": [
    "base_census.columns"
   ]
  },
  {
   "cell_type": "code",
   "execution_count": null,
   "metadata": {
    "id": "w9uiN9W7VNMc"
   },
   "outputs": [],
   "source": [
    "X_census = base_census.iloc[:, 0:14].values"
   ]
  },
  {
   "cell_type": "code",
   "execution_count": null,
   "metadata": {
    "colab": {
     "base_uri": "https://localhost:8080/"
    },
    "id": "-BEc3zBGVrQy",
    "outputId": "7e6033f4-40ee-4a95-a313-bffe084a885f"
   },
   "outputs": [],
   "source": [
    "X_census"
   ]
  },
  {
   "cell_type": "code",
   "execution_count": null,
   "metadata": {
    "colab": {
     "base_uri": "https://localhost:8080/"
    },
    "id": "z52eLwVrVuDX",
    "outputId": "70a3f1d9-46df-4e4e-fcb5-c8c8a794982f"
   },
   "outputs": [],
   "source": [
    "X_census[0]"
   ]
  },
  {
   "cell_type": "code",
   "execution_count": null,
   "metadata": {
    "id": "h91x3FK8Vxry"
   },
   "outputs": [],
   "source": [
    "y_census = base_census.iloc[:, 14].values"
   ]
  },
  {
   "cell_type": "code",
   "execution_count": null,
   "metadata": {
    "colab": {
     "base_uri": "https://localhost:8080/"
    },
    "id": "eyu-A862V5GE",
    "outputId": "a3f556c1-f0d9-4e68-a225-2419057443b0"
   },
   "outputs": [],
   "source": [
    "y_census"
   ]
  },
  {
   "cell_type": "markdown",
   "metadata": {
    "id": "QGapZ37jkPAn"
   },
   "source": [
    "## Tratamento de atributos categóricos"
   ]
  },
  {
   "cell_type": "markdown",
   "metadata": {
    "id": "K2K3Wu8Q4e0E"
   },
   "source": [
    "### LabelEncoder"
   ]
  },
  {
   "cell_type": "code",
   "execution_count": null,
   "metadata": {
    "id": "oGz8K4uwWdGO"
   },
   "outputs": [],
   "source": [
    "from sklearn.preprocessing import LabelEncoder"
   ]
  },
  {
   "cell_type": "code",
   "execution_count": null,
   "metadata": {
    "id": "noIEel20WyqJ"
   },
   "outputs": [],
   "source": [
    "label_encoder_teste = LabelEncoder()"
   ]
  },
  {
   "cell_type": "code",
   "execution_count": null,
   "metadata": {
    "colab": {
     "base_uri": "https://localhost:8080/"
    },
    "id": "1Ref4otRW9S_",
    "outputId": "1ad3b1c2-bb0a-4731-fcd1-e0d10a21812a"
   },
   "outputs": [],
   "source": [
    "X_census[:,1]"
   ]
  },
  {
   "cell_type": "code",
   "execution_count": null,
   "metadata": {
    "id": "ZtggZJBsW32I"
   },
   "outputs": [],
   "source": [
    "teste = label_encoder_teste.fit_transform(X_census[:,1])"
   ]
  },
  {
   "cell_type": "code",
   "execution_count": null,
   "metadata": {
    "colab": {
     "base_uri": "https://localhost:8080/"
    },
    "id": "N7Nu-KNeXFan",
    "outputId": "41fe102f-f591-4c64-e1ef-fe38cb22dbb6"
   },
   "outputs": [],
   "source": [
    "teste"
   ]
  },
  {
   "cell_type": "code",
   "execution_count": null,
   "metadata": {
    "colab": {
     "base_uri": "https://localhost:8080/"
    },
    "id": "GF26IL93XWx4",
    "outputId": "d46cfe14-89d0-4cce-b726-fbaa32c69b0a"
   },
   "outputs": [],
   "source": [
    "X_census[0]"
   ]
  },
  {
   "cell_type": "code",
   "execution_count": null,
   "metadata": {
    "id": "vobcD-wHXiKD"
   },
   "outputs": [],
   "source": [
    "label_encoder_workclass = LabelEncoder()\n",
    "label_encoder_education = LabelEncoder()\n",
    "label_encoder_marital = LabelEncoder()\n",
    "label_encoder_occupation = LabelEncoder()\n",
    "label_encoder_relationship = LabelEncoder()\n",
    "label_encoder_race = LabelEncoder()\n",
    "label_encoder_sex = LabelEncoder()\n",
    "label_encoder_country = LabelEncoder()"
   ]
  },
  {
   "cell_type": "code",
   "execution_count": null,
   "metadata": {
    "id": "bSUY6xUhXukh"
   },
   "outputs": [],
   "source": [
    "X_census[:,1] = label_encoder_workclass.fit_transform(X_census[:,1])\n",
    "X_census[:,3] = label_encoder_education.fit_transform(X_census[:,3])\n",
    "X_census[:,5] = label_encoder_marital.fit_transform(X_census[:,5])\n",
    "X_census[:,6] = label_encoder_occupation.fit_transform(X_census[:,6])\n",
    "X_census[:,7] = label_encoder_relationship.fit_transform(X_census[:,7])\n",
    "X_census[:,8] = label_encoder_race.fit_transform(X_census[:,8])\n",
    "X_census[:,9] = label_encoder_sex.fit_transform(X_census[:,9])\n",
    "X_census[:,13] = label_encoder_country.fit_transform(X_census[:,13])"
   ]
  },
  {
   "cell_type": "code",
   "execution_count": null,
   "metadata": {
    "colab": {
     "base_uri": "https://localhost:8080/"
    },
    "id": "Y7Ez17WpYO6_",
    "outputId": "7b8cce45-c509-4a83-9688-7d95b7691ff3"
   },
   "outputs": [],
   "source": [
    "X_census[0]"
   ]
  },
  {
   "cell_type": "code",
   "execution_count": null,
   "metadata": {
    "colab": {
     "base_uri": "https://localhost:8080/"
    },
    "id": "zzDHWOGwYUl4",
    "outputId": "c36f32d6-a693-411d-847b-6358246937db"
   },
   "outputs": [],
   "source": [
    "X_census"
   ]
  },
  {
   "cell_type": "markdown",
   "metadata": {
    "id": "mHg2BXJR4hpi"
   },
   "source": [
    "### OneHotEncoder"
   ]
  },
  {
   "cell_type": "code",
   "execution_count": null,
   "metadata": {
    "id": "lZh-2yOMZxfQ"
   },
   "outputs": [],
   "source": [
    "# Carro\n",
    "\n",
    "# Gol Pálio Uno\n",
    "#   1     2   3\n",
    "\n",
    "# Gol   1 0 0\n",
    "# Pálio 0 1 0\n",
    "# Uno   0 0 1 # encode"
   ]
  },
  {
   "cell_type": "code",
   "execution_count": null,
   "metadata": {
    "colab": {
     "base_uri": "https://localhost:8080/"
    },
    "id": "XEFKLGiPa4dP",
    "outputId": "57f70046-24dc-4ce1-cc15-96594801928b"
   },
   "outputs": [],
   "source": [
    "len(np.unique(base_census['workclass'])) # 1 0 0 0 0 0 0 0, 0 0 0 0 1 0 0 0 0"
   ]
  },
  {
   "cell_type": "code",
   "execution_count": null,
   "metadata": {
    "colab": {
     "base_uri": "https://localhost:8080/"
    },
    "id": "AoLB7CP9bOA3",
    "outputId": "8da1856b-37d4-41eb-8ed6-b5dab835a522"
   },
   "outputs": [],
   "source": [
    "len(np.unique(base_census['occupation']))"
   ]
  },
  {
   "cell_type": "code",
   "execution_count": null,
   "metadata": {
    "id": "Z3l27yYXbTRq"
   },
   "outputs": [],
   "source": [
    "from sklearn.preprocessing import OneHotEncoder\n",
    "from sklearn.compose import ColumnTransformer"
   ]
  },
  {
   "cell_type": "code",
   "execution_count": null,
   "metadata": {
    "id": "OW_FkaXdbcwI"
   },
   "outputs": [],
   "source": [
    "onehotencoder_census = ColumnTransformer(transformers=[('OneHot', OneHotEncoder(), [1,3,5,6,7,8,9,13])], remainder='passthrough')"
   ]
  },
  {
   "cell_type": "code",
   "execution_count": null,
   "metadata": {
    "id": "QXnfaYTCb6yM"
   },
   "outputs": [],
   "source": [
    "X_census = onehotencoder_census.fit_transform(X_census).toarray()"
   ]
  },
  {
   "cell_type": "code",
   "execution_count": null,
   "metadata": {
    "colab": {
     "base_uri": "https://localhost:8080/"
    },
    "id": "tYlAkc1mcB7z",
    "outputId": "03b7a0a2-a4f3-4fe5-eda4-21059d993887"
   },
   "outputs": [],
   "source": [
    "X_census"
   ]
  },
  {
   "cell_type": "code",
   "execution_count": null,
   "metadata": {
    "colab": {
     "base_uri": "https://localhost:8080/"
    },
    "id": "7T2BdrjDcExe",
    "outputId": "fb227a0c-d5fa-414c-a705-059ed927acb5"
   },
   "outputs": [],
   "source": [
    "X_census[0]"
   ]
  },
  {
   "cell_type": "code",
   "execution_count": null,
   "metadata": {
    "colab": {
     "base_uri": "https://localhost:8080/"
    },
    "id": "YWik7RsUcK7V",
    "outputId": "628ed5a6-8d41-4a99-9617-b9eed4b2fc88"
   },
   "outputs": [],
   "source": [
    "X_census.shape"
   ]
  },
  {
   "cell_type": "markdown",
   "metadata": {
    "id": "bdNbsNLFkWop"
   },
   "source": [
    "## Escalonamento dos valores"
   ]
  },
  {
   "cell_type": "code",
   "execution_count": null,
   "metadata": {
    "id": "t58D0fU_c9_4"
   },
   "outputs": [],
   "source": [
    "from sklearn.preprocessing import StandardScaler\n",
    "scaler_census = StandardScaler()\n",
    "X_census = scaler_census.fit_transform(X_census)"
   ]
  },
  {
   "cell_type": "code",
   "execution_count": null,
   "metadata": {
    "colab": {
     "base_uri": "https://localhost:8080/"
    },
    "id": "S8zI8mHJdZ1L",
    "outputId": "b237f7a2-a0a0-4e12-e674-528aecabd9af"
   },
   "outputs": [],
   "source": [
    "X_census[0]"
   ]
  },
  {
   "cell_type": "markdown",
   "metadata": {
    "id": "NBXkHsxg6tcI"
   },
   "source": [
    "# Divisão das bases em treinamento e teste"
   ]
  },
  {
   "cell_type": "code",
   "execution_count": null,
   "metadata": {
    "id": "0HPHvvv-eRAK"
   },
   "outputs": [],
   "source": [
    "from sklearn.model_selection import train_test_split"
   ]
  },
  {
   "cell_type": "markdown",
   "metadata": {
    "id": "q_KOjDv47-IV"
   },
   "source": [
    "## Credit data"
   ]
  },
  {
   "cell_type": "code",
   "execution_count": null,
   "metadata": {
    "id": "YglWGPdjeXb1"
   },
   "outputs": [],
   "source": [
    "X_credit_treinamento, X_credit_teste, y_credit_treinamento, y_credit_teste = train_test_split(X_credit, y_credit, test_size = 0.25, random_state = 0)"
   ]
  },
  {
   "cell_type": "code",
   "execution_count": null,
   "metadata": {
    "colab": {
     "base_uri": "https://localhost:8080/"
    },
    "id": "OcUWH-xTfAC3",
    "outputId": "02688b39-284f-49ec-ab59-958345966c69"
   },
   "outputs": [],
   "source": [
    "X_credit_treinamento.shape"
   ]
  },
  {
   "cell_type": "code",
   "execution_count": null,
   "metadata": {
    "colab": {
     "base_uri": "https://localhost:8080/"
    },
    "id": "7v1NiPemfL4g",
    "outputId": "d76cdebe-41a1-4e91-92d8-d32f455ad29b"
   },
   "outputs": [],
   "source": [
    "y_credit_treinamento.shape"
   ]
  },
  {
   "cell_type": "code",
   "execution_count": null,
   "metadata": {
    "colab": {
     "base_uri": "https://localhost:8080/"
    },
    "id": "iuf-gKIvfR2f",
    "outputId": "0b9690b8-3285-4882-ac04-3c3331191e06"
   },
   "outputs": [],
   "source": [
    "X_credit_teste.shape, y_credit_teste.shape"
   ]
  },
  {
   "cell_type": "markdown",
   "metadata": {
    "id": "zAecbXOi8AzA"
   },
   "source": [
    "## Census"
   ]
  },
  {
   "cell_type": "code",
   "execution_count": null,
   "metadata": {
    "id": "9bfZjhaeffX6"
   },
   "outputs": [],
   "source": [
    "X_census_treinamento, X_census_teste, y_census_treinamento, y_census_teste = train_test_split(X_census, y_census, test_size = 0.15, random_state = 0)"
   ]
  },
  {
   "cell_type": "code",
   "execution_count": null,
   "metadata": {
    "colab": {
     "base_uri": "https://localhost:8080/"
    },
    "id": "uMjiPLA5fvuG",
    "outputId": "8f90bb5c-9537-4e9d-88af-400d8ba3046e"
   },
   "outputs": [],
   "source": [
    "X_census_treinamento.shape, y_census_treinamento.shape"
   ]
  },
  {
   "cell_type": "code",
   "execution_count": null,
   "metadata": {
    "colab": {
     "base_uri": "https://localhost:8080/"
    },
    "id": "y9jOKp2pf2l_",
    "outputId": "c892d9f6-75c5-43db-ae19-f3c402c3c58e"
   },
   "outputs": [],
   "source": [
    "X_census_teste.shape, y_census_teste.shape"
   ]
  },
  {
   "cell_type": "markdown",
   "metadata": {
    "id": "Oi9qbert8aMv"
   },
   "source": [
    "## Salvar as variáveis"
   ]
  },
  {
   "cell_type": "code",
   "execution_count": null,
   "metadata": {
    "id": "Vn6R_DKHhG0u"
   },
   "outputs": [],
   "source": [
    "import pickle"
   ]
  },
  {
   "cell_type": "code",
   "execution_count": null,
   "metadata": {
    "id": "7bcjVkwqhLpY"
   },
   "outputs": [],
   "source": [
    "with open('credit.pkl', mode = 'wb') as f:\n",
    "  pickle.dump([X_credit_treinamento, y_credit_treinamento, X_credit_teste, y_credit_teste], f)"
   ]
  },
  {
   "cell_type": "code",
   "execution_count": null,
   "metadata": {
    "id": "iA6n26E8hjeR"
   },
   "outputs": [],
   "source": [
    "with open('census.pkl', mode = 'wb') as f:\n",
    "  pickle.dump([X_census_treinamento, y_census_treinamento, X_census_teste, y_census_teste], f)"
   ]
  },
  {
   "cell_type": "markdown",
   "metadata": {
    "id": "zX-Vgf6TnLnc"
   },
   "source": [
    "# Naïve Bayes"
   ]
  },
  {
   "cell_type": "code",
   "execution_count": null,
   "metadata": {
    "id": "U-BlxVMDqflF"
   },
   "outputs": [],
   "source": [
    "from sklearn.naive_bayes import GaussianNB"
   ]
  },
  {
   "cell_type": "markdown",
   "metadata": {
    "id": "L0FGtQLrnN-0"
   },
   "source": [
    "## Base risco de crédito"
   ]
  },
  {
   "cell_type": "code",
   "execution_count": null,
   "metadata": {
    "id": "I4P2zsoKoNUU"
   },
   "outputs": [],
   "source": [
    "base_risco_credito = pd.read_csv('/content/risco_credito.csv')"
   ]
  },
  {
   "cell_type": "code",
   "execution_count": null,
   "metadata": {
    "colab": {
     "base_uri": "https://localhost:8080/",
     "height": 488
    },
    "id": "LTabRMD0ohDK",
    "outputId": "fee848ad-661a-4a1d-c837-1a80c90d0560"
   },
   "outputs": [],
   "source": [
    "base_risco_credito"
   ]
  },
  {
   "cell_type": "code",
   "execution_count": null,
   "metadata": {
    "colab": {
     "base_uri": "https://localhost:8080/"
    },
    "id": "N6IVA-f8orh0",
    "outputId": "0af85e7b-57eb-4d75-ba30-870de67a6836"
   },
   "outputs": [],
   "source": [
    "X_risco_credito = base_risco_credito.iloc[:, 0:4].values\n",
    "X_risco_credito"
   ]
  },
  {
   "cell_type": "code",
   "execution_count": null,
   "metadata": {
    "colab": {
     "base_uri": "https://localhost:8080/"
    },
    "id": "ErUm7cNoo9E8",
    "outputId": "2d311776-bcbf-4d0a-8c12-04f60c6247e1"
   },
   "outputs": [],
   "source": [
    "y_risco_credito = base_risco_credito.iloc[:, 4].values\n",
    "y_risco_credito"
   ]
  },
  {
   "cell_type": "code",
   "execution_count": null,
   "metadata": {
    "id": "a4ExR7UOpbwV"
   },
   "outputs": [],
   "source": [
    "from sklearn.preprocessing import LabelEncoder\n",
    "label_encoder_historia = LabelEncoder()\n",
    "label_encoder_divida = LabelEncoder()\n",
    "label_encoder_garantia = LabelEncoder()\n",
    "label_encoder_renda = LabelEncoder()"
   ]
  },
  {
   "cell_type": "code",
   "execution_count": null,
   "metadata": {
    "id": "qf3pWv3MpqOX"
   },
   "outputs": [],
   "source": [
    "X_risco_credito[:,0] = label_encoder_historia.fit_transform(X_risco_credito[:,0])\n",
    "X_risco_credito[:,1] = label_encoder_divida.fit_transform(X_risco_credito[:,1])\n",
    "X_risco_credito[:,2] = label_encoder_garantia.fit_transform(X_risco_credito[:,2])\n",
    "X_risco_credito[:,3] = label_encoder_renda.fit_transform(X_risco_credito[:,3])"
   ]
  },
  {
   "cell_type": "code",
   "execution_count": null,
   "metadata": {
    "colab": {
     "base_uri": "https://localhost:8080/"
    },
    "id": "96KPRRHYp5Kn",
    "outputId": "f42a48a9-097c-45c4-b5e9-efa867037711"
   },
   "outputs": [],
   "source": [
    "X_risco_credito"
   ]
  },
  {
   "cell_type": "code",
   "execution_count": null,
   "metadata": {
    "id": "Z866ig_dqGjd"
   },
   "outputs": [],
   "source": [
    "import pickle\n",
    "with open('risco_credito.pkl', 'wb') as f:\n",
    "  pickle.dump([X_risco_credito, y_risco_credito], f)"
   ]
  },
  {
   "cell_type": "code",
   "execution_count": null,
   "metadata": {
    "colab": {
     "base_uri": "https://localhost:8080/"
    },
    "id": "ToxRilluqZtK",
    "outputId": "114a3fd0-0988-4d1d-9a97-eb35518078e0"
   },
   "outputs": [],
   "source": [
    "naive_risco_credito = GaussianNB()\n",
    "naive_risco_credito.fit(X_risco_credito, y_risco_credito)"
   ]
  },
  {
   "cell_type": "code",
   "execution_count": null,
   "metadata": {
    "id": "F-RDd2zirCQZ"
   },
   "outputs": [],
   "source": [
    "# história boa (0), dívida alta (0), garantias nenhuma (1), renda > 35 (2)\n",
    "# história ruim (2), dívida alta (0), garantias adequada (0), renda < 15 (0)\n",
    "previsao = naive_risco_credito.predict([[0,0,1,2], [2,0,0,0]])"
   ]
  },
  {
   "cell_type": "code",
   "execution_count": null,
   "metadata": {
    "colab": {
     "base_uri": "https://localhost:8080/"
    },
    "id": "BdRCfngutCF3",
    "outputId": "7275b063-3524-4bd0-8294-2fd5626a847a"
   },
   "outputs": [],
   "source": [
    "previsao"
   ]
  },
  {
   "cell_type": "code",
   "execution_count": null,
   "metadata": {
    "colab": {
     "base_uri": "https://localhost:8080/"
    },
    "id": "9CXosG4ytf-2",
    "outputId": "38768a6f-27c2-43ed-b2f6-c124f4e588db"
   },
   "outputs": [],
   "source": [
    "naive_risco_credito.classes_"
   ]
  },
  {
   "cell_type": "code",
   "execution_count": null,
   "metadata": {
    "colab": {
     "base_uri": "https://localhost:8080/"
    },
    "id": "YFWamfFCtkBe",
    "outputId": "1736d67a-b204-4799-a95f-305e447e960d"
   },
   "outputs": [],
   "source": [
    "naive_risco_credito.class_count_"
   ]
  },
  {
   "cell_type": "code",
   "execution_count": null,
   "metadata": {
    "colab": {
     "base_uri": "https://localhost:8080/"
    },
    "id": "VKTVsslMtzX4",
    "outputId": "f249e72b-06b3-48ba-fa52-667cf1e5d4db"
   },
   "outputs": [],
   "source": [
    "naive_risco_credito.class_prior_"
   ]
  },
  {
   "cell_type": "markdown",
   "metadata": {
    "id": "lmXN77tcnP2v"
   },
   "source": [
    "## Base credit data - 93.80%"
   ]
  },
  {
   "cell_type": "code",
   "execution_count": null,
   "metadata": {
    "id": "WpYGgi24vDZx"
   },
   "outputs": [],
   "source": [
    "import pickle\n",
    "with open('/content/census.pkl', 'rb') as f:\n",
    "  X_credit_treinamento, y_credit_treinamento, X_credit_teste, y_credit_teste = pickle.load(f)"
   ]
  },
  {
   "cell_type": "code",
   "execution_count": null,
   "metadata": {
    "colab": {
     "base_uri": "https://localhost:8080/"
    },
    "id": "qcNidp70vfdu",
    "outputId": "df4ea586-80d8-449a-d85e-b70fc0fcaff7"
   },
   "outputs": [],
   "source": [
    "X_credit_treinamento.shape, y_credit_treinamento.shape"
   ]
  },
  {
   "cell_type": "code",
   "execution_count": null,
   "metadata": {
    "colab": {
     "base_uri": "https://localhost:8080/"
    },
    "id": "1ybZU83Jvncs",
    "outputId": "184a1b95-bc93-4e2b-aaea-168d8d0b4ffd"
   },
   "outputs": [],
   "source": [
    "X_credit_teste.shape, y_credit_teste.shape"
   ]
  },
  {
   "cell_type": "code",
   "execution_count": null,
   "metadata": {
    "colab": {
     "base_uri": "https://localhost:8080/"
    },
    "id": "ScyZYrIPvxww",
    "outputId": "cc1e42e3-7248-45b0-d86d-cfd59470f100"
   },
   "outputs": [],
   "source": [
    "naive_credit_data = GaussianNB()\n",
    "naive_credit_data.fit(X_credit_treinamento, y_credit_treinamento)"
   ]
  },
  {
   "cell_type": "code",
   "execution_count": null,
   "metadata": {
    "id": "LdI1aUA8v_mI"
   },
   "outputs": [],
   "source": [
    "previsoes = naive_credit_data.predict(X_credit_teste)"
   ]
  },
  {
   "cell_type": "code",
   "execution_count": null,
   "metadata": {
    "colab": {
     "base_uri": "https://localhost:8080/"
    },
    "id": "c1QTeR2vwNbh",
    "outputId": "15fd3864-dcc5-4b9c-9b7b-781be4e70647"
   },
   "outputs": [],
   "source": [
    "previsoes"
   ]
  },
  {
   "cell_type": "code",
   "execution_count": null,
   "metadata": {
    "colab": {
     "base_uri": "https://localhost:8080/"
    },
    "id": "BwvLLFDTwVPd",
    "outputId": "c8e5824f-3f68-43d7-b45e-a982f68decfe"
   },
   "outputs": [],
   "source": [
    "y_credit_teste"
   ]
  },
  {
   "cell_type": "code",
   "execution_count": null,
   "metadata": {
    "id": "2Dc8GMkowxw7"
   },
   "outputs": [],
   "source": [
    "from sklearn.metrics import accuracy_score, confusion_matrix, classification_report"
   ]
  },
  {
   "cell_type": "code",
   "execution_count": null,
   "metadata": {
    "colab": {
     "base_uri": "https://localhost:8080/"
    },
    "id": "FcjG72Pqw4Nk",
    "outputId": "b9d13386-634e-494b-bd05-be4afa3c68f5"
   },
   "outputs": [],
   "source": [
    "accuracy_score(y_credit_teste, previsoes)"
   ]
  },
  {
   "cell_type": "code",
   "execution_count": null,
   "metadata": {
    "colab": {
     "base_uri": "https://localhost:8080/"
    },
    "id": "SjmjYP-sxHUV",
    "outputId": "17450273-8f30-42bb-ba44-c98a2acc4028"
   },
   "outputs": [],
   "source": [
    "confusion_matrix(y_credit_teste, previsoes)"
   ]
  },
  {
   "cell_type": "code",
   "execution_count": null,
   "metadata": {
    "id": "AIlIQpoOxmR1"
   },
   "outputs": [],
   "source": [
    "from yellowbrick.classifier import ConfusionMatrix"
   ]
  },
  {
   "cell_type": "code",
   "execution_count": null,
   "metadata": {
    "colab": {
     "base_uri": "https://localhost:8080/"
    },
    "id": "nR99mSzDxtN3",
    "outputId": "ff668925-a0d6-4966-e260-28a5ca83550e"
   },
   "outputs": [],
   "source": [
    "cm = ConfusionMatrix(naive_credit_data)\n",
    "cm.fit(X_credit_treinamento, y_credit_treinamento)\n",
    "cm.score(X_credit_teste, y_credit_teste)"
   ]
  },
  {
   "cell_type": "code",
   "execution_count": null,
   "metadata": {
    "colab": {
     "base_uri": "https://localhost:8080/"
    },
    "id": "CVWcUg5QyS9a",
    "outputId": "5efce964-b8f5-45d8-9b20-61ff98610ce2"
   },
   "outputs": [],
   "source": [
    "print(classification_report(y_credit_teste, previsoes))"
   ]
  },
  {
   "cell_type": "markdown",
   "metadata": {
    "id": "lnC-s4bLnRmt"
   },
   "source": [
    "## Base census - 47.67%"
   ]
  },
  {
   "cell_type": "code",
   "execution_count": null,
   "metadata": {
    "id": "TU2GJRlU0And"
   },
   "outputs": [],
   "source": [
    "with open('census.pkl', 'rb') as f:\n",
    "  X_census_treinamento, y_census_treinamento, X_census_teste, y_census_teste = pickle.load(f)"
   ]
  },
  {
   "cell_type": "code",
   "execution_count": null,
   "metadata": {
    "colab": {
     "base_uri": "https://localhost:8080/"
    },
    "id": "11c886Pf1kwf",
    "outputId": "1d1645f0-d36b-41e1-f50d-61fca1938c18"
   },
   "outputs": [],
   "source": [
    "X_census_treinamento.shape, y_census_treinamento.shape"
   ]
  },
  {
   "cell_type": "code",
   "execution_count": null,
   "metadata": {
    "colab": {
     "base_uri": "https://localhost:8080/"
    },
    "id": "cD_tACqD1v6Y",
    "outputId": "e1b06b50-5d22-4726-fde1-4a4e7f15ffc0"
   },
   "outputs": [],
   "source": [
    "X_census_teste.shape, y_census_teste.shape"
   ]
  },
  {
   "cell_type": "code",
   "execution_count": null,
   "metadata": {
    "colab": {
     "base_uri": "https://localhost:8080/"
    },
    "id": "gnU8BRlr15uT",
    "outputId": "aaf3f812-3c41-4885-a3c5-42ca3e9bb944"
   },
   "outputs": [],
   "source": [
    "naive_census = GaussianNB()\n",
    "naive_census.fit(X_census_treinamento, y_census_treinamento)\n",
    "previsoes = naive_census.predict(X_census_teste)\n",
    "previsoes"
   ]
  },
  {
   "cell_type": "code",
   "execution_count": null,
   "metadata": {
    "colab": {
     "base_uri": "https://localhost:8080/"
    },
    "id": "_TonV1b32RoP",
    "outputId": "76ffdd25-f03d-4ead-f8c5-28216f1a6dbb"
   },
   "outputs": [],
   "source": [
    "y_census_teste"
   ]
  },
  {
   "cell_type": "code",
   "execution_count": null,
   "metadata": {
    "colab": {
     "base_uri": "https://localhost:8080/"
    },
    "id": "_JAtM61v2eiA",
    "outputId": "3d087ff1-3655-40ac-aac6-e2f3fbfb5021"
   },
   "outputs": [],
   "source": [
    "accuracy_score(y_census_teste, previsoes) # não executar o escalonamento"
   ]
  },
  {
   "cell_type": "code",
   "execution_count": null,
   "metadata": {
    "colab": {
     "base_uri": "https://localhost:8080/"
    },
    "id": "L0K6x5C-3B3e",
    "outputId": "229c0726-e78d-4342-bc65-39a92a5c8a3a"
   },
   "outputs": [],
   "source": [
    "cm = ConfusionMatrix(naive_census)\n",
    "cm.fit(X_census_treinamento, y_census_treinamento)\n",
    "cm.score(X_census_teste, y_census_teste)"
   ]
  },
  {
   "cell_type": "code",
   "execution_count": null,
   "metadata": {
    "colab": {
     "base_uri": "https://localhost:8080/"
    },
    "id": "73BnWAg83fkr",
    "outputId": "f6c415bc-14c6-45ce-ed0f-6aeb757da35d"
   },
   "outputs": [],
   "source": [
    "print(classification_report(y_census_teste, previsoes))"
   ]
  },
  {
   "cell_type": "markdown",
   "metadata": {
    "id": "DjUu9ktyU4__"
   },
   "source": [
    "# Árvores de decisão"
   ]
  },
  {
   "cell_type": "code",
   "execution_count": null,
   "metadata": {
    "id": "9WB3PZAfYmJr"
   },
   "outputs": [],
   "source": [
    "from sklearn.tree import DecisionTreeClassifier"
   ]
  },
  {
   "cell_type": "markdown",
   "metadata": {
    "id": "PfnUWv8SU7ST"
   },
   "source": [
    "## Base risco de crédito"
   ]
  },
  {
   "cell_type": "code",
   "execution_count": null,
   "metadata": {
    "id": "ly9B-EiDYyXL"
   },
   "outputs": [],
   "source": [
    "import pickle\n",
    "with open('risco_credito.pkl', 'rb') as f:\n",
    "  X_risco_credito, y_risco_credito = pickle.load(f)"
   ]
  },
  {
   "cell_type": "code",
   "execution_count": null,
   "metadata": {
    "colab": {
     "base_uri": "https://localhost:8080/"
    },
    "id": "5I3snhO0ZLwA",
    "outputId": "f6d80b03-cc4d-46d5-ea3a-0a00b88b3385"
   },
   "outputs": [],
   "source": [
    "X_risco_credito"
   ]
  },
  {
   "cell_type": "code",
   "execution_count": null,
   "metadata": {
    "colab": {
     "base_uri": "https://localhost:8080/"
    },
    "id": "_DpHqDH3ZRo8",
    "outputId": "f4a9b9bb-e303-47bd-a5c6-5bbbb91084ee"
   },
   "outputs": [],
   "source": [
    "y_risco_credito"
   ]
  },
  {
   "cell_type": "code",
   "execution_count": null,
   "metadata": {
    "colab": {
     "base_uri": "https://localhost:8080/"
    },
    "id": "icU__5boZVKl",
    "outputId": "60e58cb1-7f02-4095-98db-d3d9b84fa4e2"
   },
   "outputs": [],
   "source": [
    "arvore_risco_credito = DecisionTreeClassifier(criterion='entropy')\n",
    "arvore_risco_credito.fit(X_risco_credito, y_risco_credito)"
   ]
  },
  {
   "cell_type": "code",
   "execution_count": null,
   "metadata": {
    "colab": {
     "base_uri": "https://localhost:8080/"
    },
    "id": "aKQXYAs_Z0Uh",
    "outputId": "5db90d40-f170-4b15-a6e9-538c1e36d182"
   },
   "outputs": [],
   "source": [
    "arvore_risco_credito.feature_importances_"
   ]
  },
  {
   "cell_type": "code",
   "execution_count": null,
   "metadata": {
    "colab": {
     "base_uri": "https://localhost:8080/"
    },
    "id": "BbOiQy7zbByE",
    "outputId": "79f1564b-9f66-429e-b8ee-dcdc901220b7"
   },
   "outputs": [],
   "source": [
    "arvore_risco_credito.classes_"
   ]
  },
  {
   "cell_type": "code",
   "execution_count": null,
   "metadata": {
    "colab": {
     "base_uri": "https://localhost:8080/"
    },
    "id": "RDybElkVaIvA",
    "outputId": "2ca7e484-1979-450c-f49d-3859036ded3a"
   },
   "outputs": [],
   "source": [
    "from sklearn import tree\n",
    "previsores = ['história', 'dívida', 'garantias', 'renda']\n",
    "figura, eixos = plt.subplots(nrows=1, ncols=1, figsize=(10,10))\n",
    "tree.plot_tree(arvore_risco_credito, feature_names=previsores, class_names = arvore_risco_credito.classes_, filled=True);"
   ]
  },
  {
   "cell_type": "code",
   "execution_count": null,
   "metadata": {
    "colab": {
     "base_uri": "https://localhost:8080/"
    },
    "id": "-eoPV-YDbbl6",
    "outputId": "31e04938-2e08-42e0-956b-4cc5fefbd31a"
   },
   "outputs": [],
   "source": [
    "# história boa, dívida alta, garantias nenhuma, renda > 35\n",
    "# história ruim, dívida alta, garantias adequada, renda < 15\n",
    "previsoes = arvore_risco_credito.predict([[0,0,1,2],[2,0,0,0]])\n",
    "previsoes"
   ]
  },
  {
   "cell_type": "markdown",
   "metadata": {
    "id": "TOCiDpHFU90w"
   },
   "source": [
    "## Base credit data - 98.20%"
   ]
  },
  {
   "cell_type": "code",
   "execution_count": null,
   "metadata": {
    "id": "2VDXesvpcpTi"
   },
   "outputs": [],
   "source": [
    "with open('credit.pkl', 'rb') as f:\n",
    "  X_credit_treinamento, y_credit_treinamento, X_credit_teste, y_credit_teste = pickle.load(f)"
   ]
  },
  {
   "cell_type": "code",
   "execution_count": null,
   "metadata": {
    "colab": {
     "base_uri": "https://localhost:8080/"
    },
    "id": "CTU0tRB3c9aU",
    "outputId": "203fab25-95e1-4f8e-8350-8517bc93c47a"
   },
   "outputs": [],
   "source": [
    "X_credit_treinamento.shape, y_credit_treinamento.shape"
   ]
  },
  {
   "cell_type": "code",
   "execution_count": null,
   "metadata": {
    "colab": {
     "base_uri": "https://localhost:8080/"
    },
    "id": "XOMt__xNdC_A",
    "outputId": "315d67b1-554c-4df0-f368-2e5d9137e0e6"
   },
   "outputs": [],
   "source": [
    "X_credit_teste.shape, y_credit_teste.shape"
   ]
  },
  {
   "cell_type": "code",
   "execution_count": null,
   "metadata": {
    "colab": {
     "base_uri": "https://localhost:8080/"
    },
    "id": "eplNbMEcdHap",
    "outputId": "2f9bde65-7827-4466-e031-d477d7a71477"
   },
   "outputs": [],
   "source": [
    "arvore_credit = DecisionTreeClassifier(criterion='entropy', random_state = 0)\n",
    "arvore_credit.fit(X_credit_treinamento, y_credit_treinamento)"
   ]
  },
  {
   "cell_type": "code",
   "execution_count": null,
   "metadata": {
    "colab": {
     "base_uri": "https://localhost:8080/"
    },
    "id": "acB3m58gdZ95",
    "outputId": "a9111032-58b4-4f4f-b5a4-d5d80af3bf29"
   },
   "outputs": [],
   "source": [
    "previsoes = arvore_credit.predict(X_credit_teste)\n",
    "previsoes"
   ]
  },
  {
   "cell_type": "code",
   "execution_count": null,
   "metadata": {
    "colab": {
     "base_uri": "https://localhost:8080/"
    },
    "id": "_b7lIf-Xdh3-",
    "outputId": "8d17d439-7270-45d7-d9f6-a1d9bff25dc2"
   },
   "outputs": [],
   "source": [
    "y_credit_teste"
   ]
  },
  {
   "cell_type": "code",
   "execution_count": null,
   "metadata": {
    "id": "XYWVMw3WdvRJ"
   },
   "outputs": [],
   "source": [
    "from sklearn.metrics import accuracy_score, classification_report"
   ]
  },
  {
   "cell_type": "code",
   "execution_count": null,
   "metadata": {
    "colab": {
     "base_uri": "https://localhost:8080/"
    },
    "id": "uxVZTYeVdyln",
    "outputId": "a1c19c4b-66b6-4bb2-f01a-ced16a760f39"
   },
   "outputs": [],
   "source": [
    "accuracy_score(y_credit_teste, previsoes)"
   ]
  },
  {
   "cell_type": "code",
   "execution_count": null,
   "metadata": {
    "colab": {
     "base_uri": "https://localhost:8080/"
    },
    "id": "KyxnMFFcd-dV",
    "outputId": "2601e2d6-4896-4126-ca7b-3f51b775eac7"
   },
   "outputs": [],
   "source": [
    "from yellowbrick.classifier import ConfusionMatrix\n",
    "cm = ConfusionMatrix(arvore_credit)\n",
    "cm.fit(X_credit_treinamento, y_credit_treinamento)\n",
    "cm.score(X_credit_teste, y_credit_teste)"
   ]
  },
  {
   "cell_type": "code",
   "execution_count": null,
   "metadata": {
    "colab": {
     "base_uri": "https://localhost:8080/"
    },
    "id": "TOKN0sCQejMA",
    "outputId": "fb5f9570-5b46-463b-86ec-9b6ab490d3da"
   },
   "outputs": [],
   "source": [
    "print(classification_report(y_credit_teste, previsoes))"
   ]
  },
  {
   "cell_type": "code",
   "execution_count": null,
   "metadata": {
    "colab": {
     "base_uri": "https://localhost:8080/"
    },
    "id": "qbIHsNpWfU9F",
    "outputId": "35d1f56a-3c35-43cc-bfe1-1eb81f6787c8"
   },
   "outputs": [],
   "source": [
    "arvore_credit.classes_"
   ]
  },
  {
   "cell_type": "code",
   "execution_count": null,
   "metadata": {
    "colab": {
     "base_uri": "https://localhost:8080/"
    },
    "id": "OaEECZFwfM5A",
    "outputId": "55cead00-8b5e-40fb-bd1c-6bbaabef837b"
   },
   "outputs": [],
   "source": [
    "from sklearn import tree\n",
    "previsores = ['income', 'age', 'loan']\n",
    "fig, axes = plt.subplots(nrows = 1,ncols = 1,figsize = (20,20))\n",
    "tree.plot_tree(arvore_credit, feature_names=previsores, class_names=['0','1'], filled=True);\n",
    "fig.savefig('arvore_credit.png')"
   ]
  },
  {
   "cell_type": "markdown",
   "metadata": {
    "id": "sISIfqL0U_ss"
   },
   "source": [
    "## Base census - 81.04%"
   ]
  },
  {
   "cell_type": "code",
   "execution_count": null,
   "metadata": {
    "id": "jWdMniOCgVO4"
   },
   "outputs": [],
   "source": [
    "with open('census.pkl', 'rb') as f:\n",
    "  X_census_treinamento, y_census_treinamento, X_census_teste, y_census_teste = pickle.load(f)"
   ]
  },
  {
   "cell_type": "code",
   "execution_count": null,
   "metadata": {
    "colab": {
     "base_uri": "https://localhost:8080/"
    },
    "id": "vlWneR9agXHN",
    "outputId": "b1bb7dd5-6f41-43ec-da36-ae174470a16e"
   },
   "outputs": [],
   "source": [
    "X_census_treinamento.shape, y_census_treinamento.shape"
   ]
  },
  {
   "cell_type": "code",
   "execution_count": null,
   "metadata": {
    "colab": {
     "base_uri": "https://localhost:8080/"
    },
    "id": "hP_sOEabgZDR",
    "outputId": "f50b0964-8f15-4dc3-e8f7-55b618111701"
   },
   "outputs": [],
   "source": [
    "X_census_teste.shape, y_census_teste.shape"
   ]
  },
  {
   "cell_type": "code",
   "execution_count": null,
   "metadata": {
    "colab": {
     "base_uri": "https://localhost:8080/"
    },
    "id": "WyxQwJcuhZxX",
    "outputId": "01f0eec8-4e76-4163-d8aa-2b5160066c65"
   },
   "outputs": [],
   "source": [
    "arvore_census = DecisionTreeClassifier(criterion='entropy', random_state=0)\n",
    "arvore_census.fit(X_census_treinamento, y_census_treinamento)"
   ]
  },
  {
   "cell_type": "code",
   "execution_count": null,
   "metadata": {
    "colab": {
     "base_uri": "https://localhost:8080/"
    },
    "id": "0PDMBzgchlZR",
    "outputId": "20c8b476-7d5c-4cf2-9c13-c2f9c9834e76"
   },
   "outputs": [],
   "source": [
    "previsoes = arvore_census.predict(X_census_teste)\n",
    "previsoes"
   ]
  },
  {
   "cell_type": "code",
   "execution_count": null,
   "metadata": {
    "colab": {
     "base_uri": "https://localhost:8080/"
    },
    "id": "t19kME60hsZE",
    "outputId": "bf55219c-5b82-4f98-e412-b7dbab94fd69"
   },
   "outputs": [],
   "source": [
    "y_census_teste"
   ]
  },
  {
   "cell_type": "code",
   "execution_count": null,
   "metadata": {
    "colab": {
     "base_uri": "https://localhost:8080/"
    },
    "id": "BsAeZIpyhzVy",
    "outputId": "37acac04-a9ef-4859-a2f6-d9b8434ee65b"
   },
   "outputs": [],
   "source": [
    "accuracy_score(y_census_teste, previsoes)"
   ]
  },
  {
   "cell_type": "code",
   "execution_count": null,
   "metadata": {
    "id": "sN0Zkh2jR_m-"
   },
   "outputs": [],
   "source": [
    "from yellowbrick.classifier import ConfusionMatrix"
   ]
  },
  {
   "cell_type": "code",
   "execution_count": null,
   "metadata": {
    "colab": {
     "base_uri": "https://localhost:8080/",
     "height": 393
    },
    "id": "6sD6YJEqiC8_",
    "outputId": "75820f73-6297-4059-cb76-355f2f61a591"
   },
   "outputs": [],
   "source": [
    "from yellowbrick.classifier import ConfusionMatrix\n",
    "#cm = ConfusionMatrix(arvore_credit) corrigido 10/04/2021\n",
    "cm = ConfusionMatrix(arvore_census)\n",
    "cm.fit(X_census_treinamento, y_census_treinamento)\n",
    "cm.score(X_census_teste, y_census_teste)"
   ]
  },
  {
   "cell_type": "code",
   "execution_count": null,
   "metadata": {
    "colab": {
     "base_uri": "https://localhost:8080/"
    },
    "id": "T1MTOe3ziZ4B",
    "outputId": "56ff3846-692f-4541-ed2d-64dd259e367e"
   },
   "outputs": [],
   "source": [
    "print(classification_report(y_census_teste, previsoes))"
   ]
  },
  {
   "cell_type": "markdown",
   "metadata": {
    "id": "BOPQLz28jDi7"
   },
   "source": [
    "# Random Forest"
   ]
  },
  {
   "cell_type": "code",
   "execution_count": null,
   "metadata": {
    "id": "4WvAs54_jVEF"
   },
   "outputs": [],
   "source": [
    "from sklearn.ensemble import RandomForestClassifier"
   ]
  },
  {
   "cell_type": "markdown",
   "metadata": {
    "id": "ZO-c0InojFK5"
   },
   "source": [
    "## Base credit data - 98.40%"
   ]
  },
  {
   "cell_type": "code",
   "execution_count": null,
   "metadata": {
    "id": "5TKwplJyjgQL"
   },
   "outputs": [],
   "source": [
    "import pickle\n",
    "with open('credit.pkl', 'rb') as f:\n",
    "  X_credit_treinamento, y_credit_treinamento, X_credit_teste, y_credit_teste = pickle.load(f)"
   ]
  },
  {
   "cell_type": "code",
   "execution_count": null,
   "metadata": {
    "colab": {
     "base_uri": "https://localhost:8080/"
    },
    "id": "HYMUmxRcjoHA",
    "outputId": "c2fc9b0f-69f2-45e7-a015-d9bd8e95d31c"
   },
   "outputs": [],
   "source": [
    "X_credit_treinamento.shape, y_credit_treinamento.shape"
   ]
  },
  {
   "cell_type": "code",
   "execution_count": null,
   "metadata": {
    "colab": {
     "base_uri": "https://localhost:8080/"
    },
    "id": "AHCwA7CfjsiX",
    "outputId": "534d721c-e9bc-4632-d78a-a91426e9d3e8"
   },
   "outputs": [],
   "source": [
    "X_credit_teste.shape, y_credit_teste.shape"
   ]
  },
  {
   "cell_type": "code",
   "execution_count": null,
   "metadata": {
    "colab": {
     "base_uri": "https://localhost:8080/"
    },
    "id": "TERGTyNwju4t",
    "outputId": "49a9f534-18fd-4674-c24c-18abca703c27"
   },
   "outputs": [],
   "source": [
    "random_forest_credit = RandomForestClassifier(n_estimators=40, criterion='entropy', random_state = 0)\n",
    "random_forest_credit.fit(X_credit_treinamento, y_credit_treinamento)"
   ]
  },
  {
   "cell_type": "code",
   "execution_count": null,
   "metadata": {
    "colab": {
     "base_uri": "https://localhost:8080/"
    },
    "id": "oxJBpA5rkO7o",
    "outputId": "6eaee9d1-d24a-4207-e60a-2dbabe0a07e5"
   },
   "outputs": [],
   "source": [
    "previsoes = random_forest_credit.predict(X_credit_teste)\n",
    "previsoes"
   ]
  },
  {
   "cell_type": "code",
   "execution_count": null,
   "metadata": {
    "colab": {
     "base_uri": "https://localhost:8080/"
    },
    "id": "luiG5NigkX2R",
    "outputId": "d4206292-ef02-4a64-e50f-bfa144b011eb"
   },
   "outputs": [],
   "source": [
    "y_credit_teste"
   ]
  },
  {
   "cell_type": "code",
   "execution_count": null,
   "metadata": {
    "colab": {
     "base_uri": "https://localhost:8080/"
    },
    "id": "nzWIt3WikfcF",
    "outputId": "60d8b432-3dda-4fc8-991b-97197e465a88"
   },
   "outputs": [],
   "source": [
    "from sklearn.metrics import accuracy_score, classification_report\n",
    "accuracy_score(y_credit_teste, previsoes)"
   ]
  },
  {
   "cell_type": "code",
   "execution_count": null,
   "metadata": {
    "colab": {
     "base_uri": "https://localhost:8080/"
    },
    "id": "PZXPd4lklYLP",
    "outputId": "d7bd6fa0-1d60-45da-8487-6820ee0effcf"
   },
   "outputs": [],
   "source": [
    "from yellowbrick.classifier import ConfusionMatrix\n",
    "cm = ConfusionMatrix(random_forest_credit)\n",
    "cm.fit(X_credit_treinamento, y_credit_treinamento)\n",
    "cm.score(X_credit_teste, y_credit_teste)"
   ]
  },
  {
   "cell_type": "code",
   "execution_count": null,
   "metadata": {
    "colab": {
     "base_uri": "https://localhost:8080/"
    },
    "id": "3pf7Mx6OloBa",
    "outputId": "9f3212aa-ba67-4917-ff18-80d459eff84c"
   },
   "outputs": [],
   "source": [
    "print(classification_report(y_credit_teste, previsoes))"
   ]
  },
  {
   "cell_type": "markdown",
   "metadata": {
    "id": "0bLyVMFrjGzm"
   },
   "source": [
    "## Base census - 85.07%"
   ]
  },
  {
   "cell_type": "code",
   "execution_count": null,
   "metadata": {
    "id": "k5WuCHm4mTy7"
   },
   "outputs": [],
   "source": [
    "with open('census.pkl', 'rb') as f:\n",
    "  X_census_treinamento, y_census_treinamento, X_census_teste, y_census_teste = pickle.load(f)"
   ]
  },
  {
   "cell_type": "code",
   "execution_count": null,
   "metadata": {
    "colab": {
     "base_uri": "https://localhost:8080/"
    },
    "id": "sH45U424mWeZ",
    "outputId": "1105ef64-16fb-47e0-a62a-d7233e967477"
   },
   "outputs": [],
   "source": [
    "X_census_treinamento.shape, y_census_treinamento.shape"
   ]
  },
  {
   "cell_type": "code",
   "execution_count": null,
   "metadata": {
    "colab": {
     "base_uri": "https://localhost:8080/"
    },
    "id": "NyZdB0tbmYNj",
    "outputId": "ee5a6753-8b4d-4ab1-ff81-3ee3b3e4690d"
   },
   "outputs": [],
   "source": [
    "X_census_teste.shape, y_census_teste.shape"
   ]
  },
  {
   "cell_type": "code",
   "execution_count": null,
   "metadata": {
    "colab": {
     "base_uri": "https://localhost:8080/"
    },
    "id": "G_G_r_jlmayp",
    "outputId": "253fe5ab-375e-472a-9709-a56b65ab7987"
   },
   "outputs": [],
   "source": [
    "y_census_treinamento"
   ]
  },
  {
   "cell_type": "code",
   "execution_count": null,
   "metadata": {
    "colab": {
     "base_uri": "https://localhost:8080/"
    },
    "id": "mkJ7hNQ5nJ5c",
    "outputId": "71477895-46af-4c79-e089-43f26cc47eca"
   },
   "outputs": [],
   "source": [
    "random_forest_census = RandomForestClassifier(n_estimators=100, criterion='entropy', random_state = 0)\n",
    "random_forest_census.fit(X_census_treinamento, y_census_treinamento)"
   ]
  },
  {
   "cell_type": "code",
   "execution_count": null,
   "metadata": {
    "colab": {
     "base_uri": "https://localhost:8080/"
    },
    "id": "igHeOOPnnZ0m",
    "outputId": "b3473052-25ab-4a6e-f78b-a5a2f968005b"
   },
   "outputs": [],
   "source": [
    "previsoes = random_forest_census.predict(X_census_teste)\n",
    "previsoes"
   ]
  },
  {
   "cell_type": "code",
   "execution_count": null,
   "metadata": {
    "colab": {
     "base_uri": "https://localhost:8080/"
    },
    "id": "zlTjLf5KngZi",
    "outputId": "2f01b21c-dea0-43ac-8ff3-b64804cd5296"
   },
   "outputs": [],
   "source": [
    "y_census_teste"
   ]
  },
  {
   "cell_type": "code",
   "execution_count": null,
   "metadata": {
    "colab": {
     "base_uri": "https://localhost:8080/"
    },
    "id": "wY55Wq1Hn2QB",
    "outputId": "8e2757ea-3f09-4186-cb23-c1359caefa9d"
   },
   "outputs": [],
   "source": [
    "from sklearn.metrics import accuracy_score, classification_report\n",
    "accuracy_score(y_census_teste, previsoes)"
   ]
  },
  {
   "cell_type": "code",
   "execution_count": null,
   "metadata": {
    "colab": {
     "base_uri": "https://localhost:8080/"
    },
    "id": "Sd0ikS5noa1e",
    "outputId": "c8a2f53e-07a7-4abf-df4e-4f964164810e"
   },
   "outputs": [],
   "source": [
    "from yellowbrick.classifier import ConfusionMatrix\n",
    "cm = ConfusionMatrix(random_forest_census)\n",
    "cm.fit(X_census_treinamento, y_census_treinamento)\n",
    "cm.score(X_census_teste, y_census_teste)"
   ]
  },
  {
   "cell_type": "code",
   "execution_count": null,
   "metadata": {
    "colab": {
     "base_uri": "https://localhost:8080/"
    },
    "id": "M2gTO24Qoj9G",
    "outputId": "670fd2a6-2481-4701-e128-32a708ce9c6a"
   },
   "outputs": [],
   "source": [
    "print(classification_report(y_census_teste, previsoes))"
   ]
  },
  {
   "cell_type": "markdown",
   "metadata": {
    "id": "h8ZVuJ-VDE8h"
   },
   "source": [
    "# Regras"
   ]
  },
  {
   "cell_type": "code",
   "execution_count": null,
   "metadata": {
    "colab": {
     "base_uri": "https://localhost:8080/"
    },
    "id": "6FeVctGQEhYg",
    "outputId": "5ce4892d-0545-496f-eba3-907aad86a843"
   },
   "outputs": [],
   "source": [
    "!pip install Orange3"
   ]
  },
  {
   "cell_type": "code",
   "execution_count": null,
   "metadata": {
    "id": "cVoUs1jvExRJ"
   },
   "outputs": [],
   "source": [
    "import Orange"
   ]
  },
  {
   "cell_type": "markdown",
   "metadata": {
    "id": "4gUvxQ_wDGt4"
   },
   "source": [
    "## Base risco de crédito"
   ]
  },
  {
   "cell_type": "code",
   "execution_count": null,
   "metadata": {
    "id": "JotbvF6BE2HC"
   },
   "outputs": [],
   "source": [
    "base_risco_credito = Orange.data.Table('risco_credito_regras.csv')"
   ]
  },
  {
   "cell_type": "code",
   "execution_count": null,
   "metadata": {
    "colab": {
     "base_uri": "https://localhost:8080/"
    },
    "id": "NFP_btyJFjrt",
    "outputId": "0b43c636-5c5c-4c96-d4b5-5ba7fc15bb92"
   },
   "outputs": [],
   "source": [
    "base_risco_credito"
   ]
  },
  {
   "cell_type": "code",
   "execution_count": null,
   "metadata": {
    "colab": {
     "base_uri": "https://localhost:8080/"
    },
    "id": "S6fpfEpvFtgl",
    "outputId": "ef25bc88-0799-4e19-cea8-98b5a8aca1ae"
   },
   "outputs": [],
   "source": [
    "base_risco_credito.domain"
   ]
  },
  {
   "cell_type": "code",
   "execution_count": null,
   "metadata": {
    "id": "Kz0nmdA1Fy67"
   },
   "outputs": [],
   "source": [
    "cn2 = Orange.classification.rules.CN2Learner()\n",
    "regras_risco_credito = cn2(base_risco_credito)"
   ]
  },
  {
   "cell_type": "code",
   "execution_count": null,
   "metadata": {
    "colab": {
     "base_uri": "https://localhost:8080/"
    },
    "id": "5k6XhEgSGK4i",
    "outputId": "bc586823-7b20-4182-f4ed-1243c306d2b3"
   },
   "outputs": [],
   "source": [
    "for regras in regras_risco_credito.rule_list:\n",
    "  print(regras)"
   ]
  },
  {
   "cell_type": "code",
   "execution_count": null,
   "metadata": {
    "colab": {
     "base_uri": "https://localhost:8080/"
    },
    "id": "zCvmpF6QGd6b",
    "outputId": "a3a3d698-b0d6-47d3-f292-91ad3d640bab"
   },
   "outputs": [],
   "source": [
    "# história boa, dívida alta, garantias nenhuma, renda > 35\n",
    "# história ruim, dívida alta, garantias adequada, renda < 15\n",
    "previsoes = regras_risco_credito([['boa', 'alta', 'nenhuma', 'acima_35'], ['ruim', 'alta', 'adequada', '0_15']])\n",
    "previsoes"
   ]
  },
  {
   "cell_type": "code",
   "execution_count": null,
   "metadata": {
    "colab": {
     "base_uri": "https://localhost:8080/"
    },
    "id": "GrdBdDmpG7tR",
    "outputId": "1294df54-d94a-4419-f2df-a6552d36636c"
   },
   "outputs": [],
   "source": [
    "base_risco_credito.domain.class_var.values"
   ]
  },
  {
   "cell_type": "code",
   "execution_count": null,
   "metadata": {
    "colab": {
     "base_uri": "https://localhost:8080/"
    },
    "id": "UP6orLokHKIc",
    "outputId": "5ed58f12-daf1-4809-ebe5-fbbcdd71a02c"
   },
   "outputs": [],
   "source": [
    "for i in previsoes:\n",
    "  #print(i)\n",
    "  print(base_risco_credito.domain.class_var.values[i])"
   ]
  },
  {
   "cell_type": "markdown",
   "metadata": {
    "id": "SN9q4qQiDIsi"
   },
   "source": [
    "## Base credit data - 97.40%"
   ]
  },
  {
   "cell_type": "code",
   "execution_count": null,
   "metadata": {
    "id": "QuSE07tsIuKc"
   },
   "outputs": [],
   "source": [
    "base_credit = Orange.data.Table('/content/credit_data_regras.csv')"
   ]
  },
  {
   "cell_type": "code",
   "execution_count": null,
   "metadata": {
    "colab": {
     "base_uri": "https://localhost:8080/"
    },
    "id": "dobXFvYAJHSV",
    "outputId": "aa9f9d1b-5398-45c5-a5d7-d605f53ae6a4"
   },
   "outputs": [],
   "source": [
    "base_credit.domain"
   ]
  },
  {
   "cell_type": "code",
   "execution_count": null,
   "metadata": {
    "id": "SkJKeptJJTFp"
   },
   "outputs": [],
   "source": [
    "base_dividida = Orange.evaluation.testing.sample(base_credit, n = 0.25)"
   ]
  },
  {
   "cell_type": "code",
   "execution_count": null,
   "metadata": {
    "colab": {
     "base_uri": "https://localhost:8080/"
    },
    "id": "woLF8PBXJc88",
    "outputId": "eeda6ea1-060f-47b7-f1cf-723c0293726e"
   },
   "outputs": [],
   "source": [
    "base_dividida"
   ]
  },
  {
   "cell_type": "code",
   "execution_count": null,
   "metadata": {
    "colab": {
     "base_uri": "https://localhost:8080/"
    },
    "id": "q5Nhh6j4JjZw",
    "outputId": "429d0023-6313-4a62-904e-0d283a152f88"
   },
   "outputs": [],
   "source": [
    "base_dividida[0]"
   ]
  },
  {
   "cell_type": "code",
   "execution_count": null,
   "metadata": {
    "colab": {
     "base_uri": "https://localhost:8080/"
    },
    "id": "hqZ62jxpJmUo",
    "outputId": "a8f55a13-4981-440f-cd31-3408072d4e8c"
   },
   "outputs": [],
   "source": [
    "base_dividida[1]"
   ]
  },
  {
   "cell_type": "code",
   "execution_count": null,
   "metadata": {
    "id": "UiDXtlkfJpvt"
   },
   "outputs": [],
   "source": [
    "base_treinamento = base_dividida[1]\n",
    "base_teste = base_dividida[0]"
   ]
  },
  {
   "cell_type": "code",
   "execution_count": null,
   "metadata": {
    "colab": {
     "base_uri": "https://localhost:8080/"
    },
    "id": "vy3NAF4FJyb6",
    "outputId": "eff9643d-5526-40b3-95e5-e838d8848912"
   },
   "outputs": [],
   "source": [
    "len(base_treinamento), len(base_teste)"
   ]
  },
  {
   "cell_type": "code",
   "execution_count": null,
   "metadata": {
    "id": "yX98QMQTJ4OB"
   },
   "outputs": [],
   "source": [
    "cn2 = Orange.classification.rules.CN2Learner()\n",
    "regras_credit = cn2(base_treinamento)"
   ]
  },
  {
   "cell_type": "code",
   "execution_count": null,
   "metadata": {
    "colab": {
     "base_uri": "https://localhost:8080/"
    },
    "id": "cAyvYmKVKBax",
    "outputId": "737f26b6-2ceb-48f0-c1d0-08c3a33de512"
   },
   "outputs": [],
   "source": [
    "for regras in regras_credit.rule_list:\n",
    "  print(regras)"
   ]
  },
  {
   "cell_type": "code",
   "execution_count": null,
   "metadata": {
    "id": "yl6zfDdlKZU8"
   },
   "outputs": [],
   "source": [
    "previsoes = Orange.evaluation.testing.TestOnTestData(base_treinamento, base_teste, [lambda testdata: regras_credit])"
   ]
  },
  {
   "cell_type": "code",
   "execution_count": null,
   "metadata": {
    "colab": {
     "base_uri": "https://localhost:8080/"
    },
    "id": "PT0mtQHRKqzJ",
    "outputId": "c112d9b4-8f15-480e-f6f3-7ce6f8c8ab04"
   },
   "outputs": [],
   "source": [
    "previsoes"
   ]
  },
  {
   "cell_type": "code",
   "execution_count": null,
   "metadata": {
    "colab": {
     "base_uri": "https://localhost:8080/"
    },
    "id": "cBo2fgbsKvUo",
    "outputId": "c5848713-3a5a-42c9-b1d9-cb84564a5bea"
   },
   "outputs": [],
   "source": [
    "Orange.evaluation.CA(previsoes)"
   ]
  },
  {
   "cell_type": "markdown",
   "metadata": {
    "id": "E2S9lDBTDKE6"
   },
   "source": [
    "## Base census - 78.90% (executado na interface gráfica do Orange)"
   ]
  },
  {
   "cell_type": "markdown",
   "metadata": {
    "id": "0v5iHxzcNPNK"
   },
   "source": [
    "# Classificador base - Majority learner"
   ]
  },
  {
   "cell_type": "markdown",
   "metadata": {
    "id": "TWW4JhkLNS0t"
   },
   "source": [
    "## Base credit data - 85.85%"
   ]
  },
  {
   "cell_type": "code",
   "execution_count": null,
   "metadata": {
    "id": "W0jSC1J5OJU4"
   },
   "outputs": [],
   "source": [
    "base_credit = Orange.data.Table('credit_data_regras.csv')"
   ]
  },
  {
   "cell_type": "code",
   "execution_count": null,
   "metadata": {
    "colab": {
     "base_uri": "https://localhost:8080/"
    },
    "id": "MBUnH2VHOaTD",
    "outputId": "b03c026f-bf70-4283-98e6-d21c3bce77dc"
   },
   "outputs": [],
   "source": [
    "base_credit.domain"
   ]
  },
  {
   "cell_type": "code",
   "execution_count": null,
   "metadata": {
    "id": "s8ptBHrFOd5u"
   },
   "outputs": [],
   "source": [
    "majority = Orange.classification.MajorityLearner()"
   ]
  },
  {
   "cell_type": "code",
   "execution_count": null,
   "metadata": {
    "id": "0vyKSrmtOiL1"
   },
   "outputs": [],
   "source": [
    "previsoes = Orange.evaluation.testing.TestOnTestData(base_credit, base_credit, [majority])"
   ]
  },
  {
   "cell_type": "code",
   "execution_count": null,
   "metadata": {
    "colab": {
     "base_uri": "https://localhost:8080/"
    },
    "id": "cEjSSc1GOuk-",
    "outputId": "f971484c-a0d4-4c31-e098-4aeed74059a1"
   },
   "outputs": [],
   "source": [
    "Orange.evaluation.CA(previsoes)"
   ]
  },
  {
   "cell_type": "code",
   "execution_count": null,
   "metadata": {
    "colab": {
     "base_uri": "https://localhost:8080/"
    },
    "id": "qPuqn8mkO1Bl",
    "outputId": "cce07aba-388d-4cfb-9f68-28772c63ce2c"
   },
   "outputs": [],
   "source": [
    "for registro in base_credit:\n",
    "  print(registro.get_class())"
   ]
  },
  {
   "cell_type": "code",
   "execution_count": null,
   "metadata": {
    "colab": {
     "base_uri": "https://localhost:8080/"
    },
    "id": "P-YpGhWKPCiv",
    "outputId": "9dd0bc07-898e-4d3e-8a9b-f84d082a9d20"
   },
   "outputs": [],
   "source": [
    "from collections import Counter\n",
    "Counter(str(registro.get_class()) for registro in base_credit)"
   ]
  },
  {
   "cell_type": "code",
   "execution_count": null,
   "metadata": {
    "colab": {
     "base_uri": "https://localhost:8080/"
    },
    "id": "13NUGhhTPVqn",
    "outputId": "fdec8937-f1b6-4443-c8c7-8afaa37d999b"
   },
   "outputs": [],
   "source": [
    "1717 / 2000"
   ]
  },
  {
   "cell_type": "markdown",
   "metadata": {
    "id": "e6tDYDLUNUWH"
   },
   "source": [
    "## Base census - 75.91%"
   ]
  },
  {
   "cell_type": "code",
   "execution_count": null,
   "metadata": {
    "id": "9SVmh75gQqRH"
   },
   "outputs": [],
   "source": [
    "base_census = Orange.data.Table('census_regras.csv')"
   ]
  },
  {
   "cell_type": "code",
   "execution_count": null,
   "metadata": {
    "colab": {
     "base_uri": "https://localhost:8080/"
    },
    "id": "OaLq4sn-Q2Ul",
    "outputId": "e5b29007-a38c-41db-ed5f-eb88fa601157"
   },
   "outputs": [],
   "source": [
    "base_census.domain"
   ]
  },
  {
   "cell_type": "code",
   "execution_count": null,
   "metadata": {
    "colab": {
     "base_uri": "https://localhost:8080/"
    },
    "id": "upiW6xtQQ_T4",
    "outputId": "e3d0157c-d837-4f94-e666-4a090d701244"
   },
   "outputs": [],
   "source": [
    "majority = Orange.classification.MajorityLearner()\n",
    "previsoes = Orange.evaluation.testing.TestOnTestData(base_census, base_census, [majority])\n",
    "Orange.evaluation.CA(previsoes)"
   ]
  },
  {
   "cell_type": "code",
   "execution_count": null,
   "metadata": {
    "colab": {
     "base_uri": "https://localhost:8080/"
    },
    "id": "DtiCx4oLRwDS",
    "outputId": "0406b9bd-62dc-476f-a039-51d20afa92ad"
   },
   "outputs": [],
   "source": [
    "Counter(str(registro.get_class()) for registro in base_census)"
   ]
  },
  {
   "cell_type": "code",
   "execution_count": null,
   "metadata": {
    "colab": {
     "base_uri": "https://localhost:8080/"
    },
    "id": "O6880j0IR4dV",
    "outputId": "0329ec96-1fb1-4d8a-a92d-1870d8bb8fa2"
   },
   "outputs": [],
   "source": [
    "24720 / (24720 + 7841)"
   ]
  },
  {
   "cell_type": "markdown",
   "metadata": {
    "id": "_lPLnCYVTQGk"
   },
   "source": [
    "# Aprendizagem baseada em instâncias - knn"
   ]
  },
  {
   "cell_type": "code",
   "execution_count": null,
   "metadata": {
    "id": "0vfqZ5eEXpFz"
   },
   "outputs": [],
   "source": [
    "from sklearn.neighbors import KNeighborsClassifier"
   ]
  },
  {
   "cell_type": "markdown",
   "metadata": {
    "id": "oVZ33-HhTUcV"
   },
   "source": [
    "## Base credit data - 98.60%"
   ]
  },
  {
   "cell_type": "code",
   "execution_count": null,
   "metadata": {
    "id": "Wrwt0OWwW2oM"
   },
   "outputs": [],
   "source": [
    "import pickle\n",
    "with open('credit.pkl', 'rb') as f:\n",
    "  X_credit_treinamento, y_credit_treinamento, X_credit_teste, y_credit_teste = pickle.load(f)"
   ]
  },
  {
   "cell_type": "code",
   "execution_count": null,
   "metadata": {
    "colab": {
     "base_uri": "https://localhost:8080/"
    },
    "id": "7oVZ2h01W41G",
    "outputId": "be3d07c0-326d-4b1d-a3bd-de07bfc3289d"
   },
   "outputs": [],
   "source": [
    "X_credit_treinamento.shape, y_credit_treinamento.shape"
   ]
  },
  {
   "cell_type": "code",
   "execution_count": null,
   "metadata": {
    "colab": {
     "base_uri": "https://localhost:8080/"
    },
    "id": "AKtVPiIfW6x6",
    "outputId": "862349ff-2e68-4d8c-b10b-ac5142236764"
   },
   "outputs": [],
   "source": [
    "X_credit_teste.shape, y_credit_teste.shape"
   ]
  },
  {
   "cell_type": "code",
   "execution_count": null,
   "metadata": {
    "colab": {
     "base_uri": "https://localhost:8080/"
    },
    "id": "xkC1VdFmXvcz",
    "outputId": "79810dfa-5486-45ad-9832-78f6a5ee2219"
   },
   "outputs": [],
   "source": [
    "knn_credit = KNeighborsClassifier(n_neighbors=5, metric='minkowski', p = 2)\n",
    "knn_credit.fit(X_credit_treinamento, y_credit_treinamento)"
   ]
  },
  {
   "cell_type": "code",
   "execution_count": null,
   "metadata": {
    "colab": {
     "base_uri": "https://localhost:8080/"
    },
    "id": "sSCtq6WKYlFx",
    "outputId": "63dd3385-c0c8-4834-adc7-51cffa7526d8"
   },
   "outputs": [],
   "source": [
    "previsoes = knn_credit.predict(X_credit_teste)\n",
    "previsoes"
   ]
  },
  {
   "cell_type": "code",
   "execution_count": null,
   "metadata": {
    "colab": {
     "base_uri": "https://localhost:8080/"
    },
    "id": "MeEsIvG6Yq2o",
    "outputId": "6186c938-3d0b-4266-c1bb-cfc341c97276"
   },
   "outputs": [],
   "source": [
    "y_credit_teste"
   ]
  },
  {
   "cell_type": "code",
   "execution_count": null,
   "metadata": {
    "colab": {
     "base_uri": "https://localhost:8080/"
    },
    "id": "vFRKQkgwYx64",
    "outputId": "3fd00aae-77ac-4a90-8a9b-47a8edb081aa"
   },
   "outputs": [],
   "source": [
    "from sklearn.metrics import accuracy_score, classification_report\n",
    "accuracy_score(y_credit_teste, previsoes) # padronização"
   ]
  },
  {
   "cell_type": "code",
   "execution_count": null,
   "metadata": {
    "colab": {
     "base_uri": "https://localhost:8080/",
     "height": 361
    },
    "id": "N3L_y8P4ZN2Q",
    "outputId": "edca2613-87eb-4cba-f6e1-76104102131c"
   },
   "outputs": [],
   "source": [
    "from yellowbrick.classifier import ConfusionMatrix\n",
    "cm = ConfusionMatrix(knn_credit)\n",
    "cm.fit(X_credit_treinamento, y_credit_treinamento)\n",
    "cm.score(X_credit_teste, y_credit_teste)"
   ]
  },
  {
   "cell_type": "code",
   "execution_count": null,
   "metadata": {
    "colab": {
     "base_uri": "https://localhost:8080/"
    },
    "id": "L8yIkbWtZYpG",
    "outputId": "ff6df4e0-b0d8-43db-c273-958df166aae3"
   },
   "outputs": [],
   "source": [
    "print(classification_report(y_credit_teste, previsoes))"
   ]
  },
  {
   "cell_type": "markdown",
   "metadata": {
    "id": "y5tg1RPDTWPu"
   },
   "source": [
    "## Base census - 82.90%"
   ]
  },
  {
   "cell_type": "code",
   "execution_count": null,
   "metadata": {
    "id": "iFLBmnKgaVvV"
   },
   "outputs": [],
   "source": [
    "with open('census.pkl', 'rb') as f:\n",
    "  X_census_treinamento, y_census_treinamento, X_census_teste, y_census_teste = pickle.load(f)"
   ]
  },
  {
   "cell_type": "code",
   "execution_count": null,
   "metadata": {
    "colab": {
     "base_uri": "https://localhost:8080/"
    },
    "id": "i2KGOmg8aXm9",
    "outputId": "2c93d807-cfb9-4d31-8ed4-6731bbfb8c67"
   },
   "outputs": [],
   "source": [
    "X_census_treinamento.shape, y_census_treinamento.shape"
   ]
  },
  {
   "cell_type": "code",
   "execution_count": null,
   "metadata": {
    "colab": {
     "base_uri": "https://localhost:8080/"
    },
    "id": "H8lNrkBeaZgx",
    "outputId": "c98f2e96-a857-41e9-9538-9a281765b1df"
   },
   "outputs": [],
   "source": [
    "X_census_teste.shape, y_census_teste.shape"
   ]
  },
  {
   "cell_type": "code",
   "execution_count": null,
   "metadata": {
    "colab": {
     "base_uri": "https://localhost:8080/"
    },
    "id": "pkIK4syMbXbg",
    "outputId": "9a76cdbc-bbda-4722-e371-0f3c143ea033"
   },
   "outputs": [],
   "source": [
    "knn_census = KNeighborsClassifier(n_neighbors=10)\n",
    "knn_census.fit(X_census_treinamento, y_census_treinamento)"
   ]
  },
  {
   "cell_type": "code",
   "execution_count": null,
   "metadata": {
    "colab": {
     "base_uri": "https://localhost:8080/"
    },
    "id": "lVaWXMBYbsPx",
    "outputId": "4f0e941c-824b-4ef3-f03a-bd9c5da94bca"
   },
   "outputs": [],
   "source": [
    "previsoes = knn_census.predict(X_census_teste)\n",
    "previsoes"
   ]
  },
  {
   "cell_type": "code",
   "execution_count": null,
   "metadata": {
    "colab": {
     "base_uri": "https://localhost:8080/"
    },
    "id": "OAx9NscccA8r",
    "outputId": "989f2d16-af7b-4d1c-ecf9-a1d79c47324f"
   },
   "outputs": [],
   "source": [
    "y_census_teste"
   ]
  },
  {
   "cell_type": "code",
   "execution_count": null,
   "metadata": {
    "colab": {
     "base_uri": "https://localhost:8080/"
    },
    "id": "9cRPQbCecLUR",
    "outputId": "1d609084-f8c4-40ae-b3bb-773d0ec6836b"
   },
   "outputs": [],
   "source": [
    "from sklearn.metrics import accuracy_score, classification_report\n",
    "accuracy_score(y_census_teste, previsoes)"
   ]
  },
  {
   "cell_type": "code",
   "execution_count": null,
   "metadata": {
    "colab": {
     "base_uri": "https://localhost:8080/",
     "height": 393
    },
    "id": "ppyL0VtmdlHV",
    "outputId": "943fda5d-8a95-4f78-a068-0985b0229860"
   },
   "outputs": [],
   "source": [
    "from yellowbrick.classifier import ConfusionMatrix\n",
    "cm = ConfusionMatrix(knn_census)\n",
    "cm.fit(X_census_treinamento, y_census_treinamento)\n",
    "cm.score(X_census_teste, y_census_teste)"
   ]
  },
  {
   "cell_type": "code",
   "execution_count": null,
   "metadata": {
    "colab": {
     "base_uri": "https://localhost:8080/"
    },
    "id": "HXeviFQJd-TG",
    "outputId": "3db3a1c9-957f-4663-aaa6-c7817043219b"
   },
   "outputs": [],
   "source": [
    "print(classification_report(y_census_teste, previsoes))"
   ]
  },
  {
   "cell_type": "markdown",
   "metadata": {
    "id": "7q-aePyAQIcY"
   },
   "source": [
    "# Regressão logística"
   ]
  },
  {
   "cell_type": "code",
   "execution_count": null,
   "metadata": {
    "id": "woh5hyXwR_Rf"
   },
   "outputs": [],
   "source": [
    "from sklearn.linear_model import LogisticRegression"
   ]
  },
  {
   "cell_type": "markdown",
   "metadata": {
    "id": "wfNpnNK8QKut"
   },
   "source": [
    "## Base risco de crédito"
   ]
  },
  {
   "cell_type": "code",
   "execution_count": null,
   "metadata": {
    "id": "gE66NDabQrkY"
   },
   "outputs": [],
   "source": [
    "import pickle\n",
    "with open('risco_credito.pkl', 'rb') as f:\n",
    "  X_risco_credito, y_risco_credito = pickle.load(f)"
   ]
  },
  {
   "cell_type": "code",
   "execution_count": null,
   "metadata": {
    "colab": {
     "base_uri": "https://localhost:8080/"
    },
    "id": "UDGIKrEpQsv0",
    "outputId": "9935fbcc-458d-496e-d365-1ed66aed9e1e"
   },
   "outputs": [],
   "source": [
    "X_risco_credito"
   ]
  },
  {
   "cell_type": "code",
   "execution_count": null,
   "metadata": {
    "colab": {
     "base_uri": "https://localhost:8080/"
    },
    "id": "AFq67U1JQuBj",
    "outputId": "e057edc4-a39d-4768-bead-0336f8d1f779"
   },
   "outputs": [],
   "source": [
    "y_risco_credito # 2, 7, 11"
   ]
  },
  {
   "cell_type": "code",
   "execution_count": null,
   "metadata": {
    "id": "MrvB77XcRnfd"
   },
   "outputs": [],
   "source": [
    "X_risco_credito = np.delete(X_risco_credito, [2, 7, 11], axis = 0)\n",
    "y_risco_credito = np.delete(y_risco_credito, [2, 7, 11], axis = 0)"
   ]
  },
  {
   "cell_type": "code",
   "execution_count": null,
   "metadata": {
    "colab": {
     "base_uri": "https://localhost:8080/"
    },
    "id": "7wFGPDVYR211",
    "outputId": "894970c4-050c-42cf-9886-96540dabac02"
   },
   "outputs": [],
   "source": [
    "X_risco_credito"
   ]
  },
  {
   "cell_type": "code",
   "execution_count": null,
   "metadata": {
    "colab": {
     "base_uri": "https://localhost:8080/"
    },
    "id": "vMa60MSKR65S",
    "outputId": "38dc62e9-4c0a-48a1-f579-238380d2d512"
   },
   "outputs": [],
   "source": [
    "y_risco_credito"
   ]
  },
  {
   "cell_type": "code",
   "execution_count": null,
   "metadata": {
    "colab": {
     "base_uri": "https://localhost:8080/"
    },
    "id": "u1qa7kuOSEcV",
    "outputId": "c796ca75-7e10-4c28-af27-f49713744d8c"
   },
   "outputs": [],
   "source": [
    "logistic_risco_credito = LogisticRegression(random_state = 1)\n",
    "logistic_risco_credito.fit(X_risco_credito, y_risco_credito)"
   ]
  },
  {
   "cell_type": "code",
   "execution_count": null,
   "metadata": {
    "colab": {
     "base_uri": "https://localhost:8080/"
    },
    "id": "h2jo-P-2SymX",
    "outputId": "8063036f-28e7-4bfe-f983-149bb77cbcff"
   },
   "outputs": [],
   "source": [
    "logistic_risco_credito.intercept_"
   ]
  },
  {
   "cell_type": "code",
   "execution_count": null,
   "metadata": {
    "colab": {
     "base_uri": "https://localhost:8080/"
    },
    "id": "UESnWXG_TZAq",
    "outputId": "4b5584b1-d424-4114-c648-be59b1a9f2b3"
   },
   "outputs": [],
   "source": [
    "logistic_risco_credito.coef_"
   ]
  },
  {
   "cell_type": "code",
   "execution_count": null,
   "metadata": {
    "colab": {
     "base_uri": "https://localhost:8080/"
    },
    "id": "ssgOJ3t1TkuL",
    "outputId": "aefed8a2-6ceb-4983-e99b-7df2e094d1ca"
   },
   "outputs": [],
   "source": [
    "# história boa, dívida alta, garantias nenhuma, renda > 35\n",
    "# história ruim, dívida alta, garantias adequada, renda < 15\n",
    "previsoes1 = logistic_risco_credito.predict([[0,0,1,2], [2,0,0,0]])\n",
    "previsoes1"
   ]
  },
  {
   "cell_type": "markdown",
   "metadata": {
    "id": "v4BNXREgQM5G"
   },
   "source": [
    "## Base credit data - 94.60%"
   ]
  },
  {
   "cell_type": "code",
   "execution_count": null,
   "metadata": {
    "id": "tG_yfN_TVclB"
   },
   "outputs": [],
   "source": [
    "import pickle\n",
    "with open('credit.pkl', 'rb') as f:\n",
    "  X_credit_treinamento, y_credit_treinamento, X_credit_teste, y_credit_teste = pickle.load(f)"
   ]
  },
  {
   "cell_type": "code",
   "execution_count": null,
   "metadata": {
    "colab": {
     "base_uri": "https://localhost:8080/"
    },
    "id": "l6hNNTM1VeUm",
    "outputId": "cf6babcc-9d63-4249-9c52-73baf7e0bb83"
   },
   "outputs": [],
   "source": [
    "X_credit_treinamento.shape, y_credit_treinamento.shape"
   ]
  },
  {
   "cell_type": "code",
   "execution_count": null,
   "metadata": {
    "colab": {
     "base_uri": "https://localhost:8080/"
    },
    "id": "yKCldnZzVgQy",
    "outputId": "6d10c1d4-99f4-49b6-fa77-ad43244459bc"
   },
   "outputs": [],
   "source": [
    "X_credit_teste.shape, y_credit_teste.shape"
   ]
  },
  {
   "cell_type": "code",
   "execution_count": null,
   "metadata": {
    "colab": {
     "base_uri": "https://localhost:8080/"
    },
    "id": "f_RnL43VV9Yc",
    "outputId": "889b4c6d-2f71-4ea1-e51e-afe7d50ea70c"
   },
   "outputs": [],
   "source": [
    "logistic_credit = LogisticRegression(random_state=1)\n",
    "logistic_credit.fit(X_credit_treinamento, y_credit_treinamento)"
   ]
  },
  {
   "cell_type": "code",
   "execution_count": null,
   "metadata": {
    "colab": {
     "base_uri": "https://localhost:8080/"
    },
    "id": "I7EqQihmWIQG",
    "outputId": "b8539ab5-1cfc-4b51-c36d-867861c70fbc"
   },
   "outputs": [],
   "source": [
    "logistic_credit.intercept_"
   ]
  },
  {
   "cell_type": "code",
   "execution_count": null,
   "metadata": {
    "colab": {
     "base_uri": "https://localhost:8080/"
    },
    "id": "6BS-aVjsWK_0",
    "outputId": "b8768d70-8496-4c58-89a6-b7948d63ca67"
   },
   "outputs": [],
   "source": [
    "logistic_credit.coef_"
   ]
  },
  {
   "cell_type": "code",
   "execution_count": null,
   "metadata": {
    "colab": {
     "base_uri": "https://localhost:8080/"
    },
    "id": "zKlba1wBWX1O",
    "outputId": "9e236652-6358-40d3-9e9c-20d53370a94d"
   },
   "outputs": [],
   "source": [
    "previsoes = logistic_credit.predict(X_credit_teste)\n",
    "previsoes"
   ]
  },
  {
   "cell_type": "code",
   "execution_count": null,
   "metadata": {
    "colab": {
     "base_uri": "https://localhost:8080/"
    },
    "id": "2PvIEOUQWe5V",
    "outputId": "8dd41443-6870-4bf9-9986-433ce3d62eac"
   },
   "outputs": [],
   "source": [
    "y_credit_teste"
   ]
  },
  {
   "cell_type": "code",
   "execution_count": null,
   "metadata": {
    "colab": {
     "base_uri": "https://localhost:8080/"
    },
    "id": "rZ1koXmXWl0G",
    "outputId": "4c47679a-d026-49d4-b4a1-dc93bc242acf"
   },
   "outputs": [],
   "source": [
    "from sklearn.metrics import accuracy_score, classification_report\n",
    "accuracy_score(y_credit_teste, previsoes)"
   ]
  },
  {
   "cell_type": "code",
   "execution_count": null,
   "metadata": {
    "colab": {
     "base_uri": "https://localhost:8080/",
     "height": 361
    },
    "id": "FOCsTLpmWy7C",
    "outputId": "007ad3df-1581-4082-fbd2-01f6a8125f52"
   },
   "outputs": [],
   "source": [
    "from yellowbrick.classifier import ConfusionMatrix\n",
    "cm = ConfusionMatrix(logistic_credit)\n",
    "cm.fit(X_credit_treinamento, y_credit_treinamento)\n",
    "cm.score(X_credit_teste, y_credit_teste)"
   ]
  },
  {
   "cell_type": "code",
   "execution_count": null,
   "metadata": {
    "colab": {
     "base_uri": "https://localhost:8080/"
    },
    "id": "eDmg-WNLW_tW",
    "outputId": "bed2ced4-1ef4-4ca8-d022-65587985a5a5"
   },
   "outputs": [],
   "source": [
    "print(classification_report(y_credit_teste, previsoes))"
   ]
  },
  {
   "cell_type": "markdown",
   "metadata": {
    "id": "HsYao96MQOd0"
   },
   "source": [
    "## Base census - 84.95%"
   ]
  },
  {
   "cell_type": "code",
   "execution_count": null,
   "metadata": {
    "id": "HXvqV1mAXk5F"
   },
   "outputs": [],
   "source": [
    "with open('census.pkl', 'rb') as f:\n",
    "  X_census_treinamento, y_census_treinamento, X_census_teste, y_census_teste = pickle.load(f)"
   ]
  },
  {
   "cell_type": "code",
   "execution_count": null,
   "metadata": {
    "colab": {
     "base_uri": "https://localhost:8080/"
    },
    "id": "16rj4fjwXvtz",
    "outputId": "af4b5bf1-4ff7-4e25-ec85-c7f0ffc84cf5"
   },
   "outputs": [],
   "source": [
    "X_census_treinamento.shape, y_census_treinamento.shape"
   ]
  },
  {
   "cell_type": "code",
   "execution_count": null,
   "metadata": {
    "colab": {
     "base_uri": "https://localhost:8080/"
    },
    "id": "bcGxftVtXxne",
    "outputId": "7bf55aa5-c30b-4343-edf8-a46bb2c524f2"
   },
   "outputs": [],
   "source": [
    "X_census_teste.shape, y_census_teste.shape"
   ]
  },
  {
   "cell_type": "code",
   "execution_count": null,
   "metadata": {
    "colab": {
     "base_uri": "https://localhost:8080/"
    },
    "id": "UB2z7IASYEVp",
    "outputId": "b8c5017c-eced-448a-c206-f982f8068ab9"
   },
   "outputs": [],
   "source": [
    "logistic_census = LogisticRegression(random_state = 1)\n",
    "logistic_census.fit(X_census_treinamento, y_census_treinamento)"
   ]
  },
  {
   "cell_type": "code",
   "execution_count": null,
   "metadata": {
    "colab": {
     "base_uri": "https://localhost:8080/"
    },
    "id": "FatYKw0qYQs0",
    "outputId": "0f0a6691-02e4-4f39-f3b8-47150883343c"
   },
   "outputs": [],
   "source": [
    "previsoes = logistic_census.predict(X_census_teste)\n",
    "previsoes"
   ]
  },
  {
   "cell_type": "code",
   "execution_count": null,
   "metadata": {
    "colab": {
     "base_uri": "https://localhost:8080/"
    },
    "id": "F1k6Kf8fYXXh",
    "outputId": "45f3490d-f2d4-474c-b507-67294f41a052"
   },
   "outputs": [],
   "source": [
    "y_census_teste"
   ]
  },
  {
   "cell_type": "code",
   "execution_count": null,
   "metadata": {
    "colab": {
     "base_uri": "https://localhost:8080/"
    },
    "id": "Pl4nR6NYYecM",
    "outputId": "2209e5c1-6b46-4c43-eec2-92d458a39b67"
   },
   "outputs": [],
   "source": [
    "from sklearn.metrics import accuracy_score, classification_report\n",
    "accuracy_score(y_census_teste, previsoes)"
   ]
  },
  {
   "cell_type": "code",
   "execution_count": null,
   "metadata": {
    "colab": {
     "base_uri": "https://localhost:8080/",
     "height": 393
    },
    "id": "PVYBlwDJYvvW",
    "outputId": "c8ad6d5a-3383-4e4b-a5f9-ccf2d9302c8c"
   },
   "outputs": [],
   "source": [
    "from yellowbrick.classifier import ConfusionMatrix\n",
    "cm = ConfusionMatrix(logistic_census)\n",
    "cm.fit(X_census_treinamento, y_census_treinamento)\n",
    "cm.score(X_census_teste, y_census_teste)"
   ]
  },
  {
   "cell_type": "code",
   "execution_count": null,
   "metadata": {
    "colab": {
     "base_uri": "https://localhost:8080/"
    },
    "id": "JWqMkmImY6ax",
    "outputId": "db2ac295-f1a9-4421-9768-eb2198301269"
   },
   "outputs": [],
   "source": [
    "print(classification_report(y_census_teste, previsoes))"
   ]
  },
  {
   "cell_type": "markdown",
   "metadata": {
    "id": "IMKqPBZ0ZXHc"
   },
   "source": [
    "# SVM"
   ]
  },
  {
   "cell_type": "code",
   "execution_count": null,
   "metadata": {
    "id": "HMcADIZNamRz"
   },
   "outputs": [],
   "source": [
    "from sklearn.svm import SVC"
   ]
  },
  {
   "cell_type": "markdown",
   "metadata": {
    "id": "_l47QkKfZYYX"
   },
   "source": [
    "## Base credit data - 98.80%"
   ]
  },
  {
   "cell_type": "code",
   "execution_count": null,
   "metadata": {
    "id": "a6XhbXCwauoW"
   },
   "outputs": [],
   "source": [
    "import pickle\n",
    "with open('credit.pkl', 'rb') as f:\n",
    "  X_credit_treinamento, y_credit_treinamento, X_credit_teste, y_credit_teste = pickle.load(f)"
   ]
  },
  {
   "cell_type": "code",
   "execution_count": null,
   "metadata": {
    "colab": {
     "base_uri": "https://localhost:8080/"
    },
    "id": "fh_-t966a2oT",
    "outputId": "36791a6a-f864-4fc6-d0fe-912ed92c2a56"
   },
   "outputs": [],
   "source": [
    "X_credit_treinamento.shape, y_credit_treinamento.shape"
   ]
  },
  {
   "cell_type": "code",
   "execution_count": null,
   "metadata": {
    "colab": {
     "base_uri": "https://localhost:8080/"
    },
    "id": "VM1Zcbv-a8DH",
    "outputId": "58fb008d-f9cc-481c-83ff-26357a616687"
   },
   "outputs": [],
   "source": [
    "X_credit_teste.shape, y_credit_teste.shape"
   ]
  },
  {
   "cell_type": "code",
   "execution_count": null,
   "metadata": {
    "colab": {
     "base_uri": "https://localhost:8080/"
    },
    "id": "P7xKKTCabAab",
    "outputId": "5ef3d707-6665-4dac-e84e-277b439f97df"
   },
   "outputs": [],
   "source": [
    "svm_credit = SVC(kernel='rbf', random_state=1, C = 2.0) # 2 -> 4\n",
    "svm_credit.fit(X_credit_treinamento, y_credit_treinamento)"
   ]
  },
  {
   "cell_type": "code",
   "execution_count": null,
   "metadata": {
    "colab": {
     "base_uri": "https://localhost:8080/"
    },
    "id": "VjKeaHKrbicN",
    "outputId": "d95497f0-7737-448c-ae55-d1155f8e9462"
   },
   "outputs": [],
   "source": [
    "previsoes = svm_credit.predict(X_credit_teste)\n",
    "previsoes"
   ]
  },
  {
   "cell_type": "code",
   "execution_count": null,
   "metadata": {
    "colab": {
     "base_uri": "https://localhost:8080/"
    },
    "id": "kspqvp3Obn-C",
    "outputId": "f1a4e06d-6f78-4c1c-da82-618ee72699c2"
   },
   "outputs": [],
   "source": [
    "y_credit_teste"
   ]
  },
  {
   "cell_type": "code",
   "execution_count": null,
   "metadata": {
    "colab": {
     "base_uri": "https://localhost:8080/"
    },
    "id": "uxLpKFI6bzNF",
    "outputId": "5b88cfaa-6d9f-4c37-c295-bb8997ddc56f"
   },
   "outputs": [],
   "source": [
    "from sklearn.metrics import accuracy_score, classification_report\n",
    "accuracy_score(y_credit_teste, previsoes)"
   ]
  },
  {
   "cell_type": "code",
   "execution_count": null,
   "metadata": {
    "colab": {
     "base_uri": "https://localhost:8080/",
     "height": 361
    },
    "id": "etgwtCInc-5k",
    "outputId": "28b27213-56fc-437e-e85c-aaa9a4fa76cc"
   },
   "outputs": [],
   "source": [
    "from yellowbrick.classifier import ConfusionMatrix\n",
    "cm = ConfusionMatrix(svm_credit)\n",
    "cm.fit(X_credit_treinamento, y_credit_treinamento)\n",
    "cm.score(X_credit_teste, y_credit_teste)"
   ]
  },
  {
   "cell_type": "code",
   "execution_count": null,
   "metadata": {
    "colab": {
     "base_uri": "https://localhost:8080/"
    },
    "id": "4-PQpA45dH1f",
    "outputId": "25b28233-b318-4ea1-b440-4fe8c15bbc36"
   },
   "outputs": [],
   "source": [
    "print(classification_report(y_credit_teste, previsoes))"
   ]
  },
  {
   "cell_type": "markdown",
   "metadata": {
    "id": "IDcs56b6ZZ-o"
   },
   "source": [
    "## Base census - 85.07%"
   ]
  },
  {
   "cell_type": "code",
   "execution_count": null,
   "metadata": {
    "id": "iAw7ATyieJOD"
   },
   "outputs": [],
   "source": [
    "with open('census.pkl', 'rb') as f:\n",
    "  X_census_treinamento, y_census_treinamento, X_census_teste, y_census_teste = pickle.load(f)"
   ]
  },
  {
   "cell_type": "code",
   "execution_count": null,
   "metadata": {
    "colab": {
     "base_uri": "https://localhost:8080/"
    },
    "id": "nFI2riYmeLJ7",
    "outputId": "ba87e490-64eb-4475-f9f0-cd8d784efa2c"
   },
   "outputs": [],
   "source": [
    "X_census_treinamento.shape, y_census_treinamento.shape"
   ]
  },
  {
   "cell_type": "code",
   "execution_count": null,
   "metadata": {
    "colab": {
     "base_uri": "https://localhost:8080/"
    },
    "id": "tIsy_6LyeNGJ",
    "outputId": "82c91231-7c65-4bce-f0fd-b6c6ce4683c2"
   },
   "outputs": [],
   "source": [
    "X_census_teste.shape, y_census_teste.shape"
   ]
  },
  {
   "cell_type": "code",
   "execution_count": null,
   "metadata": {
    "colab": {
     "base_uri": "https://localhost:8080/"
    },
    "id": "pdDpiTHBeyzG",
    "outputId": "84eb7e72-1c9c-4568-979c-008454477cf0"
   },
   "outputs": [],
   "source": [
    "svm_census = SVC(kernel='linear', random_state=1)\n",
    "svm_census.fit(X_census_treinamento, y_census_treinamento)"
   ]
  },
  {
   "cell_type": "code",
   "execution_count": null,
   "metadata": {
    "colab": {
     "base_uri": "https://localhost:8080/"
    },
    "id": "cxmKRXMIfuDH",
    "outputId": "a0acb472-9437-4119-c559-d8e8c4c2dcf5"
   },
   "outputs": [],
   "source": [
    "previsoes = svm_census.predict(X_census_teste)\n",
    "previsoes"
   ]
  },
  {
   "cell_type": "code",
   "execution_count": null,
   "metadata": {
    "colab": {
     "base_uri": "https://localhost:8080/"
    },
    "id": "rpZFVVGFf1RR",
    "outputId": "c551d55f-4138-4ffd-aab4-60b36687cd43"
   },
   "outputs": [],
   "source": [
    "y_census_teste"
   ]
  },
  {
   "cell_type": "code",
   "execution_count": null,
   "metadata": {
    "colab": {
     "base_uri": "https://localhost:8080/"
    },
    "id": "vyhcvmiLf7sG",
    "outputId": "46648c9e-252e-416e-ef14-9f7507d3925b"
   },
   "outputs": [],
   "source": [
    "from sklearn.metrics import accuracy_score, classification_report\n",
    "accuracy_score(y_census_teste, previsoes)"
   ]
  },
  {
   "cell_type": "code",
   "execution_count": null,
   "metadata": {
    "colab": {
     "base_uri": "https://localhost:8080/",
     "height": 393
    },
    "id": "CqWeWHmWgO5x",
    "outputId": "d4ac7a91-c93c-4122-aa58-77cc139161c4"
   },
   "outputs": [],
   "source": [
    "from yellowbrick.classifier import ConfusionMatrix\n",
    "cm = ConfusionMatrix(svm_census)\n",
    "cm.fit(X_census_treinamento, y_census_treinamento)\n",
    "cm.score(X_census_teste, y_census_teste)"
   ]
  },
  {
   "cell_type": "code",
   "execution_count": null,
   "metadata": {
    "colab": {
     "base_uri": "https://localhost:8080/"
    },
    "id": "T4DbQ4Reg81I",
    "outputId": "243fe6e8-ddc0-4649-da1c-efba0d5fa165"
   },
   "outputs": [],
   "source": [
    "print(classification_report(y_census_teste, previsoes))"
   ]
  },
  {
   "cell_type": "markdown",
   "metadata": {
    "id": "fSNUSSeOhqAd"
   },
   "source": [
    "# Redes neurais artificiais"
   ]
  },
  {
   "cell_type": "code",
   "execution_count": null,
   "metadata": {
    "id": "FvdcLLQLnFIW"
   },
   "outputs": [],
   "source": [
    "from sklearn.neural_network import MLPClassifier"
   ]
  },
  {
   "cell_type": "markdown",
   "metadata": {
    "id": "foQGPam1hrwG"
   },
   "source": [
    "## Base credit data - 99.80%"
   ]
  },
  {
   "cell_type": "code",
   "execution_count": null,
   "metadata": {
    "id": "C6uL7hyzm8Dd"
   },
   "outputs": [],
   "source": [
    "import pickle\n",
    "with open('credit.pkl', 'rb') as f:\n",
    "  X_credit_treinamento, y_credit_treinamento, X_credit_teste, y_credit_teste = pickle.load(f)"
   ]
  },
  {
   "cell_type": "code",
   "execution_count": null,
   "metadata": {
    "colab": {
     "base_uri": "https://localhost:8080/"
    },
    "id": "SIVKNjPom-Dr",
    "outputId": "89fb5c71-7134-44fa-c849-1c9aa79f6f57"
   },
   "outputs": [],
   "source": [
    "X_credit_treinamento.shape, y_credit_treinamento.shape"
   ]
  },
  {
   "cell_type": "code",
   "execution_count": null,
   "metadata": {
    "colab": {
     "base_uri": "https://localhost:8080/"
    },
    "id": "Df5EfDyjnAB6",
    "outputId": "51412d26-05a6-41dd-8937-e8e91c223161"
   },
   "outputs": [],
   "source": [
    "X_credit_teste.shape, y_credit_teste.shape"
   ]
  },
  {
   "cell_type": "code",
   "execution_count": null,
   "metadata": {
    "colab": {
     "base_uri": "https://localhost:8080/"
    },
    "id": "0c7fjRs-qePa",
    "outputId": "8c5a98cb-5078-4991-ffbe-908cd58a6406"
   },
   "outputs": [],
   "source": [
    "(3 + 1) / 2"
   ]
  },
  {
   "cell_type": "code",
   "execution_count": null,
   "metadata": {
    "colab": {
     "base_uri": "https://localhost:8080/"
    },
    "id": "BCGNa_d8nYOf",
    "outputId": "62e326f1-1841-4386-90c2-cb97a5458876"
   },
   "outputs": [],
   "source": [
    "# 3 -> 100 -> 100 -> 1\n",
    "# 3 -> 2 -> 2 -> 1\n",
    "rede_neural_credit = MLPClassifier(max_iter=1500, verbose=True, tol=0.0000100,\n",
    "                                   solver = 'adam', activation = 'relu',\n",
    "                                   hidden_layer_sizes = (20,20))\n",
    "rede_neural_credit.fit(X_credit_treinamento, y_credit_treinamento)"
   ]
  },
  {
   "cell_type": "code",
   "execution_count": null,
   "metadata": {
    "colab": {
     "base_uri": "https://localhost:8080/"
    },
    "id": "Bmn64K7vqzx1",
    "outputId": "f2470659-baf2-4888-a344-2738f35894fa"
   },
   "outputs": [],
   "source": [
    "previsoes = rede_neural_credit.predict(X_credit_teste)\n",
    "previsoes"
   ]
  },
  {
   "cell_type": "code",
   "execution_count": null,
   "metadata": {
    "colab": {
     "base_uri": "https://localhost:8080/"
    },
    "id": "AzFRj9riq9gc",
    "outputId": "7aec0086-4ed8-4b3f-c2f8-78b640691b0d"
   },
   "outputs": [],
   "source": [
    "y_credit_teste"
   ]
  },
  {
   "cell_type": "code",
   "execution_count": null,
   "metadata": {
    "colab": {
     "base_uri": "https://localhost:8080/"
    },
    "id": "4vRZgbSerBNW",
    "outputId": "27263d4c-5ff6-44f1-eb1c-21b7c57ac893"
   },
   "outputs": [],
   "source": [
    "from sklearn.metrics import accuracy_score, classification_report\n",
    "accuracy_score(y_credit_teste, previsoes)"
   ]
  },
  {
   "cell_type": "code",
   "execution_count": null,
   "metadata": {
    "colab": {
     "base_uri": "https://localhost:8080/",
     "height": 361
    },
    "id": "XwtALw-Mronz",
    "outputId": "cdf4d1b0-486b-4d3e-ab90-817aee4269e4"
   },
   "outputs": [],
   "source": [
    "from yellowbrick.classifier import ConfusionMatrix\n",
    "cm = ConfusionMatrix(rede_neural_credit)\n",
    "cm.fit(X_credit_treinamento, y_credit_treinamento)\n",
    "cm.score(X_credit_teste, y_credit_teste)"
   ]
  },
  {
   "cell_type": "code",
   "execution_count": null,
   "metadata": {
    "colab": {
     "base_uri": "https://localhost:8080/"
    },
    "id": "rWj1N8ANsYrI",
    "outputId": "e50c8c22-a459-4886-efb1-10f98ebd09ea"
   },
   "outputs": [],
   "source": [
    "print(classification_report(y_credit_teste, previsoes))"
   ]
  },
  {
   "cell_type": "markdown",
   "metadata": {
    "id": "wBeiHfvihtMZ"
   },
   "source": [
    "## Base census - 81.53%"
   ]
  },
  {
   "cell_type": "code",
   "execution_count": null,
   "metadata": {
    "id": "CV0uo4LFs-GU"
   },
   "outputs": [],
   "source": [
    "with open('census.pkl', 'rb') as f:\n",
    "  X_census_treinamento, y_census_treinamento, X_census_teste, y_census_teste = pickle.load(f)"
   ]
  },
  {
   "cell_type": "code",
   "execution_count": null,
   "metadata": {
    "colab": {
     "base_uri": "https://localhost:8080/"
    },
    "id": "e8Xnk0tztAWw",
    "outputId": "e88866c0-3feb-490d-d729-43c932fbe16f"
   },
   "outputs": [],
   "source": [
    "X_census_treinamento.shape, y_census_treinamento.shape"
   ]
  },
  {
   "cell_type": "code",
   "execution_count": null,
   "metadata": {
    "colab": {
     "base_uri": "https://localhost:8080/"
    },
    "id": "fWPc6R6NtCyf",
    "outputId": "d87f5cef-aeb2-41c8-8ab8-184069719b74"
   },
   "outputs": [],
   "source": [
    "X_census_teste.shape, y_census_teste.shape"
   ]
  },
  {
   "cell_type": "code",
   "execution_count": null,
   "metadata": {
    "colab": {
     "base_uri": "https://localhost:8080/"
    },
    "id": "QIhQjIv-thWw",
    "outputId": "cb48de09-31ff-4123-f489-78bb34f8cd0d"
   },
   "outputs": [],
   "source": [
    "(108 + 1) / 2"
   ]
  },
  {
   "cell_type": "code",
   "execution_count": null,
   "metadata": {
    "colab": {
     "background_save": true,
     "base_uri": "https://localhost:8080/"
    },
    "id": "ewuPX3oNtSgX",
    "outputId": "8a26988e-36eb-4821-eb9e-1cac5ac70b59"
   },
   "outputs": [],
   "source": [
    "# 108 -> 55 -> 55 -> 1\n",
    "rede_neural_census = MLPClassifier(verbose=True, max_iter = 1000, tol=0.000010,\n",
    "                                  hidden_layer_sizes = (55,55))\n",
    "rede_neural_census.fit(X_census_treinamento, y_census_treinamento)"
   ]
  },
  {
   "cell_type": "code",
   "execution_count": null,
   "metadata": {
    "colab": {
     "background_save": true
    },
    "id": "pvpRABIruivw",
    "outputId": "9be10151-eb62-4060-c4cb-7f70cebc4ea3"
   },
   "outputs": [],
   "source": [
    "previsoes = rede_neural_census.predict(X_census_teste)\n",
    "previsoes"
   ]
  },
  {
   "cell_type": "code",
   "execution_count": null,
   "metadata": {
    "colab": {
     "background_save": true
    },
    "id": "uDjNigIBuo-q",
    "outputId": "2c9d538d-096a-4f73-cbe7-7d4a9488c2d6"
   },
   "outputs": [],
   "source": [
    "y_census_teste"
   ]
  },
  {
   "cell_type": "code",
   "execution_count": null,
   "metadata": {
    "colab": {
     "background_save": true
    },
    "id": "b5tVNTyWuu__",
    "outputId": "22ed09bc-c8c4-4771-fcf6-4d79a07f9240"
   },
   "outputs": [],
   "source": [
    "from sklearn.metrics import accuracy_score, classification_report\n",
    "accuracy_score(y_census_teste, previsoes)"
   ]
  },
  {
   "cell_type": "code",
   "execution_count": null,
   "metadata": {
    "colab": {
     "background_save": true
    },
    "id": "X4B5vm_rvCcb",
    "outputId": "1102735e-d8c3-4ae7-f899-86fa3a54e5aa"
   },
   "outputs": [],
   "source": [
    "from yellowbrick.classifier import ConfusionMatrix\n",
    "cm = ConfusionMatrix(rede_neural_census)\n",
    "cm.fit(X_census_treinamento, y_census_treinamento)\n",
    "cm.score(X_census_teste, y_census_teste)"
   ]
  },
  {
   "cell_type": "code",
   "execution_count": null,
   "metadata": {
    "colab": {
     "background_save": true
    },
    "id": "rw-WFDUpv2xe",
    "outputId": "4309cfa4-91c7-4d65-ff17-89b5ee9a07b3"
   },
   "outputs": [],
   "source": [
    "print(classification_report(y_census_teste, previsoes))"
   ]
  },
  {
   "cell_type": "markdown",
   "metadata": {
    "id": "hzQjXv11xXiV"
   },
   "source": [
    "# Avaliação dos algoritmos\n",
    "\n",
    "- Naïve Bayes: 93.80\n",
    "- Árvore de decisão: 98.20\n",
    "- Random forest: 98.40\n",
    "- Regras: 97.40\n",
    "- Knn: 98.60\n",
    "- Regressão logística: 94.60\n",
    "- SVM: 98.80\n",
    "- Redes neurais: 99.60"
   ]
  },
  {
   "cell_type": "markdown",
   "metadata": {
    "id": "xZ7xQAHIxbYS"
   },
   "source": [
    "## Tuning dos parâmetros com GridSearch"
   ]
  },
  {
   "cell_type": "markdown",
   "metadata": {
    "id": "ccUPFWrYxemd"
   },
   "source": [
    "### Preparação dos dados"
   ]
  },
  {
   "cell_type": "code",
   "execution_count": null,
   "metadata": {
    "colab": {
     "background_save": true
    },
    "id": "MylAn7hn1FNf"
   },
   "outputs": [],
   "source": [
    "from sklearn.model_selection import GridSearchCV\n",
    "from sklearn.tree import DecisionTreeClassifier\n",
    "from sklearn.ensemble import RandomForestClassifier\n",
    "from sklearn.neighbors import KNeighborsClassifier\n",
    "from sklearn.linear_model import LogisticRegression\n",
    "from sklearn.svm import SVC\n",
    "from sklearn.neural_network import MLPClassifier"
   ]
  },
  {
   "cell_type": "code",
   "execution_count": null,
   "metadata": {
    "colab": {
     "background_save": true
    },
    "id": "EDT6WDGD1pDH"
   },
   "outputs": [],
   "source": [
    "import pickle\n",
    "with open('credit.pkl', 'rb') as f:\n",
    "  X_credit_treinamento, y_credit_treinamento, X_credit_teste, y_credit_teste = pickle.load(f)"
   ]
  },
  {
   "cell_type": "code",
   "execution_count": null,
   "metadata": {
    "colab": {
     "background_save": true
    },
    "id": "y-CIO79O11M5",
    "outputId": "d1d8cc2e-0b89-4edd-b811-9bba2b55ec4a"
   },
   "outputs": [],
   "source": [
    "X_credit_treinamento.shape, y_credit_treinamento.shape"
   ]
  },
  {
   "cell_type": "code",
   "execution_count": null,
   "metadata": {
    "colab": {
     "background_save": true
    },
    "id": "CwkW7PJj18Fs",
    "outputId": "bb837744-ff8a-482e-e2fd-b9dcf1bd6cdb"
   },
   "outputs": [],
   "source": [
    "X_credit_teste.shape, y_credit_teste.shape"
   ]
  },
  {
   "cell_type": "code",
   "execution_count": null,
   "metadata": {
    "colab": {
     "background_save": true
    },
    "id": "5sVj51hj2Gex",
    "outputId": "bdeba047-a87e-4d61-a19f-3b73b7645f52"
   },
   "outputs": [],
   "source": [
    "X_credit = np.concatenate((X_credit_treinamento, X_credit_teste), axis = 0)\n",
    "X_credit.shape"
   ]
  },
  {
   "cell_type": "code",
   "execution_count": null,
   "metadata": {
    "colab": {
     "background_save": true
    },
    "id": "z-_tknm82UPP",
    "outputId": "21ff5b5d-0da9-42d8-b3bc-0f1eca3667fb"
   },
   "outputs": [],
   "source": [
    "X_credit"
   ]
  },
  {
   "cell_type": "code",
   "execution_count": null,
   "metadata": {
    "colab": {
     "background_save": true
    },
    "id": "Dxh_pqJT2YQR",
    "outputId": "bddc277d-2e9f-4801-f14a-99d163d80126"
   },
   "outputs": [],
   "source": [
    "y_credit = np.concatenate((y_credit_treinamento, y_credit_teste), axis = 0)\n",
    "y_credit.shape"
   ]
  },
  {
   "cell_type": "code",
   "execution_count": null,
   "metadata": {
    "colab": {
     "background_save": true
    },
    "id": "G4lE4MbE2geE",
    "outputId": "fab7b4ae-dea5-4470-e2fa-1263a4bf2036"
   },
   "outputs": [],
   "source": [
    "y_credit"
   ]
  },
  {
   "cell_type": "markdown",
   "metadata": {
    "id": "TEC2nX_Bxgxb"
   },
   "source": [
    "### Árvore de decisão"
   ]
  },
  {
   "cell_type": "code",
   "execution_count": null,
   "metadata": {
    "colab": {
     "background_save": true
    },
    "id": "W0UqqFoY4Yh9"
   },
   "outputs": [],
   "source": [
    "parametros = {'criterion': ['gini', 'entropy'],\n",
    "              'splitter': ['best', 'random'],\n",
    "              'min_samples_split': [2, 5, 10],\n",
    "              'min_samples_leaf': [1, 5, 10]}"
   ]
  },
  {
   "cell_type": "code",
   "execution_count": null,
   "metadata": {
    "colab": {
     "background_save": true
    },
    "id": "guqdajYG35W_",
    "outputId": "9e8a091b-444b-4e2d-a522-0fdac91349eb"
   },
   "outputs": [],
   "source": [
    "grid_search = GridSearchCV(estimator=DecisionTreeClassifier(), param_grid=parametros)\n",
    "grid_search.fit(X_credit, y_credit)\n",
    "melhores_parametros = grid_search.best_params_\n",
    "melhor_resultado = grid_search.best_score_\n",
    "print(melhores_parametros)\n",
    "print(melhor_resultado)"
   ]
  },
  {
   "cell_type": "markdown",
   "metadata": {
    "id": "iDFqhYqqxi0a"
   },
   "source": [
    "### Random forest"
   ]
  },
  {
   "cell_type": "code",
   "execution_count": null,
   "metadata": {
    "colab": {
     "background_save": true
    },
    "id": "idYueU9xAF9F"
   },
   "outputs": [],
   "source": [
    "parametros = {'criterion': ['gini', 'entropy'],\n",
    "              'n_estimators': [10, 40, 100, 150],\n",
    "              'min_samples_split': [2, 5, 10],\n",
    "              'min_samples_leaf': [1, 5, 10]}"
   ]
  },
  {
   "cell_type": "code",
   "execution_count": null,
   "metadata": {
    "colab": {
     "background_save": true
    },
    "id": "0yIa1BHx_7nm",
    "outputId": "2db20f60-4933-4775-db9e-56e77cd64982"
   },
   "outputs": [],
   "source": [
    "grid_search = GridSearchCV(estimator=RandomForestClassifier(), param_grid=parametros)\n",
    "grid_search.fit(X_credit, y_credit)\n",
    "melhores_parametros = grid_search.best_params_\n",
    "melhor_resultado = grid_search.best_score_\n",
    "print(melhores_parametros)\n",
    "print(melhor_resultado)"
   ]
  },
  {
   "cell_type": "markdown",
   "metadata": {
    "id": "V2ukErzdxkYV"
   },
   "source": [
    "### Knn"
   ]
  },
  {
   "cell_type": "code",
   "execution_count": null,
   "metadata": {
    "colab": {
     "background_save": true
    },
    "id": "w1gIzTTWBQsW"
   },
   "outputs": [],
   "source": [
    "parametros = {'n_neighbors': [3, 5, 10, 20],\n",
    "              'p': [1, 2]}"
   ]
  },
  {
   "cell_type": "code",
   "execution_count": null,
   "metadata": {
    "colab": {
     "background_save": true
    },
    "id": "XVetFmg-BGe9",
    "outputId": "05cdaa77-b4ca-4c5f-f4fa-104daad6bc07"
   },
   "outputs": [],
   "source": [
    "grid_search = GridSearchCV(estimator=KNeighborsClassifier(), param_grid=parametros)\n",
    "grid_search.fit(X_credit, y_credit)\n",
    "melhores_parametros = grid_search.best_params_\n",
    "melhor_resultado = grid_search.best_score_\n",
    "print(melhores_parametros)\n",
    "print(melhor_resultado)"
   ]
  },
  {
   "cell_type": "markdown",
   "metadata": {
    "id": "Sg1nw3UtxleM"
   },
   "source": [
    "### Regressão logística"
   ]
  },
  {
   "cell_type": "code",
   "execution_count": null,
   "metadata": {
    "colab": {
     "background_save": true
    },
    "id": "l0ob3vpVCOM1"
   },
   "outputs": [],
   "source": [
    "parametros = {'tol': [0.0001, 0.00001, 0.000001],\n",
    "              'C': [1.0, 1.5, 2.0],\n",
    "              'solver': ['lbfgs', 'sag', 'saga']}"
   ]
  },
  {
   "cell_type": "code",
   "execution_count": null,
   "metadata": {
    "colab": {
     "background_save": true
    },
    "id": "cnnVFidNB3Jo",
    "outputId": "20b3cc2e-c942-4c8d-9436-03b5fafad1e3"
   },
   "outputs": [],
   "source": [
    "grid_search = GridSearchCV(estimator=LogisticRegression(), param_grid=parametros)\n",
    "grid_search.fit(X_credit, y_credit)\n",
    "melhores_parametros = grid_search.best_params_\n",
    "melhor_resultado = grid_search.best_score_\n",
    "print(melhores_parametros)\n",
    "print(melhor_resultado)"
   ]
  },
  {
   "cell_type": "markdown",
   "metadata": {
    "id": "Y25eVjAqCtUh"
   },
   "source": [
    "### SVM"
   ]
  },
  {
   "cell_type": "code",
   "execution_count": null,
   "metadata": {
    "colab": {
     "background_save": true
    },
    "id": "G0jMbKs8C0ol"
   },
   "outputs": [],
   "source": [
    "parametros = {'tol': [0.001, 0.0001, 0.00001],\n",
    "              'C': [1.0, 1.5, 2.0],\n",
    "              'kernel': ['rbf', 'linear', 'poly', 'sigmoid']}"
   ]
  },
  {
   "cell_type": "code",
   "execution_count": null,
   "metadata": {
    "colab": {
     "background_save": true
    },
    "id": "RArcu8ORCvCW",
    "outputId": "49209c77-50a6-4c8b-826b-b1cf42f89f1c"
   },
   "outputs": [],
   "source": [
    "grid_search = GridSearchCV(estimator=SVC(), param_grid=parametros)\n",
    "grid_search.fit(X_credit, y_credit)\n",
    "melhores_parametros = grid_search.best_params_\n",
    "melhor_resultado = grid_search.best_score_\n",
    "print(melhores_parametros)\n",
    "print(melhor_resultado)"
   ]
  },
  {
   "cell_type": "markdown",
   "metadata": {
    "id": "iQZ2TUjHxn3V"
   },
   "source": [
    "### Redes neurais"
   ]
  },
  {
   "cell_type": "code",
   "execution_count": null,
   "metadata": {
    "colab": {
     "background_save": true
    },
    "id": "sqUo4Rx3DgeR"
   },
   "outputs": [],
   "source": [
    "parametros = {'activation': ['relu', 'logistic', 'tahn'],\n",
    "              'solver': ['adam', 'sgd'],\n",
    "              'batch_size': [10, 56]}"
   ]
  },
  {
   "cell_type": "code",
   "execution_count": null,
   "metadata": {
    "colab": {
     "background_save": true
    },
    "id": "zwIabuVYDRNR",
    "outputId": "ab086d6c-062b-4aae-ced5-39bd64ff6370"
   },
   "outputs": [],
   "source": [
    "grid_search = GridSearchCV(estimator=MLPClassifier(), param_grid=parametros)\n",
    "grid_search.fit(X_credit, y_credit)\n",
    "melhores_parametros = grid_search.best_params_\n",
    "melhor_resultado = grid_search.best_score_"
   ]
  },
  {
   "cell_type": "code",
   "execution_count": null,
   "metadata": {
    "colab": {
     "background_save": true
    },
    "id": "ZIHD2j_6EraC",
    "outputId": "d2b86dc3-e9e7-4efe-dde6-26c648d2749f"
   },
   "outputs": [],
   "source": [
    "print(melhores_parametros)\n",
    "print(melhor_resultado)"
   ]
  },
  {
   "cell_type": "markdown",
   "metadata": {
    "id": "cNZmpXyaxpsE"
   },
   "source": [
    "## Validação cruzada"
   ]
  },
  {
   "cell_type": "code",
   "execution_count": null,
   "metadata": {
    "colab": {
     "background_save": true
    },
    "id": "Jm7jKlKEGoej"
   },
   "outputs": [],
   "source": [
    "from sklearn.model_selection import cross_val_score, KFold"
   ]
  },
  {
   "cell_type": "code",
   "execution_count": null,
   "metadata": {
    "colab": {
     "background_save": true
    },
    "id": "ua2D1ryYG5Bl",
    "outputId": "e49839f0-1c1c-4136-e056-6644e19909fa"
   },
   "outputs": [],
   "source": [
    "10 * 30"
   ]
  },
  {
   "cell_type": "code",
   "execution_count": null,
   "metadata": {
    "colab": {
     "background_save": true
    },
    "id": "66ygU7TdGvHg",
    "outputId": "7f491faa-65c5-48b9-ccd4-c8208db5d2b4"
   },
   "outputs": [],
   "source": [
    "resultados_arvore = []\n",
    "resultados_random_forest = []\n",
    "resultados_knn = []\n",
    "resultados_logistica = []\n",
    "resultados_svm = []\n",
    "resultados_rede_neural = []\n",
    "\n",
    "for i in range(30):\n",
    "  print(i)\n",
    "  kfold = KFold(n_splits=10, shuffle=True, random_state=i)\n",
    "\n",
    "  arvore = DecisionTreeClassifier(criterion='entropy', min_samples_leaf=1, min_samples_split=5, splitter='best')\n",
    "  scores = cross_val_score(arvore, X_credit, y_credit, cv = kfold)\n",
    "  #print(scores)\n",
    "  #print(scores.mean())\n",
    "  resultados_arvore.append(scores.mean())\n",
    "\n",
    "  random_forest = RandomForestClassifier(criterion = 'entropy', min_samples_leaf = 1, min_samples_split=5, n_estimators = 10)\n",
    "  scores = cross_val_score(random_forest, X_credit, y_credit, cv = kfold)\n",
    "  resultados_random_forest.append(scores.mean())\n",
    "\n",
    "  knn = KNeighborsClassifier()\n",
    "  scores = cross_val_score(knn, X_credit, y_credit, cv = kfold)\n",
    "  resultados_knn.append(scores.mean())\n",
    "\n",
    "  logistica = LogisticRegression(C = 1.0, solver = 'lbfgs', tol = 0.0001)\n",
    "  scores = cross_val_score(logistica, X_credit, y_credit, cv = kfold)\n",
    "  resultados_logistica.append(scores.mean())\n",
    "\n",
    "  svm = SVC(kernel = 'rbf', C = 2.0)\n",
    "  scores = cross_val_score(svm, X_credit, y_credit, cv = kfold)\n",
    "  resultados_svm.append(scores.mean())\n",
    "\n",
    "  rede_neural = MLPClassifier(activation = 'relu', batch_size = 56, solver = 'adam')\n",
    "  scores = cross_val_score(rede_neural, X_credit, y_credit, cv = kfold)\n",
    "  resultados_rede_neural.append(scores.mean())\n"
   ]
  },
  {
   "cell_type": "code",
   "execution_count": null,
   "metadata": {
    "colab": {
     "background_save": true
    },
    "id": "btjG56PZOH6I",
    "outputId": "7c3f9080-6f4d-4166-d72d-f3531c018ee0"
   },
   "outputs": [],
   "source": [
    "resultados = pd.DataFrame({'Arvore': resultados_arvore, 'Random forest': resultados_random_forest,\n",
    "                           'KNN': resultados_knn, 'Logistica': resultados_logistica,\n",
    "                           'SVM': resultados_svm, 'Rede neural': resultados_rede_neural})\n",
    "resultados"
   ]
  },
  {
   "cell_type": "code",
   "execution_count": null,
   "metadata": {
    "colab": {
     "background_save": true
    },
    "id": "yTII0b6oOm69",
    "outputId": "81b6aa8f-07dd-47d7-c6eb-95939b822e02"
   },
   "outputs": [],
   "source": [
    "resultados.describe()"
   ]
  },
  {
   "cell_type": "code",
   "execution_count": null,
   "metadata": {
    "colab": {
     "background_save": true
    },
    "id": "j5vKQMOAQAqd",
    "outputId": "9d973063-14c1-48d6-c969-2f53ccbbf123"
   },
   "outputs": [],
   "source": [
    "resultados.var()"
   ]
  },
  {
   "cell_type": "code",
   "execution_count": null,
   "metadata": {
    "colab": {
     "background_save": true
    },
    "id": "Qqd7sGQuQJA1",
    "outputId": "ab69c25c-a66e-4845-f72e-96f9664197c6"
   },
   "outputs": [],
   "source": [
    "(resultados.std() / resultados.mean()) * 100"
   ]
  },
  {
   "cell_type": "markdown",
   "metadata": {
    "id": "64STDoeYxrx8"
   },
   "source": [
    "## Teste de normalidade nos resultados\n",
    "\n",
    "- Shapiro: https://en.wikipedia.org/wiki/Shapiro%E2%80%93Wilk_test"
   ]
  },
  {
   "cell_type": "code",
   "execution_count": null,
   "metadata": {
    "colab": {
     "background_save": true
    },
    "id": "ndH2AhnqR3RH"
   },
   "outputs": [],
   "source": [
    "alpha = 0.05"
   ]
  },
  {
   "cell_type": "code",
   "execution_count": null,
   "metadata": {
    "colab": {
     "background_save": true
    },
    "id": "gyL_8kqZSFWi"
   },
   "outputs": [],
   "source": [
    "from scipy.stats import shapiro"
   ]
  },
  {
   "cell_type": "code",
   "execution_count": null,
   "metadata": {
    "colab": {
     "background_save": true
    },
    "id": "WAwEoVkXSK_m",
    "outputId": "dd7041be-ae75-4ec6-cb20-fd7102e3f3f2"
   },
   "outputs": [],
   "source": [
    "shapiro(resultados_arvore), shapiro(resultados_random_forest), shapiro(resultados_knn), shapiro(resultados_logistica), shapiro(resultados_svm), shapiro(resultados_rede_neural)"
   ]
  },
  {
   "cell_type": "code",
   "execution_count": null,
   "metadata": {
    "colab": {
     "background_save": true
    },
    "id": "15p59hhhTgci",
    "outputId": "18ba5c40-661b-4510-c71a-1d9966a62ea5"
   },
   "outputs": [],
   "source": [
    "sns.displot(resultados_arvore, kind = 'kde');"
   ]
  },
  {
   "cell_type": "code",
   "execution_count": null,
   "metadata": {
    "colab": {
     "background_save": true
    },
    "id": "JwSC5VmITvEw",
    "outputId": "31f7e21e-f74c-4dc7-d085-821a492b5fde"
   },
   "outputs": [],
   "source": [
    "sns.displot(resultados_random_forest, kind = 'kde');"
   ]
  },
  {
   "cell_type": "code",
   "execution_count": null,
   "metadata": {
    "colab": {
     "background_save": true
    },
    "id": "Yec-WoV1TzFk",
    "outputId": "b194a1ed-5cff-4903-882e-9e86037e7bef"
   },
   "outputs": [],
   "source": [
    "sns.displot(resultados_knn, kind = 'kde');"
   ]
  },
  {
   "cell_type": "code",
   "execution_count": null,
   "metadata": {
    "colab": {
     "background_save": true
    },
    "id": "7ushmp5-T2mP",
    "outputId": "83f78c73-c7da-4c40-b6fd-2ae46fc8d31e"
   },
   "outputs": [],
   "source": [
    "sns.displot(resultados_logistica, kind = 'kde');"
   ]
  },
  {
   "cell_type": "code",
   "execution_count": null,
   "metadata": {
    "colab": {
     "background_save": true
    },
    "id": "mW41p3yAT5_j",
    "outputId": "2a640825-8f8a-4e21-cd82-194b0a0fc83c"
   },
   "outputs": [],
   "source": [
    "sns.displot(resultados_svm, kind = 'kde');"
   ]
  },
  {
   "cell_type": "code",
   "execution_count": null,
   "metadata": {
    "colab": {
     "background_save": true
    },
    "id": "_EJeyfg2T94u",
    "outputId": "a31ef022-ed0a-4615-faf7-3fde74cffd7a"
   },
   "outputs": [],
   "source": [
    "sns.displot(resultados_rede_neural, kind = 'kde');"
   ]
  },
  {
   "cell_type": "markdown",
   "metadata": {
    "id": "YKu3nItjxuy-"
   },
   "source": [
    "## Teste de hipótese com ANOVA e Tukey"
   ]
  },
  {
   "cell_type": "code",
   "execution_count": null,
   "metadata": {
    "colab": {
     "background_save": true
    },
    "id": "xFi7ejvWXMT0"
   },
   "outputs": [],
   "source": [
    "from scipy.stats import f_oneway"
   ]
  },
  {
   "cell_type": "code",
   "execution_count": null,
   "metadata": {
    "colab": {
     "background_save": true
    },
    "id": "NsEQKnDkXWIu",
    "outputId": "5f179ae6-180a-47b2-d469-eecda667f61c"
   },
   "outputs": [],
   "source": [
    "_, p = f_oneway(resultados_arvore, resultados_random_forest, resultados_knn, resultados_logistica, resultados_svm, resultados_rede_neural)\n",
    "p"
   ]
  },
  {
   "cell_type": "code",
   "execution_count": null,
   "metadata": {
    "colab": {
     "background_save": true
    },
    "id": "ciTegskUXl8v",
    "outputId": "21f64dfb-9f3d-499c-ec70-0f9afbe27307"
   },
   "outputs": [],
   "source": [
    "alpha = 0.05\n",
    "if p <= alpha:\n",
    "  print('Hipótese nula rejeitada. Dados são diferentes')\n",
    "else:\n",
    "  print('Hipótese alternativa rejeitada. Resultados são iguais')"
   ]
  },
  {
   "cell_type": "code",
   "execution_count": null,
   "metadata": {
    "colab": {
     "background_save": true
    },
    "id": "fnmQk_wXYH6P"
   },
   "outputs": [],
   "source": [
    "resultados_algoritmos = {'accuracy': np.concatenate([resultados_arvore, resultados_random_forest, resultados_knn, resultados_logistica, resultados_svm, resultados_rede_neural]),\n",
    "                         'algoritmo': ['arvore','arvore','arvore','arvore','arvore','arvore','arvore','arvore','arvore','arvore','arvore','arvore','arvore','arvore','arvore','arvore','arvore','arvore','arvore','arvore','arvore','arvore','arvore','arvore','arvore','arvore','arvore','arvore','arvore','arvore',\n",
    "                          'random_forest','random_forest','random_forest','random_forest','random_forest','random_forest','random_forest','random_forest','random_forest','random_forest','random_forest','random_forest','random_forest','random_forest','random_forest','random_forest','random_forest','random_forest','random_forest','random_forest','random_forest','random_forest','random_forest','random_forest','random_forest','random_forest','random_forest','random_forest','random_forest','random_forest',\n",
    "                          'knn','knn','knn','knn','knn','knn','knn','knn','knn','knn','knn','knn','knn','knn','knn','knn','knn','knn','knn','knn','knn','knn','knn','knn','knn','knn','knn','knn','knn','knn',\n",
    "                          'logistica','logistica','logistica','logistica','logistica','logistica','logistica','logistica','logistica','logistica','logistica','logistica','logistica','logistica','logistica','logistica','logistica','logistica','logistica','logistica','logistica','logistica','logistica','logistica','logistica','logistica','logistica','logistica','logistica','logistica',\n",
    "                          'svm','svm','svm','svm','svm','svm','svm','svm','svm','svm','svm','svm','svm','svm','svm','svm','svm','svm','svm','svm','svm','svm','svm','svm','svm','svm','svm','svm','svm','svm',\n",
    "                          'rede_neural','rede_neural','rede_neural','rede_neural','rede_neural','rede_neural','rede_neural','rede_neural','rede_neural','rede_neural','rede_neural','rede_neural','rede_neural','rede_neural','rede_neural','rede_neural','rede_neural','rede_neural','rede_neural','rede_neural','rede_neural','rede_neural','rede_neural','rede_neural','rede_neural','rede_neural','rede_neural','rede_neural','rede_neural','rede_neural']}"
   ]
  },
  {
   "cell_type": "code",
   "execution_count": null,
   "metadata": {
    "colab": {
     "background_save": true
    },
    "id": "q3sAt4n1ax3P",
    "outputId": "e516c7fe-a6c7-4efb-ba2c-880c175a0d1a"
   },
   "outputs": [],
   "source": [
    "resultados_df = pd.DataFrame(resultados_algoritmos)\n",
    "resultados_df"
   ]
  },
  {
   "cell_type": "code",
   "execution_count": null,
   "metadata": {
    "colab": {
     "background_save": true
    },
    "id": "pnF-r3pxbJZP"
   },
   "outputs": [],
   "source": [
    "from statsmodels.stats.multicomp import MultiComparison"
   ]
  },
  {
   "cell_type": "code",
   "execution_count": null,
   "metadata": {
    "colab": {
     "background_save": true
    },
    "id": "epc6TluwbRZ-"
   },
   "outputs": [],
   "source": [
    "compara_algoritmos = MultiComparison(resultados_df['accuracy'], resultados_df['algoritmo'])"
   ]
  },
  {
   "cell_type": "code",
   "execution_count": null,
   "metadata": {
    "colab": {
     "background_save": true
    },
    "id": "jR-8z3UWbZJ5",
    "outputId": "29f37675-e330-418b-ea8d-706163d409f2"
   },
   "outputs": [],
   "source": [
    "teste_estatistico = compara_algoritmos.tukeyhsd()\n",
    "print(teste_estatistico)"
   ]
  },
  {
   "cell_type": "code",
   "execution_count": null,
   "metadata": {
    "colab": {
     "background_save": true
    },
    "id": "L-q17IREb68X",
    "outputId": "0a304d89-776c-4f1a-d223-ca4dfaaf1a7d"
   },
   "outputs": [],
   "source": [
    "resultados.mean()"
   ]
  },
  {
   "cell_type": "code",
   "execution_count": null,
   "metadata": {
    "colab": {
     "background_save": true
    },
    "id": "PsSepwzAclT9",
    "outputId": "4ae1152e-2f1e-40d3-9862-a897035faf38"
   },
   "outputs": [],
   "source": [
    "teste_estatistico.plot_simultaneous();"
   ]
  },
  {
   "cell_type": "markdown",
   "metadata": {
    "id": "wo_FnyqZdSHP"
   },
   "source": [
    "# Salvar um classificador já treinado"
   ]
  },
  {
   "cell_type": "code",
   "execution_count": null,
   "metadata": {
    "colab": {
     "background_save": true
    },
    "id": "z6IYwDGldXxK"
   },
   "outputs": [],
   "source": [
    "with open('credit.pkl', 'rb') as f:\n",
    "  X_credit_treinamento, y_credit_treinamento, X_credit_teste, y_credit_teste = pickle.load(f)"
   ]
  },
  {
   "cell_type": "code",
   "execution_count": null,
   "metadata": {
    "colab": {
     "background_save": true
    },
    "id": "tAr2Qn4bdcE_"
   },
   "outputs": [],
   "source": [
    "X_credit = np.concatenate((X_credit_treinamento, X_credit_teste), axis = 0)\n",
    "y_credit = np.concatenate((y_credit_treinamento, y_credit_teste), axis = 0)"
   ]
  },
  {
   "cell_type": "code",
   "execution_count": null,
   "metadata": {
    "colab": {
     "background_save": true
    },
    "id": "G2cSwOUgde_L",
    "outputId": "80c73b45-0492-4c75-99c2-4c221ddae57c"
   },
   "outputs": [],
   "source": [
    "X_credit.shape, y_credit.shape"
   ]
  },
  {
   "cell_type": "code",
   "execution_count": null,
   "metadata": {
    "colab": {
     "background_save": true
    },
    "id": "QRE_jkw-gtOw"
   },
   "outputs": [],
   "source": [
    "from sklearn.neural_network import MLPClassifier\n",
    "from sklearn.tree import DecisionTreeClassifier\n",
    "from sklearn.svm import SVC"
   ]
  },
  {
   "cell_type": "code",
   "execution_count": null,
   "metadata": {
    "colab": {
     "background_save": true
    },
    "id": "pGNIuf7ng4Vu",
    "outputId": "149d7b2a-03fe-408d-e75b-9aa1c2b454f9"
   },
   "outputs": [],
   "source": [
    "classificador_rede_neural = MLPClassifier(activation='relu', batch_size = 56, solver='adam')\n",
    "classificador_rede_neural.fit(X_credit, y_credit)"
   ]
  },
  {
   "cell_type": "code",
   "execution_count": null,
   "metadata": {
    "colab": {
     "background_save": true
    },
    "id": "3Df8-kTQhOyf",
    "outputId": "ededaa17-4490-4c28-d1d0-0c4e1f7db7e2"
   },
   "outputs": [],
   "source": [
    "classificador_arvore = DecisionTreeClassifier(criterion='entropy', min_samples_leaf=1, min_samples_split=5, splitter='best')\n",
    "classificador_arvore.fit(X_credit, y_credit)"
   ]
  },
  {
   "cell_type": "code",
   "execution_count": null,
   "metadata": {
    "colab": {
     "background_save": true
    },
    "id": "_AevOaE1hf6c",
    "outputId": "84774d44-2943-4501-d59d-e636e53e5712"
   },
   "outputs": [],
   "source": [
    "classificador_svm = SVC(C = 2.0, kernel='rbf', probability=True)\n",
    "classificador_svm.fit(X_credit, y_credit)"
   ]
  },
  {
   "cell_type": "code",
   "execution_count": null,
   "metadata": {
    "colab": {
     "background_save": true
    },
    "id": "UQOyP8ZqhrQ6"
   },
   "outputs": [],
   "source": [
    "import pickle\n",
    "pickle.dump(classificador_rede_neural, open('rede_neural_finalizado.sav', 'wb'))\n",
    "pickle.dump(classificador_arvore, open('arvore_finalizado.sav', 'wb'))\n",
    "pickle.dump(classificador_svm, open('svm_finalizado.sav', 'wb'))"
   ]
  },
  {
   "cell_type": "markdown",
   "metadata": {
    "id": "IE2LDIuAdVf2"
   },
   "source": [
    "# Carregar um classificador já treinado"
   ]
  },
  {
   "cell_type": "code",
   "execution_count": null,
   "metadata": {
    "colab": {
     "background_save": true
    },
    "id": "jFS52QjkkLEP"
   },
   "outputs": [],
   "source": [
    "rede_neural = pickle.load(open('rede_neural_finalizado.sav', 'rb'))\n",
    "arvore = pickle.load(open('arvore_finalizado.sav', 'rb'))\n",
    "svm = pickle.load(open('svm_finalizado.sav', 'rb'))"
   ]
  },
  {
   "cell_type": "code",
   "execution_count": null,
   "metadata": {
    "colab": {
     "background_save": true
    },
    "id": "ZhRtIsh_kn4B",
    "outputId": "c0dd7598-cca3-44b9-b31f-ab6b0e0025ec"
   },
   "outputs": [],
   "source": [
    "novo_registro = X_credit[1999]\n",
    "novo_registro"
   ]
  },
  {
   "cell_type": "code",
   "execution_count": null,
   "metadata": {
    "colab": {
     "background_save": true
    },
    "id": "y02JAV9WkyEx",
    "outputId": "e523720d-f001-4687-e8fe-70807cdaa8a8"
   },
   "outputs": [],
   "source": [
    "novo_registro.shape"
   ]
  },
  {
   "cell_type": "code",
   "execution_count": null,
   "metadata": {
    "colab": {
     "background_save": true
    },
    "id": "NdJ7vai0k-Nl",
    "outputId": "2b083045-fd53-49ce-ec45-9c8ab2160e85"
   },
   "outputs": [],
   "source": [
    "novo_registro = novo_registro.reshape(1, -1)\n",
    "novo_registro.shape"
   ]
  },
  {
   "cell_type": "code",
   "execution_count": null,
   "metadata": {
    "colab": {
     "background_save": true
    },
    "id": "DUw8747mlG5L",
    "outputId": "4c4a17dd-486e-4d67-aec3-b6500669a9bd"
   },
   "outputs": [],
   "source": [
    "novo_registro"
   ]
  },
  {
   "cell_type": "code",
   "execution_count": null,
   "metadata": {
    "colab": {
     "background_save": true
    },
    "id": "VkIrzIRxk2GG",
    "outputId": "2b8298a2-fe68-4a3b-a7b1-cb58e719f289"
   },
   "outputs": [],
   "source": [
    "rede_neural.predict(novo_registro)"
   ]
  },
  {
   "cell_type": "code",
   "execution_count": null,
   "metadata": {
    "colab": {
     "background_save": true
    },
    "id": "S-anyC6dlMWH",
    "outputId": "5c76ec7f-759b-40cf-fe35-78968306b83a"
   },
   "outputs": [],
   "source": [
    "arvore.predict(novo_registro)"
   ]
  },
  {
   "cell_type": "code",
   "execution_count": null,
   "metadata": {
    "colab": {
     "background_save": true
    },
    "id": "_h1sPgiIlQ5a",
    "outputId": "5e5b5735-0ac8-4cee-f25a-855d8b6476a7"
   },
   "outputs": [],
   "source": [
    "svm.predict(novo_registro)"
   ]
  },
  {
   "cell_type": "markdown",
   "metadata": {
    "id": "D8SRPAsJmEs3"
   },
   "source": [
    "# Combinação de classificadores"
   ]
  },
  {
   "cell_type": "code",
   "execution_count": null,
   "metadata": {
    "colab": {
     "background_save": true
    },
    "id": "FQL_bn8NmK2P",
    "outputId": "2d55c67f-502f-49b9-a7cd-ac58b2a3516f"
   },
   "outputs": [],
   "source": [
    "novo_registro = X_credit[1999]\n",
    "novo_registro = novo_registro.reshape(1, -1)\n",
    "novo_registro, novo_registro.shape"
   ]
  },
  {
   "cell_type": "code",
   "execution_count": null,
   "metadata": {
    "colab": {
     "background_save": true
    },
    "id": "kerWrM_zmQvP"
   },
   "outputs": [],
   "source": [
    "resposta_rede_neural = rede_neural.predict(novo_registro)\n",
    "resposta_arvore = arvore.predict(novo_registro)\n",
    "resposta_svm = svm.predict(novo_registro)"
   ]
  },
  {
   "cell_type": "code",
   "execution_count": null,
   "metadata": {
    "colab": {
     "background_save": true
    },
    "id": "SouSNSBbnA7T",
    "outputId": "8f087df0-68d1-4b52-8800-eadd6c17aad6"
   },
   "outputs": [],
   "source": [
    "resposta_rede_neural[0], resposta_arvore[0], resposta_svm[0]"
   ]
  },
  {
   "cell_type": "code",
   "execution_count": null,
   "metadata": {
    "colab": {
     "background_save": true
    },
    "id": "eJoktf-XnLdM",
    "outputId": "c588bdc6-48b1-44cb-bff8-befdc047b8b6"
   },
   "outputs": [],
   "source": [
    "paga = 0\n",
    "nao_paga = 0\n",
    "\n",
    "if resposta_rede_neural[0] == 1:\n",
    "  nao_paga += 1\n",
    "else:\n",
    "  paga += 1\n",
    "\n",
    "if resposta_arvore[0] == 1:\n",
    "  nao_paga += 1\n",
    "else:\n",
    "  paga += 1\n",
    "\n",
    "if resposta_svm[0] == 1:\n",
    "  nao_paga += 1\n",
    "else:\n",
    "  paga += 1\n",
    "\n",
    "if paga > nao_paga:\n",
    "  print('Cliente pagará o empréstimo')\n",
    "elif paga == nao_paga:\n",
    "  print('Empate')\n",
    "else:\n",
    "  print('Cliente não pagará o empréstimo')"
   ]
  },
  {
   "cell_type": "markdown",
   "metadata": {
    "id": "P3OWvpIvmIDH"
   },
   "source": [
    "# Rejeição de classificadores"
   ]
  },
  {
   "cell_type": "code",
   "execution_count": null,
   "metadata": {
    "colab": {
     "background_save": true
    },
    "id": "qWctOdKjpDWf",
    "outputId": "5b61cac4-96f3-4f05-e148-cb2fbb4b6788"
   },
   "outputs": [],
   "source": [
    "novo_registro = X_credit[1999]\n",
    "novo_registro = novo_registro.reshape(1, -1)\n",
    "novo_registro, novo_registro.shape"
   ]
  },
  {
   "cell_type": "code",
   "execution_count": null,
   "metadata": {
    "colab": {
     "background_save": true
    },
    "id": "SA23SCvapLPB"
   },
   "outputs": [],
   "source": [
    "resposta_rede_neural = rede_neural.predict(novo_registro)\n",
    "resposta_arvore = arvore.predict(novo_registro)\n",
    "resposta_svm = svm.predict(novo_registro)"
   ]
  },
  {
   "cell_type": "code",
   "execution_count": null,
   "metadata": {
    "colab": {
     "background_save": true
    },
    "id": "roB4WLMqpPFN",
    "outputId": "617247a0-73b2-4cfc-fc59-4d4addd2169a"
   },
   "outputs": [],
   "source": [
    "resposta_rede_neural[0], resposta_arvore[0], resposta_svm[0]"
   ]
  },
  {
   "cell_type": "code",
   "execution_count": null,
   "metadata": {
    "colab": {
     "background_save": true
    },
    "id": "A5pTxq8apoM4",
    "outputId": "df07f6af-6b0c-4bbb-9d35-5a6ae7bf9be2"
   },
   "outputs": [],
   "source": [
    "probabilidade_rede_neural = rede_neural.predict_proba(novo_registro)\n",
    "probabilidade_rede_neural"
   ]
  },
  {
   "cell_type": "code",
   "execution_count": null,
   "metadata": {
    "colab": {
     "background_save": true
    },
    "id": "wStt8iSIp_yc",
    "outputId": "0f83a593-b666-4211-e296-066a9484a482"
   },
   "outputs": [],
   "source": [
    "confianca_rede_neural = probabilidade_rede_neural.max()\n",
    "confianca_rede_neural"
   ]
  },
  {
   "cell_type": "code",
   "execution_count": null,
   "metadata": {
    "colab": {
     "background_save": true
    },
    "id": "S1mgc0duqMa9",
    "outputId": "9b2cdc0c-f387-42ea-806e-54ac86c925d6"
   },
   "outputs": [],
   "source": [
    "probabilidade_arvore = arvore.predict_proba(novo_registro)\n",
    "confianca_arvore = probabilidade_arvore.max()\n",
    "confianca_arvore"
   ]
  },
  {
   "cell_type": "code",
   "execution_count": null,
   "metadata": {
    "colab": {
     "background_save": true
    },
    "id": "ehUJYI79qX6D",
    "outputId": "12ae281c-be23-4569-9d6e-5dcb8a6d97c2"
   },
   "outputs": [],
   "source": [
    "probabilidade_svm = svm.predict_proba(novo_registro)\n",
    "confianca_svm = probabilidade_svm.max()\n",
    "confianca_svm"
   ]
  },
  {
   "cell_type": "code",
   "execution_count": null,
   "metadata": {
    "colab": {
     "background_save": true
    },
    "id": "r7Jn8d8uq2rN",
    "outputId": "b89584ed-f3a5-4f6e-8b20-2c1d65e94619"
   },
   "outputs": [],
   "source": [
    "paga = 0\n",
    "nao_paga = 0\n",
    "confianca_minima = 0.999999\n",
    "algoritmos = 0\n",
    "\n",
    "if confianca_rede_neural >= confianca_minima:\n",
    "  algoritmos += 1\n",
    "  if resposta_rede_neural[0] == 1:\n",
    "    nao_paga += 1\n",
    "  else:\n",
    "    paga += 1\n",
    "\n",
    "if confianca_arvore >= confianca_minima:\n",
    "  algoritmos += 1\n",
    "  if resposta_arvore[0] == 1:\n",
    "    nao_paga += 1\n",
    "  else:\n",
    "    paga += 1\n",
    "\n",
    "if confianca_svm >= confianca_minima:\n",
    "  algoritmos += 1\n",
    "  if resposta_svm[0] == 1:\n",
    "    nao_paga += 1\n",
    "  else:\n",
    "    paga += 1\n",
    "\n",
    "if paga > nao_paga:\n",
    "  print('Cliente pagará o empréstimo, baseado em {} algoritmos'.format(algoritmos))\n",
    "elif paga == nao_paga:\n",
    "  print('Empate, baseado em {} algoritmos'.format(algoritmos))\n",
    "else:\n",
    "  print('Cliente não pagará o empréstimo, baseado em {} algoritmos'.format(algoritmos))"
   ]
  },
  {
   "cell_type": "markdown",
   "metadata": {
    "id": "b0PwlVawUlYk"
   },
   "source": [
    "# Redução de dimensionalidade"
   ]
  },
  {
   "cell_type": "markdown",
   "metadata": {
    "id": "5B4KH9_YVrmQ"
   },
   "source": [
    "## Preparacão da base de dados"
   ]
  },
  {
   "cell_type": "code",
   "execution_count": null,
   "metadata": {
    "colab": {
     "background_save": true
    },
    "id": "DsluTWi5V_FP",
    "outputId": "cd9687d3-dd11-450d-a411-3a8bbb1c99a7"
   },
   "outputs": [],
   "source": [
    "base_census = pd.read_csv('/content/census.csv')\n",
    "base_census"
   ]
  },
  {
   "cell_type": "code",
   "execution_count": null,
   "metadata": {
    "colab": {
     "background_save": true
    },
    "id": "94tqbsz9WAMt",
    "outputId": "986aa0f3-dab9-41eb-ce1e-ad0501c27271"
   },
   "outputs": [],
   "source": [
    "X_census = base_census.iloc[:, 0:14].values\n",
    "X_census"
   ]
  },
  {
   "cell_type": "code",
   "execution_count": null,
   "metadata": {
    "colab": {
     "background_save": true
    },
    "id": "x1USYftaWDOe",
    "outputId": "986c8441-e7e6-42c6-81fa-6d2120e7c77b"
   },
   "outputs": [],
   "source": [
    "y_census = base_census.iloc[:, 14].values\n",
    "y_census"
   ]
  },
  {
   "cell_type": "code",
   "execution_count": null,
   "metadata": {
    "colab": {
     "background_save": true
    },
    "id": "qXgP6ZIPWFzb"
   },
   "outputs": [],
   "source": [
    "from sklearn.preprocessing import LabelEncoder\n",
    "label_encoder_workclass = LabelEncoder()\n",
    "label_encoder_education = LabelEncoder()\n",
    "label_encoder_marital = LabelEncoder()\n",
    "label_encoder_occupation = LabelEncoder()\n",
    "label_encoder_relationship = LabelEncoder()\n",
    "label_encoder_race = LabelEncoder()\n",
    "label_encoder_sex = LabelEncoder()\n",
    "label_encoder_country = LabelEncoder()"
   ]
  },
  {
   "cell_type": "code",
   "execution_count": null,
   "metadata": {
    "colab": {
     "background_save": true
    },
    "id": "1LqaQSdxWIq6"
   },
   "outputs": [],
   "source": [
    "X_census[:,1] = label_encoder_workclass.fit_transform(X_census[:,1])\n",
    "X_census[:,3] = label_encoder_education.fit_transform(X_census[:,3])\n",
    "X_census[:,5] = label_encoder_marital.fit_transform(X_census[:,5])\n",
    "X_census[:,6] = label_encoder_occupation.fit_transform(X_census[:,6])\n",
    "X_census[:,7] = label_encoder_relationship.fit_transform(X_census[:,7])\n",
    "X_census[:,8] = label_encoder_race.fit_transform(X_census[:,8])\n",
    "X_census[:,9] = label_encoder_sex.fit_transform(X_census[:,9])\n",
    "X_census[:,13] = label_encoder_country.fit_transform(X_census[:,13])"
   ]
  },
  {
   "cell_type": "code",
   "execution_count": null,
   "metadata": {
    "colab": {
     "background_save": true
    },
    "id": "nMLSl29ZWLN6",
    "outputId": "0b2ed5b4-c80b-4bbb-b9e1-a87dfe9611e8"
   },
   "outputs": [],
   "source": [
    "X_census[0]"
   ]
  },
  {
   "cell_type": "code",
   "execution_count": null,
   "metadata": {
    "colab": {
     "background_save": true
    },
    "id": "ZffnFfa3WNy0"
   },
   "outputs": [],
   "source": [
    "from sklearn.preprocessing import StandardScaler\n",
    "scaler_census = StandardScaler()\n",
    "X_census = scaler_census.fit_transform(X_census)"
   ]
  },
  {
   "cell_type": "code",
   "execution_count": null,
   "metadata": {
    "colab": {
     "background_save": true
    },
    "id": "UxEUaDREWQE0",
    "outputId": "9e68db24-7c4a-45e3-a8f3-d362f0d66c6f"
   },
   "outputs": [],
   "source": [
    "X_census"
   ]
  },
  {
   "cell_type": "code",
   "execution_count": null,
   "metadata": {
    "colab": {
     "background_save": true
    },
    "id": "-RUHnOxRWSt6"
   },
   "outputs": [],
   "source": [
    "from sklearn.model_selection import train_test_split\n",
    "X_census_treinamento, X_census_teste, y_census_treinamento, y_census_teste = train_test_split(X_census, y_census, test_size=0.15, random_state=0)"
   ]
  },
  {
   "cell_type": "code",
   "execution_count": null,
   "metadata": {
    "colab": {
     "background_save": true
    },
    "id": "uJ-D02-PWVke",
    "outputId": "34027b04-df49-4f05-a9e2-ed40f784a360"
   },
   "outputs": [],
   "source": [
    "X_census_treinamento.shape, X_census_teste.shape"
   ]
  },
  {
   "cell_type": "markdown",
   "metadata": {
    "id": "6OurC4GyUoak"
   },
   "source": [
    "## PCA (Principal component analysis)"
   ]
  },
  {
   "cell_type": "code",
   "execution_count": null,
   "metadata": {
    "colab": {
     "background_save": true
    },
    "id": "j2adDUMyX3d2"
   },
   "outputs": [],
   "source": [
    "from sklearn.decomposition import PCA"
   ]
  },
  {
   "cell_type": "code",
   "execution_count": null,
   "metadata": {
    "colab": {
     "background_save": true
    },
    "id": "ZmpO8urpX8kz"
   },
   "outputs": [],
   "source": [
    "pca = PCA(n_components=8)"
   ]
  },
  {
   "cell_type": "code",
   "execution_count": null,
   "metadata": {
    "colab": {
     "background_save": true
    },
    "id": "zVHnZ8rYYOeL"
   },
   "outputs": [],
   "source": [
    "X_census_treinamento_pca = pca.fit_transform(X_census_treinamento)\n",
    "X_census_testes_pca = pca.transform(X_census_teste)"
   ]
  },
  {
   "cell_type": "code",
   "execution_count": null,
   "metadata": {
    "colab": {
     "background_save": true
    },
    "id": "5Ouz2wdFYkJh",
    "outputId": "539915c1-98f7-484c-c0fd-286cc204f283"
   },
   "outputs": [],
   "source": [
    "X_census_treinamento_pca.shape, X_census_testes_pca.shape"
   ]
  },
  {
   "cell_type": "code",
   "execution_count": null,
   "metadata": {
    "colab": {
     "background_save": true
    },
    "id": "i06cyMBkYubR",
    "outputId": "43532a1c-997a-4f02-eac6-13a936730a1f"
   },
   "outputs": [],
   "source": [
    "X_census_treinamento"
   ]
  },
  {
   "cell_type": "code",
   "execution_count": null,
   "metadata": {
    "colab": {
     "background_save": true
    },
    "id": "hdBAi-piY28x",
    "outputId": "7d0d64b3-634d-4094-a83e-406fd2ca6e78"
   },
   "outputs": [],
   "source": [
    "pca.explained_variance_ratio_"
   ]
  },
  {
   "cell_type": "code",
   "execution_count": null,
   "metadata": {
    "colab": {
     "background_save": true
    },
    "id": "lBxPFP0VZR1I",
    "outputId": "c137a8b8-c2c0-4331-defa-3d310fa53fb1"
   },
   "outputs": [],
   "source": [
    "pca.explained_variance_ratio_.sum()"
   ]
  },
  {
   "cell_type": "code",
   "execution_count": null,
   "metadata": {
    "colab": {
     "background_save": true
    },
    "id": "D9wUd_b9aBmY"
   },
   "outputs": [],
   "source": [
    "from sklearn.ensemble import RandomForestClassifier"
   ]
  },
  {
   "cell_type": "code",
   "execution_count": null,
   "metadata": {
    "colab": {
     "background_save": true
    },
    "id": "icbXkzMbaNu0",
    "outputId": "13f6f6ae-bce6-406e-d41b-8861a40dbc67"
   },
   "outputs": [],
   "source": [
    "random_forest_census_pca = RandomForestClassifier(n_estimators=40, random_state=0, criterion = 'entropy')\n",
    "random_forest_census_pca.fit(X_census_treinamento_pca, y_census_treinamento)"
   ]
  },
  {
   "cell_type": "code",
   "execution_count": null,
   "metadata": {
    "colab": {
     "background_save": true
    },
    "id": "B4b0SxRvacc1",
    "outputId": "4df251f1-4055-4087-9462-6842bd01c346"
   },
   "outputs": [],
   "source": [
    "previsoes = random_forest_census_pca.predict(X_census_testes_pca)\n",
    "previsoes"
   ]
  },
  {
   "cell_type": "code",
   "execution_count": null,
   "metadata": {
    "colab": {
     "background_save": true
    },
    "id": "L8TTOcS0ai60",
    "outputId": "94eaaf4a-a16c-45ae-bc60-93b370866228"
   },
   "outputs": [],
   "source": [
    "y_census_teste"
   ]
  },
  {
   "cell_type": "code",
   "execution_count": null,
   "metadata": {
    "colab": {
     "background_save": true
    },
    "id": "p585sPd2aoXI",
    "outputId": "29e49626-8aa1-4a56-bb44-363afc44309c"
   },
   "outputs": [],
   "source": [
    "from sklearn.metrics import accuracy_score\n",
    "accuracy_score(y_census_teste, previsoes)"
   ]
  },
  {
   "cell_type": "markdown",
   "metadata": {
    "id": "2UhdSgBmUtJ6"
   },
   "source": [
    "## Kernel PCA"
   ]
  },
  {
   "cell_type": "code",
   "execution_count": null,
   "metadata": {
    "colab": {
     "background_save": true
    },
    "id": "z4ATtNXscFq2"
   },
   "outputs": [],
   "source": [
    "from sklearn.decomposition import KernelPCA"
   ]
  },
  {
   "cell_type": "code",
   "execution_count": null,
   "metadata": {
    "id": "8kB6ZCIvcNb1"
   },
   "outputs": [],
   "source": [
    "kpca = KernelPCA(n_components=8, kernel='rbf')\n",
    "X_census_treinamento_kpca = kpca.fit_transform(X_census_treinamento)\n",
    "X_census_teste_kpca = kpca.transform(X_census_teste)"
   ]
  },
  {
   "cell_type": "code",
   "execution_count": null,
   "metadata": {
    "id": "tswhvRYtdMvr"
   },
   "outputs": [],
   "source": [
    "X_census_treinamento_kpca.shape, X_census_teste_kpca.shape"
   ]
  },
  {
   "cell_type": "code",
   "execution_count": null,
   "metadata": {
    "id": "age1iPvsdZg-"
   },
   "outputs": [],
   "source": [
    "X_census_treinamento_kpca"
   ]
  },
  {
   "cell_type": "code",
   "execution_count": null,
   "metadata": {
    "id": "zVvpcAI1dh07"
   },
   "outputs": [],
   "source": [
    "from sklearn.ensemble import RandomForestClassifier\n",
    "random_forest_census_kpca = RandomForestClassifier(n_estimators = 40, criterion = 'entropy', random_state = 0)\n",
    "random_forest_census_kpca.fit(X_census_treinamento_kpca, y_census_treinamento)"
   ]
  },
  {
   "cell_type": "code",
   "execution_count": null,
   "metadata": {
    "id": "urFlIGbZdy8T"
   },
   "outputs": [],
   "source": [
    "previsoes = random_forest_census_kpca.predict(X_census_teste_kpca)\n",
    "previsoes"
   ]
  },
  {
   "cell_type": "code",
   "execution_count": null,
   "metadata": {
    "id": "vbez-J1hd5jX"
   },
   "outputs": [],
   "source": [
    "y_census_teste"
   ]
  },
  {
   "cell_type": "code",
   "execution_count": null,
   "metadata": {
    "id": "3zGsGiqPd96e"
   },
   "outputs": [],
   "source": [
    "from sklearn.metrics import accuracy_score\n",
    "accuracy_score(y_census_teste, previsoes)"
   ]
  },
  {
   "cell_type": "markdown",
   "metadata": {
    "id": "EGBZZwK2UyK7"
   },
   "source": [
    "## LDA (Linear discriminant analysis)"
   ]
  },
  {
   "cell_type": "code",
   "execution_count": null,
   "metadata": {
    "id": "3RRYZemLenmT"
   },
   "outputs": [],
   "source": [
    "from sklearn.discriminant_analysis import LinearDiscriminantAnalysis\n",
    "lda = LinearDiscriminantAnalysis(n_components = 8)"
   ]
  },
  {
   "cell_type": "code",
   "execution_count": null,
   "metadata": {
    "id": "onA-GJZafCLU"
   },
   "outputs": [],
   "source": [
    "X_census_treinamento_lda = lda.fit_transform(X_census_treinamento, y_census_treinamento)\n",
    "X_census_teste_lda = lda.transform(X_census_teste)"
   ]
  },
  {
   "cell_type": "code",
   "execution_count": null,
   "metadata": {
    "id": "FtE9VvATgUp0"
   },
   "outputs": [],
   "source": [
    "X_census_treinamento_lda.shape, X_census_teste_lda.shape"
   ]
  },
  {
   "cell_type": "code",
   "execution_count": null,
   "metadata": {
    "id": "897lMASDgg5B"
   },
   "outputs": [],
   "source": [
    "X_census_treinamento_lda"
   ]
  },
  {
   "cell_type": "code",
   "execution_count": null,
   "metadata": {
    "id": "0PZNwpOMgnKF"
   },
   "outputs": [],
   "source": [
    "from sklearn.ensemble import RandomForestClassifier\n",
    "random_forest_census_lda = RandomForestClassifier(n_estimators = 40, criterion = 'entropy', random_state = 0)\n",
    "random_forest_census_lda.fit(X_census_treinamento_lda, y_census_treinamento)"
   ]
  },
  {
   "cell_type": "code",
   "execution_count": null,
   "metadata": {
    "id": "j5OlqOPQgtEY"
   },
   "outputs": [],
   "source": [
    "previsoes = random_forest_census_lda.predict(X_census_teste_lda)\n",
    "previsoes"
   ]
  },
  {
   "cell_type": "code",
   "execution_count": null,
   "metadata": {
    "id": "hdgWZxZrgvfj"
   },
   "outputs": [],
   "source": [
    "y_census_teste"
   ]
  },
  {
   "cell_type": "code",
   "execution_count": null,
   "metadata": {
    "id": "cVo2uNwpg4BY"
   },
   "outputs": [],
   "source": [
    "from sklearn.metrics import accuracy_score\n",
    "accuracy_score(y_census_teste, previsoes)"
   ]
  },
  {
   "cell_type": "markdown",
   "metadata": {
    "id": "lAN9s6MVGCcV"
   },
   "source": [
    "# Detecção de outliers"
   ]
  },
  {
   "cell_type": "markdown",
   "metadata": {
    "id": "N7LsjcpzGFpq"
   },
   "source": [
    "## Boxplot"
   ]
  },
  {
   "cell_type": "code",
   "execution_count": null,
   "metadata": {
    "id": "q574sF9YHwqz"
   },
   "outputs": [],
   "source": [
    "base_credit = pd.read_csv('credit_data.csv')\n",
    "base_credit"
   ]
  },
  {
   "cell_type": "code",
   "execution_count": null,
   "metadata": {
    "id": "qkOWG78PH9R8"
   },
   "outputs": [],
   "source": [
    "base_credit.isnull().sum()"
   ]
  },
  {
   "cell_type": "code",
   "execution_count": null,
   "metadata": {
    "id": "24w7M5eFIERf"
   },
   "outputs": [],
   "source": [
    "base_credit.dropna(inplace=True)"
   ]
  },
  {
   "cell_type": "code",
   "execution_count": null,
   "metadata": {
    "id": "_3_ehJfTILFq"
   },
   "outputs": [],
   "source": [
    "base_credit.isnull().sum()"
   ]
  },
  {
   "cell_type": "code",
   "execution_count": null,
   "metadata": {
    "id": "ZApwZVBDIqlk"
   },
   "outputs": [],
   "source": [
    "1997 / 2"
   ]
  },
  {
   "cell_type": "code",
   "execution_count": null,
   "metadata": {
    "id": "0X5P08jPIOom"
   },
   "outputs": [],
   "source": [
    "# Outliers idade\n",
    "grafico = px.box(base_credit, y = 'age')\n",
    "grafico.show()"
   ]
  },
  {
   "cell_type": "code",
   "execution_count": null,
   "metadata": {
    "id": "5fajWlCZJGaI"
   },
   "outputs": [],
   "source": [
    "outliers_age = base_credit[base_credit['age'] < 0]\n",
    "outliers_age"
   ]
  },
  {
   "cell_type": "code",
   "execution_count": null,
   "metadata": {
    "id": "tsyikChNJcFr"
   },
   "outputs": [],
   "source": [
    "# Outliers loan\n",
    "grafico = px.box(base_credit, y='loan')\n",
    "grafico.show()"
   ]
  },
  {
   "cell_type": "code",
   "execution_count": null,
   "metadata": {
    "id": "H_TPDmRXJ2C-"
   },
   "outputs": [],
   "source": [
    "outliers_loan = base_credit[base_credit['loan'] > 13300]\n",
    "outliers_loan"
   ]
  },
  {
   "cell_type": "markdown",
   "metadata": {
    "id": "PM7UI73tGHjP"
   },
   "source": [
    "## Gráfico de dispersão"
   ]
  },
  {
   "cell_type": "code",
   "execution_count": null,
   "metadata": {
    "id": "qtPN5XrYKkvo"
   },
   "outputs": [],
   "source": [
    "# Income x age\n",
    "grafico = px.scatter(x = base_credit['income'], y = base_credit['age'])\n",
    "grafico.show()"
   ]
  },
  {
   "cell_type": "code",
   "execution_count": null,
   "metadata": {
    "id": "u9JyT3mbLCcw"
   },
   "outputs": [],
   "source": [
    "# Income x loan\n",
    "grafico = px.scatter(x = base_credit['income'], y = base_credit['loan'])\n",
    "grafico.show()"
   ]
  },
  {
   "cell_type": "code",
   "execution_count": null,
   "metadata": {
    "id": "cDkWWfJJLXjo"
   },
   "outputs": [],
   "source": [
    "# Age x loan\n",
    "grafico = px.scatter(x = base_credit['age'], y = base_credit['loan'])\n",
    "grafico.show()"
   ]
  },
  {
   "cell_type": "code",
   "execution_count": null,
   "metadata": {
    "id": "4UjrdFLQLgNO"
   },
   "outputs": [],
   "source": [
    "base_census = pd.read_csv('census.csv')\n",
    "base_census"
   ]
  },
  {
   "cell_type": "code",
   "execution_count": null,
   "metadata": {
    "id": "hJ-giwr5LyB7"
   },
   "outputs": [],
   "source": [
    "# Age x final weight\n",
    "grafico = px.scatter(x = base_census['age'], y = base_census['final-weight'])\n",
    "grafico.show()"
   ]
  },
  {
   "cell_type": "markdown",
   "metadata": {
    "id": "wsy_nrrGGKu9"
   },
   "source": [
    "## Biblioteca PyOD\n",
    "\n",
    "- Documentação: https://pyod.readthedocs.io/en/latest/#"
   ]
  },
  {
   "cell_type": "code",
   "execution_count": null,
   "metadata": {
    "id": "o2lZY_j4N56a"
   },
   "outputs": [],
   "source": [
    "!pip install pyod"
   ]
  },
  {
   "cell_type": "code",
   "execution_count": null,
   "metadata": {
    "id": "Yoqk1mtYN_bL"
   },
   "outputs": [],
   "source": [
    "from pyod.models.knn import KNN"
   ]
  },
  {
   "cell_type": "code",
   "execution_count": null,
   "metadata": {
    "id": "rjOmqIMqOITF"
   },
   "outputs": [],
   "source": [
    "base_credit.head(1)"
   ]
  },
  {
   "cell_type": "code",
   "execution_count": null,
   "metadata": {
    "id": "6l8BfXocON9m"
   },
   "outputs": [],
   "source": [
    "detector = KNN()\n",
    "detector.fit(base_credit.iloc[:,1:4])"
   ]
  },
  {
   "cell_type": "code",
   "execution_count": null,
   "metadata": {
    "id": "iy3XL367Osfg"
   },
   "outputs": [],
   "source": [
    "previsoes = detector.labels_\n",
    "previsoes"
   ]
  },
  {
   "cell_type": "code",
   "execution_count": null,
   "metadata": {
    "id": "bMjlDCGJO26w"
   },
   "outputs": [],
   "source": [
    "np.unique(previsoes, return_counts=True)"
   ]
  },
  {
   "cell_type": "code",
   "execution_count": null,
   "metadata": {
    "id": "H1Pj8enEPDr-"
   },
   "outputs": [],
   "source": [
    "confianca_previsoes = detector.decision_scores_\n",
    "confianca_previsoes"
   ]
  },
  {
   "cell_type": "code",
   "execution_count": null,
   "metadata": {
    "id": "T0XnT_AuPUAT"
   },
   "outputs": [],
   "source": [
    "outliers = []\n",
    "for i in range(len(previsoes)):\n",
    "  #print(i)\n",
    "  if previsoes[i] == 1:\n",
    "    outliers.append(i)"
   ]
  },
  {
   "cell_type": "code",
   "execution_count": null,
   "metadata": {
    "id": "kWpwp2GiPqSr"
   },
   "outputs": [],
   "source": [
    "print(outliers)"
   ]
  },
  {
   "cell_type": "code",
   "execution_count": null,
   "metadata": {
    "id": "Ex9RW1LsPvEg"
   },
   "outputs": [],
   "source": [
    "lista_outliers = base_credit.iloc[outliers,:]\n",
    "lista_outliers"
   ]
  }
 ],
 "metadata": {
  "colab": {
   "collapsed_sections": [
    "9JL8G9jQXTLF",
    "JpDM1Er1obkO",
    "cOSLRdDEsWFx",
    "S_jbxLwqu4fQ",
    "g-23aN-nkDQ7",
    "zr9S1fZXRQhg",
    "2GpcvTQauTVx",
    "QGapZ37jkPAn",
    "K2K3Wu8Q4e0E",
    "mHg2BXJR4hpi",
    "bdNbsNLFkWop",
    "q_KOjDv47-IV",
    "zAecbXOi8AzA",
    "Oi9qbert8aMv",
    "L0FGtQLrnN-0",
    "lmXN77tcnP2v",
    "lnC-s4bLnRmt",
    "PfnUWv8SU7ST",
    "TOCiDpHFU90w",
    "ZO-c0InojFK5",
    "0bLyVMFrjGzm",
    "h8ZVuJ-VDE8h",
    "SN9q4qQiDIsi",
    "0v5iHxzcNPNK",
    "e6tDYDLUNUWH"
   ],
   "provenance": []
  },
  "kernelspec": {
   "display_name": "Python 3 (ipykernel)",
   "language": "python",
   "name": "python3"
  },
  "language_info": {
   "codemirror_mode": {
    "name": "ipython",
    "version": 3
   },
   "file_extension": ".py",
   "mimetype": "text/x-python",
   "name": "python",
   "nbconvert_exporter": "python",
   "pygments_lexer": "ipython3",
   "version": "3.11.5"
  }
 },
 "nbformat": 4,
 "nbformat_minor": 4
}
