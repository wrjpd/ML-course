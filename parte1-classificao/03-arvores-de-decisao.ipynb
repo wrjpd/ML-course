{
 "cells": [
  {
   "cell_type": "markdown",
   "id": "e18bf423-f256-4b89-afb5-67a010944b62",
   "metadata": {},
   "source": [
    "# Árvore de decisão"
   ]
  },
  {
   "cell_type": "markdown",
   "id": "68969de6-1580-45fc-9dfb-78b67e4158ce",
   "metadata": {
    "jp-MarkdownHeadingCollapsed": true
   },
   "source": [
    "> Teorias\n",
    ">Árvores de decisão com scikit-learn - base risco de crédito  \n",
    ">Árvores de decisão com scikit-learn - base crédito  \n",
    ">Árvores de decisão com scikit-learn - base censo  \n",
    ">Poda em árvores de decisão\n",
    ">Random Forests"
   ]
  },
  {
   "cell_type": "markdown",
   "id": "d76f3dcc-f20d-4e74-896a-843c2976c06f",
   "metadata": {},
   "source": [
    "<img src=\"./images/arvore-decisao.png\"  width=\"400\">"
   ]
  },
  {
   "cell_type": "markdown",
   "id": "69c71dc9-5ace-4df8-b4cc-e4e8089ce951",
   "metadata": {},
   "source": [
    "## Teoria"
   ]
  },
  {
   "cell_type": "markdown",
   "id": "5f2ac4b7-7539-432e-92f4-83edb272e88e",
   "metadata": {
    "jp-MarkdownHeadingCollapsed": true
   },
   "source": [
    "### Características"
   ]
  },
  {
   "cell_type": "markdown",
   "id": "b069e110-2dde-4252-bf81-e2a9d037151a",
   "metadata": {},
   "source": [
    "**Estrutura Hierárquica:** As árvores de decisão são estruturas hierárquicas que consistem em nós (nós de decisão e nós folha) e ramos (arestas que conectam os nós).  \n",
    "\r\n",
    "**Divisão Recursiva:** O processo de construção de uma árvore de decisão envolve a divisão recursiva do conjunto de dados com base em características específicas. Isso ajuda a separar os dados em subconjuntos mais homogêneo  .\r\n",
    "\r\n",
    "**Decisões em Nós de Decisão:** Os nós de decisão na árvore contêm condições que são avaliadas com base em uma característica do conjunto de dados. Essas condições determinam a direção em que o algoritmo segue os ramos da árv  re.\r\n",
    "\r\n",
    "**Folhas de Decisão:** As folhas da árvore representam as decisões finais ou saídas do modelo. Cada folha está associada a uma classe ou valor de   aída.\r\n",
    "\r\n",
    "**Seleção de Características:** As árvores de decisão podem escolher as melhores características (atributos) para divisão com base em critérios de seleção, como ganho de informação, índice Gini ou erro quadrátic   médio.\r\n",
    "\r\n",
    "**Interpretabilidade:** São altamente interpretáveis porque as regras de decisão são claras e podem ser visualizadas facilmente. Isso torna as árvores de decisão uma escolha popular quando a interpretabilidade é i  portante.\r\n",
    "\r\n",
    "**Aprendizado Supervisionado:** As árvores de decisão são usadas principalmente em tarefas de aprendizado supervisionado, onde os rótulos das classes são conhecidos para o conjunto de   \n",
    "einamento.\r\n",
    "\r\n",
    "**Manuseio de Dados Categóricos e Numéricos:** Elas podem lidar com dados categóricos e numéricos, tornando-as versáteis para muitos tipos de conju  tos de dados.\r\n",
    "\r\n",
    "**Robustez a Dados Irrelevantes:** São geralmente robustas a dados irrelevantes ou ruídos, mas podem ser sensíveis a overfitting se não forem adequa  amente podadas.\r\n",
    "\r\n",
    "**Potencial para Overfitting:** Árvores de decisão podem se tornar muito complexas e se ajustar demais (overfitting) aos dados de treinamento se não forem controla  as adequadamente.\r\n",
    "\r\n",
    "**Bias em Direção às Classes Majoritárias:** Em problemas de classificação desequilibrados, as árvores de decisão tendem a ser tendenciosas em direção às classes majoritárias, a menos que medidas adeq  adas sejam tomadas.\r\n",
    "\r\n",
    "**Combinação de Árvores (Ensembles):** Para melhorar o desempenho e reduzir o overfitting, é comum usar técnicas de combinação de árvores, como Random Forest   e Gradient Boosting.\r\n",
    "\r\n",
    "**Requer Pré-processamento de Dados:** É importante realizar pré-processamento de dados, como tratamento de valores ausentes e codificação de variáveis categóricas, antes de construi   uma árvore de decisão.\r\n",
    "\r\n",
    "**Não Linearidade Limitada:** Embora as árvores de decisão sejam capazes de capturar relações não lineares nos dados, sua capacidade de modelar relações complexas é limitada em comparação com   lgoritmos mais avançados.\r\n",
    "\r\n",
    "**Uso em Regressão:** Além da classificação, as árvores de decisão também podem ser usadas para tarefas de regressão, onde   \n",
    "saída é um valor numérico.\r\n",
    "\r\n",
    "**Eficiência de Tempo:** A construção de árvores de decisão pode ser computacionalmente intensiva para conjuntos de dados muito grandes devido à busca exaustiva por melhores divisões.\r\n",
    "iva por melhores divisões."
   ]
  },
  {
   "cell_type": "markdown",
   "id": "637be314-9522-4b68-b80b-28391cb406ba",
   "metadata": {},
   "source": [
    "<img src=\"./images/arvore-decisao.png\" width=\"400\">"
   ]
  },
  {
   "cell_type": "markdown",
   "id": "a0c1b5ba-3c85-4872-b812-a930107f594f",
   "metadata": {},
   "source": [
    "Para descobrirmos as colunas a serem colocadas em qual ramificação da árvore, precisamos calcular o ganho e a entropia de cada coluna.  \n",
    "Os atributos no topo da árvore são considerados mais importantes, ou seja, possuem mais informação.\n"
   ]
  },
  {
   "cell_type": "markdown",
   "id": "f323fe1b-33b2-4458-9388-689af3f3e3a0",
   "metadata": {},
   "source": [
    "$$\n",
    "H(y) = -\\sum\\limits_{i=1}^{n}p(x_i)\\log_2p(x_i)  \n",
    "$$\n",
    "$$\n",
    "G(y,x) = H(y) - \\sum\\limits_{i\\in x}p(x_i) H(x)\n",
    "$$\n",
    "\n",
    "onde y é a variável classe e x a variável previsora."
   ]
  },
  {
   "cell_type": "markdown",
   "id": "90fad9d5-eb6e-4957-bc83-09a289121234",
   "metadata": {},
   "source": [
    "### Vantagens \n",
    "* Fácil interpretação\n",
    "* Não precisa de normalização ou padronização\n",
    "* Rápido para classificar novos registros"
   ]
  },
  {
   "cell_type": "markdown",
   "id": "836ff830-96e2-4694-bf45-2f2a73e79c00",
   "metadata": {},
   "source": [
    "### Desvantagens\n",
    "* Tendência ao overfitting  \n",
    "* Geração de árvores muito complexas\n",
    "* Pequenas mudanças nos dados pode mudar a árvore(poda pode ajudar)\n",
    "* Problema NP-completo para construir a árvore"
   ]
  },
  {
   "cell_type": "markdown",
   "id": "596d46c4-cbe0-4305-b4c2-2c7c6e7bb946",
   "metadata": {},
   "source": [
    "### Podas em árvores de decisão\n",
    "* Bia(viés)\n",
    "    * Erros por classificação errada;\n",
    "* Variância\n",
    "    * Erros por sensibilidades pequena a mudanças na base de treinamento;\n",
    "    * Pode levara overfitting;   "
   ]
  },
  {
   "cell_type": "markdown",
   "id": "7282ad27-bc26-42d0-8909-1b2be79800d3",
   "metadata": {},
   "source": [
    "## Importações"
   ]
  },
  {
   "cell_type": "markdown",
   "id": "4a1830ee-e274-4c3b-90f5-7bc652fee1a3",
   "metadata": {},
   "source": [
    "```\n",
    "from sklearn.tree import DecisionTreeClassifier\n",
    "```"
   ]
  },
  {
   "cell_type": "code",
   "execution_count": 3,
   "id": "78d8e639-82d8-4108-9306-2a856b83b841",
   "metadata": {},
   "outputs": [],
   "source": [
    "import pandas as pd\n",
    "import pickle"
   ]
  },
  {
   "cell_type": "markdown",
   "id": "e4ebe4d0-d536-43bd-8d82-9902b2a321d8",
   "metadata": {},
   "source": [
    "## Base risco crédito"
   ]
  },
  {
   "cell_type": "code",
   "execution_count": 7,
   "id": "9a1e6d19-b4ab-48fb-8d61-12ce7bc142bc",
   "metadata": {},
   "outputs": [],
   "source": [
    "with open(\"./data_processed/risco_credito.pkl\",'rb') as f:\n",
    "    X_risco_credito,y_risco_credito=pickle.load(f)"
   ]
  },
  {
   "cell_type": "code",
   "execution_count": 8,
   "id": "4610d74d-94e8-41cf-9eff-175a51688a2b",
   "metadata": {},
   "outputs": [
    {
     "data": {
      "text/plain": [
       "array([[2, 0, 1, 0],\n",
       "       [1, 0, 1, 1],\n",
       "       [1, 1, 1, 1],\n",
       "       [1, 1, 1, 2],\n",
       "       [1, 1, 1, 2],\n",
       "       [1, 1, 0, 2],\n",
       "       [2, 1, 1, 0],\n",
       "       [2, 1, 0, 2],\n",
       "       [0, 1, 1, 2],\n",
       "       [0, 0, 0, 2],\n",
       "       [0, 0, 1, 0],\n",
       "       [0, 0, 1, 1],\n",
       "       [0, 0, 1, 2],\n",
       "       [2, 0, 1, 1]], dtype=object)"
      ]
     },
     "execution_count": 8,
     "metadata": {},
     "output_type": "execute_result"
    }
   ],
   "source": [
    "X_risco_credito"
   ]
  },
  {
   "cell_type": "code",
   "execution_count": null,
   "id": "5a5d3c83-3918-4846-bb00-5732e9c9c73d",
   "metadata": {},
   "outputs": [],
   "source": []
  },
  {
   "cell_type": "code",
   "execution_count": null,
   "id": "d95f0752-5b40-48b1-bb5f-24123a7dbbc0",
   "metadata": {},
   "outputs": [],
   "source": []
  }
 ],
 "metadata": {
  "kernelspec": {
   "display_name": "Python 3 (ipykernel)",
   "language": "python",
   "name": "python3"
  },
  "language_info": {
   "codemirror_mode": {
    "name": "ipython",
    "version": 3
   },
   "file_extension": ".py",
   "mimetype": "text/x-python",
   "name": "python",
   "nbconvert_exporter": "python",
   "pygments_lexer": "ipython3",
   "version": "3.11.5"
  }
 },
 "nbformat": 4,
 "nbformat_minor": 5
}
